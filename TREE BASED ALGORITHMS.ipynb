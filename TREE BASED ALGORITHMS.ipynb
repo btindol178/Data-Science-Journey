{
 "cells": [
  {
   "cell_type": "markdown",
   "metadata": {},
   "source": [
    "# TREE BASED ML MODELS"
   ]
  },
  {
   "cell_type": "code",
   "execution_count": 1,
   "metadata": {},
   "outputs": [
    {
     "name": "stdout",
     "output_type": "stream",
     "text": [
      "'data.frame':\t1000 obs. of  17 variables:\n",
      " $ ï..checking_balance : Factor w/ 4 levels \"< 0 DM\",\"> 200 DM\",..: 1 3 4 1 1 4 4 3 4 3 ...\n",
      " $ months_loan_duration: int  6 48 12 42 24 36 24 36 12 30 ...\n",
      " $ credit_history      : Factor w/ 5 levels \"critical\",\"good\",..: 1 2 1 2 4 2 2 2 2 1 ...\n",
      " $ purpose             : Factor w/ 6 levels \"business\",\"car\",..: 5 5 4 5 2 4 5 2 5 2 ...\n",
      " $ amount              : int  1169 5951 2096 7882 4870 9055 2835 6948 3059 5234 ...\n",
      " $ savings_balance     : Factor w/ 5 levels \"< 100 DM\",\"> 1000 DM\",..: 5 1 1 1 1 5 4 1 2 1 ...\n",
      " $ employment_duration : Factor w/ 5 levels \"< 1 year\",\"> 7 years\",..: 2 3 4 4 3 3 2 3 4 5 ...\n",
      " $ percent_of_income   : int  4 2 2 2 3 2 3 2 2 4 ...\n",
      " $ years_at_residence  : int  4 2 3 4 4 4 4 2 4 2 ...\n",
      " $ age                 : int  67 22 49 45 53 35 53 35 61 28 ...\n",
      " $ other_credit        : Factor w/ 3 levels \"bank\",\"none\",..: 2 2 2 2 2 2 2 2 2 2 ...\n",
      " $ housing             : Factor w/ 3 levels \"other\",\"own\",..: 2 2 2 1 1 1 2 3 2 2 ...\n",
      " $ existing_loans_count: int  2 1 1 1 2 1 1 1 1 2 ...\n",
      " $ job                 : Factor w/ 4 levels \"management\",\"skilled\",..: 2 2 4 2 2 4 2 1 4 1 ...\n",
      " $ dependents          : int  1 1 2 2 2 2 1 1 1 1 ...\n",
      " $ phone               : Factor w/ 2 levels \"no\",\"yes\": 2 1 1 1 1 2 1 2 1 1 ...\n",
      " $ default             : Factor w/ 2 levels \"no\",\"yes\": 1 2 1 1 2 1 1 1 1 2 ...\n"
     ]
    }
   ],
   "source": [
    "#Classification Trees\n",
    "df <- read.csv(\"default.csv\")\n",
    "\n",
    "str(df)"
   ]
  },
  {
   "cell_type": "code",
   "execution_count": 2,
   "metadata": {},
   "outputs": [
    {
     "name": "stderr",
     "output_type": "stream",
     "text": [
      "Installing package into 'C:/Users/blake/Documents/R/win-library/3.6'\n",
      "(as 'lib' is unspecified)\n"
     ]
    },
    {
     "name": "stdout",
     "output_type": "stream",
     "text": [
      "package 'rpart' successfully unpacked and MD5 sums checked\n"
     ]
    },
    {
     "name": "stderr",
     "output_type": "stream",
     "text": [
      "Warning message:\n",
      "\"cannot remove prior installation of package 'rpart'\"Warning message in file.copy(savedcopy, lib, recursive = TRUE):\n",
      "\"problem copying C:\\Users\\blake\\Documents\\R\\win-library\\3.6\\00LOCK\\rpart\\libs\\x64\\rpart.dll to C:\\Users\\blake\\Documents\\R\\win-library\\3.6\\rpart\\libs\\x64\\rpart.dll: Permission denied\"Warning message:\n",
      "\"restored 'rpart'\""
     ]
    },
    {
     "name": "stdout",
     "output_type": "stream",
     "text": [
      "\n",
      "The downloaded binary packages are in\n",
      "\tC:\\Users\\blake\\AppData\\Local\\Temp\\Rtmpyykm62\\downloaded_packages\n"
     ]
    },
    {
     "name": "stderr",
     "output_type": "stream",
     "text": [
      "Warning message:\n",
      "\"package 'rpart' was built under R version 3.6.3\"Installing package into 'C:/Users/blake/Documents/R/win-library/3.6'\n",
      "(as 'lib' is unspecified)\n"
     ]
    },
    {
     "name": "stdout",
     "output_type": "stream",
     "text": [
      "package 'rpart.plot' successfully unpacked and MD5 sums checked\n",
      "\n",
      "The downloaded binary packages are in\n",
      "\tC:\\Users\\blake\\AppData\\Local\\Temp\\Rtmpyykm62\\downloaded_packages\n"
     ]
    },
    {
     "name": "stderr",
     "output_type": "stream",
     "text": [
      "Warning message:\n",
      "\"package 'rpart.plot' was built under R version 3.6.3\""
     ]
    }
   ],
   "source": [
    "# Make decision tree using RPART Package\n",
    "install.packages(\"rpart\")\n",
    "library(rpart)\n",
    "install.packages(\"rpart.plot\")\n",
    "library(rpart.plot)\n"
   ]
  },
  {
   "cell_type": "code",
   "execution_count": 3,
   "metadata": {},
   "outputs": [
    {
     "data": {
      "image/png": "[encoded data removed]",
      "text/plain": [
       "plot without title"
      ]
     },
     "metadata": {},
     "output_type": "display_data"
    }
   ],
   "source": [
    "# Create the model\n",
    "credit_model <- rpart(formula = default ~ ., \n",
    "                      data = df, \n",
    "                      method = \"class\")\n",
    "\n",
    "# Display the results \n",
    "rpart.plot(x = credit_model, yesno = 2, type = 0, extra = 0)\n"
   ]
  },
  {
   "cell_type": "code",
   "execution_count": 4,
   "metadata": {},
   "outputs": [],
   "source": [
    "# Train/Test Split\n",
    "n <- nrow(df)\n",
    "\n",
    "# number of rows for the training set 80% \n",
    "n_train <- round(0.80 * n)\n",
    "\n",
    "# Set random seed\n",
    "set.seed(55)\n",
    "\n",
    "# Create a vector of indices which is 80% randome sample\n",
    "train_indicies <- sample(1:n, n_train)\n",
    "\n",
    "# subset the data to train indices only\n",
    "train_df <- df[train_indicies, ]\n",
    "\n",
    "# subset for test set\n",
    "test_df <- df[-train_indicies,]"
   ]
  },
  {
   "cell_type": "code",
   "execution_count": 5,
   "metadata": {},
   "outputs": [
    {
     "name": "stdout",
     "output_type": "stream",
     "text": [
      "n= 800 \n",
      "\n",
      "node), split, n, loss, yval, (yprob)\n",
      "      * denotes terminal node\n",
      "\n",
      "  1) root 800 239 no (0.70125000 0.29875000)  \n",
      "    2) ï..checking_balance=> 200 DM,unknown 367  41 no (0.88828338 0.11171662) *\n",
      "    3) ï..checking_balance=< 0 DM,1 - 200 DM 433 198 no (0.54272517 0.45727483)  \n",
      "      6) months_loan_duration< 22.5 246  87 no (0.64634146 0.35365854)  \n",
      "       12) credit_history=critical,good,poor 221  69 no (0.68778281 0.31221719)  \n",
      "         24) months_loan_duration< 11.5 61  11 no (0.81967213 0.18032787)  \n",
      "           48) age>=24.5 54   6 no (0.88888889 0.11111111) *\n",
      "           49) age< 24.5 7   2 yes (0.28571429 0.71428571) *\n",
      "         25) months_loan_duration>=11.5 160  58 no (0.63750000 0.36250000)  \n",
      "           50) amount>=954.5 134  41 no (0.69402985 0.30597015) *\n",
      "           51) amount< 954.5 26   9 yes (0.34615385 0.65384615) *\n",
      "       13) credit_history=perfect,very good 25   7 yes (0.28000000 0.72000000) *\n",
      "      7) months_loan_duration>=22.5 187  76 yes (0.40641711 0.59358289)  \n",
      "       14) savings_balance=> 1000 DM,unknown 32  11 no (0.65625000 0.34375000)  \n",
      "         28) ï..checking_balance=1 - 200 DM 18   1 no (0.94444444 0.05555556) *\n",
      "         29) ï..checking_balance=< 0 DM 14   4 yes (0.28571429 0.71428571) *\n",
      "       15) savings_balance=< 100 DM,100 - 500 DM,500 - 1000 DM 155  55 yes (0.35483871 0.64516129)  \n",
      "         30) months_loan_duration< 43.5 121  50 yes (0.41322314 0.58677686)  \n",
      "           60) employment_duration=> 7 years,4 - 7 years,unemployed 57  28 no (0.50877193 0.49122807)  \n",
      "            120) age>=28.5 42  17 no (0.59523810 0.40476190) *\n",
      "            121) age< 28.5 15   4 yes (0.26666667 0.73333333) *\n",
      "           61) employment_duration=< 1 year,1 - 4 years 64  21 yes (0.32812500 0.67187500) *\n",
      "         31) months_loan_duration>=43.5 34   5 yes (0.14705882 0.85294118) *\n"
     ]
    }
   ],
   "source": [
    "# Train the model to predict \"will wait\" bonary response\n",
    "credit_model <- rpart(formula = default ~ ., \n",
    "                      data = train_df, \n",
    "                      method = \"class\")\n",
    "\n",
    "# Look at the model output                      \n",
    "print(credit_model)\n"
   ]
  },
  {
   "cell_type": "code",
   "execution_count": 6,
   "metadata": {},
   "outputs": [],
   "source": [
    "# Now predict test set\n",
    "# Generate predicted classes using the model object\n",
    "class_prediction <- predict(object = credit_model,  \n",
    "                            newdata = test_df,  \n",
    "                            type = \"class\")    \n",
    "\n",
    "#OR make a new column of predicted values \n",
    "df$class_prediction <- predict(object = credit_model,  \n",
    "                               newdata = test_df,  \n",
    "                               type = \"class\")    \n"
   ]
  },
  {
   "cell_type": "code",
   "execution_count": 7,
   "metadata": {},
   "outputs": [
    {
     "name": "stderr",
     "output_type": "stream",
     "text": [
      "Installing package into 'C:/Users/blake/Documents/R/win-library/3.6'\n",
      "(as 'lib' is unspecified)\n"
     ]
    },
    {
     "name": "stdout",
     "output_type": "stream",
     "text": [
      "package 'caret' successfully unpacked and MD5 sums checked\n"
     ]
    },
    {
     "name": "stderr",
     "output_type": "stream",
     "text": [
      "Warning message:\n",
      "\"cannot remove prior installation of package 'caret'\"Warning message in file.copy(savedcopy, lib, recursive = TRUE):\n",
      "\"problem copying C:\\Users\\blake\\Documents\\R\\win-library\\3.6\\00LOCK\\caret\\libs\\x64\\caret.dll to C:\\Users\\blake\\Documents\\R\\win-library\\3.6\\caret\\libs\\x64\\caret.dll: Permission denied\"Warning message:\n",
      "\"restored 'caret'\""
     ]
    },
    {
     "name": "stdout",
     "output_type": "stream",
     "text": [
      "\n",
      "The downloaded binary packages are in\n",
      "\tC:\\Users\\blake\\AppData\\Local\\Temp\\Rtmpyykm62\\downloaded_packages\n"
     ]
    },
    {
     "name": "stderr",
     "output_type": "stream",
     "text": [
      "Warning message:\n",
      "\"package 'caret' was built under R version 3.6.3\"Loading required package: lattice\n",
      "Loading required package: ggplot2\n",
      "Warning message:\n",
      "\"package 'ggplot2' was built under R version 3.6.2\""
     ]
    },
    {
     "data": {
      "text/plain": [
       "Confusion Matrix and Statistics\n",
       "\n",
       "          Reference\n",
       "Prediction  no yes\n",
       "       no  116  41\n",
       "       yes  23  20\n",
       "                                         \n",
       "               Accuracy : 0.68           \n",
       "                 95% CI : (0.6105, 0.744)\n",
       "    No Information Rate : 0.695          \n",
       "    P-Value [Acc > NIR] : 0.70695        \n",
       "                                         \n",
       "                  Kappa : 0.1771         \n",
       "                                         \n",
       " Mcnemar's Test P-Value : 0.03359        \n",
       "                                         \n",
       "            Sensitivity : 0.8345         \n",
       "            Specificity : 0.3279         \n",
       "         Pos Pred Value : 0.7389         \n",
       "         Neg Pred Value : 0.4651         \n",
       "             Prevalence : 0.6950         \n",
       "         Detection Rate : 0.5800         \n",
       "   Detection Prevalence : 0.7850         \n",
       "      Balanced Accuracy : 0.5812         \n",
       "                                         \n",
       "       'Positive' Class : no             \n",
       "                                         "
      ]
     },
     "metadata": {},
     "output_type": "display_data"
    }
   ],
   "source": [
    "# Find Model accuracy using Confusion Matrix\n",
    "install.packages(\"caret\")\n",
    "library(caret)\n",
    "\n",
    "# Calculate the confusion matrix for the test set\n",
    "confusionMatrix(data = class_prediction,         \n",
    "                reference = test_df$default) "
   ]
  },
  {
   "cell_type": "code",
   "execution_count": 8,
   "metadata": {},
   "outputs": [],
   "source": [
    "# Splitting Criteria of Trees!!!!!!!!\n",
    "# splitting data into pure regions with one type of class\n",
    "# decision boundtries is what splits tree\n",
    "# how to determine best split\n",
    "# More homogeneous = more pure\n",
    "# impurity measure is gini indix (lower gini index the more pure!)\n",
    "# Train a gini-based model\n",
    "credit_model1 <- rpart(formula = default ~ ., \n",
    "                       data = train_df, \n",
    "                       method = \"class\",\n",
    "                       parms = list(split = \"gini\"))\n",
    "\n",
    "# Train an information-based model\n",
    "credit_model2 <- rpart(formula = default ~ ., \n",
    "                       data = train_df, \n",
    "                       method = \"class\",\n",
    "                       parms = list(split = \"information\"))\n"
   ]
  },
  {
   "cell_type": "code",
   "execution_count": 9,
   "metadata": {},
   "outputs": [
    {
     "data": {
      "text/html": [
       "0.32"
      ],
      "text/latex": [
       "0.32"
      ],
      "text/markdown": [
       "0.32"
      ],
      "text/plain": [
       "[1] 0.32"
      ]
     },
     "metadata": {},
     "output_type": "display_data"
    },
    {
     "data": {
      "text/html": [
       "0.32"
      ],
      "text/latex": [
       "0.32"
      ],
      "text/markdown": [
       "0.32"
      ],
      "text/plain": [
       "[1] 0.32"
      ]
     },
     "metadata": {},
     "output_type": "display_data"
    }
   ],
   "source": [
    "# Generate predictions on the validation set using the gini model\n",
    "pred_dt1 <- predict(object = credit_model1,\n",
    "                 newdata = test_df,\n",
    "                 type = \"class\") \n",
    "\n",
    "# Generate predictions on the validation set using the information model\n",
    "pred_dt2 <- predict(object = credit_model2, \n",
    "                 newdata = test_df,\n",
    "                 type = \"class\")\n",
    "\n",
    "# Compare classification error\n",
    "Metrics::ce(actual = test_df$default, \n",
    "   predicted = pred_dt1)\n",
    "Metrics::ce(actual = test_df$default, \n",
    "   predicted = pred_dt2)    \n"
   ]
  },
  {
   "cell_type": "markdown",
   "metadata": {},
   "source": [
    "# Regression Trees"
   ]
  },
  {
   "cell_type": "code",
   "execution_count": 12,
   "metadata": {},
   "outputs": [
    {
     "name": "stdout",
     "output_type": "stream",
     "text": [
      "'data.frame':\t395 obs. of  8 variables:\n",
      " $ final_grade: num  3 3 5 7.5 5 7.5 5.5 3 9.5 7.5 ...\n",
      " $ age        : int  18 17 15 15 16 16 16 17 15 15 ...\n",
      " $ address    : Factor w/ 2 levels \"R\",\"U\": 2 2 2 2 2 2 2 2 2 2 ...\n",
      " $ studytime  : int  2 2 2 3 2 2 2 2 2 2 ...\n",
      " $ schoolsup  : Factor w/ 2 levels \"no\",\"yes\": 2 1 2 1 1 1 1 2 1 1 ...\n",
      " $ famsup     : Factor w/ 2 levels \"no\",\"yes\": 1 2 1 2 2 2 1 2 2 2 ...\n",
      " $ paid       : Factor w/ 2 levels \"no\",\"yes\": 1 1 2 2 2 2 1 1 2 2 ...\n",
      " $ absences   : int  6 4 10 2 4 10 0 6 0 0 ...\n"
     ]
    }
   ],
   "source": [
    "#Regression Tree Models!!!!!!!!!!!!!\n",
    "grade <- read.csv(\"grades.csv\") \n",
    "colnames(grade)[1] <- \"final_grade\"\n",
    "str(grade)"
   ]
  },
  {
   "cell_type": "code",
   "execution_count": 13,
   "metadata": {},
   "outputs": [],
   "source": [
    "# Set seed and create assignment \n",
    "set.seed(1)\n",
    "assignment <- sample(1:3, size = nrow(grade), prob = c(0.7, 0.15, 0.15), replace = TRUE)\n",
    "\n",
    "# Create a train, validation and tests from the original data frame \n",
    "grade_train <- grade[assignment == 1, ]  # subset grade to training indices only\n",
    "grade_valid <- grade[assignment == 2, ]  # subset grade to validation indices only\n",
    "grade_test <- grade[assignment == 3, ]   # subset grade to test indices only\n"
   ]
  },
  {
   "cell_type": "code",
   "execution_count": 14,
   "metadata": {},
   "outputs": [
    {
     "name": "stdout",
     "output_type": "stream",
     "text": [
      "n= 282 \n",
      "\n",
      "node), split, n, deviance, yval\n",
      "      * denotes terminal node\n",
      "\n",
      " 1) root 282 1519.49700 5.271277  \n",
      "   2) absences< 0.5 82  884.18600 4.323171  \n",
      "     4) paid=no 50  565.50500 3.430000  \n",
      "       8) famsup=yes 22  226.36360 2.272727 *\n",
      "       9) famsup=no 28  286.52680 4.339286 *\n",
      "     5) paid=yes 32  216.46880 5.718750  \n",
      "      10) age>=17.5 10   82.90000 4.100000 *\n",
      "      11) age< 17.5 22   95.45455 6.454545 *\n",
      "   3) absences>=0.5 200  531.38000 5.660000  \n",
      "     6) absences>=13.5 42  111.61900 4.904762 *\n",
      "     7) absences< 13.5 158  389.43670 5.860759  \n",
      "      14) schoolsup=yes 23   50.21739 4.847826 *\n",
      "      15) schoolsup=no 135  311.60000 6.033333  \n",
      "        30) studytime< 3.5 127  276.30710 5.940945 *\n",
      "        31) studytime>=3.5 8   17.00000 7.500000 *\n"
     ]
    }
   ],
   "source": [
    "# Train the model\n",
    "grade_model <- rpart(formula = final_grade ~ ., \n",
    "                     data = grade_train, \n",
    "                     method = \"anova\") # only change it to anova for regression\n",
    "\n",
    "# Look at the model output                      \n",
    "print(grade_model)"
   ]
  },
  {
   "cell_type": "code",
   "execution_count": 15,
   "metadata": {},
   "outputs": [
    {
     "data": {
      "image/png": "[encoded data removed]",
      "text/plain": [
       "plot without title"
      ]
     },
     "metadata": {},
     "output_type": "display_data"
    }
   ],
   "source": [
    "# Plot the tree model\n",
    "rpart.plot(x = grade_model, yesno = 2, type = 0, extra = 0)\n"
   ]
  },
  {
   "cell_type": "code",
   "execution_count": 16,
   "metadata": {},
   "outputs": [
    {
     "name": "stderr",
     "output_type": "stream",
     "text": [
      "Installing package into 'C:/Users/blake/Documents/R/win-library/3.6'\n",
      "(as 'lib' is unspecified)\n"
     ]
    },
    {
     "name": "stdout",
     "output_type": "stream",
     "text": [
      "package 'Metrics' successfully unpacked and MD5 sums checked\n",
      "\n",
      "The downloaded binary packages are in\n",
      "\tC:\\Users\\blake\\AppData\\Local\\Temp\\Rtmpyykm62\\downloaded_packages\n"
     ]
    },
    {
     "name": "stderr",
     "output_type": "stream",
     "text": [
      "Warning message:\n",
      "\"package 'Metrics' was built under R version 3.6.3\"\n",
      "Attaching package: 'Metrics'\n",
      "\n",
      "The following objects are masked from 'package:caret':\n",
      "\n",
      "    precision, recall\n",
      "\n"
     ]
    },
    {
     "ename": "ERROR",
     "evalue": "Error in se(actual, predicted): object 'pred' not found\n",
     "output_type": "error",
     "traceback": [
      "Error in se(actual, predicted): object 'pred' not found\nTraceback:\n",
      "1. rmse(actual = grade_test$final_grade, predicted = pred)",
      "2. mse(actual, predicted)",
      "3. mean(se(actual, predicted))",
      "4. se(actual, predicted)"
     ]
    }
   ],
   "source": [
    "# EVALUATING MODEL\n",
    "install.packages(\"Metrics\")\n",
    "library(Metrics)\n",
    "\n",
    "\n",
    "# Compute the RMSE\n",
    "rmse(actual = grade_test$final_grade, \n",
    "     predicted = pred)"
   ]
  },
  {
   "cell_type": "code",
   "execution_count": 17,
   "metadata": {},
   "outputs": [
    {
     "data": {
      "image/png": "[encoded data removed]",
      "text/plain": [
       "plot without title"
      ]
     },
     "metadata": {},
     "output_type": "display_data"
    }
   ],
   "source": [
    "# Hyperparameters for tree\n",
    "# rpart.control? for what you can tweak\n",
    "# minsplit minimum number of datapoints reqired to split\n",
    "# cp complexity parameter penalty term to control tree size can see cross validated error (you want minimixed x error)\n",
    "# then use prune to trim tree using that minimised x value\n",
    "# max depth depth of tree\n",
    "\n",
    "# Plot the \"CP Table\"\n",
    "plotcp(grade_model)"
   ]
  },
  {
   "cell_type": "code",
   "execution_count": 18,
   "metadata": {},
   "outputs": [
    {
     "name": "stdout",
     "output_type": "stream",
     "text": [
      "          CP nsplit rel error    xerror       xstd\n",
      "1 0.06839852      0 1.0000000 1.0066743 0.09169976\n",
      "2 0.06726713      1 0.9316015 1.0185398 0.08663026\n",
      "3 0.03462630      2 0.8643344 0.8923588 0.07351895\n",
      "4 0.02508343      3 0.8297080 0.9046335 0.08045100\n",
      "5 0.01995676      4 0.8046246 0.8920489 0.08153881\n",
      "6 0.01817661      5 0.7846679 0.9042142 0.08283114\n",
      "7 0.01203879      6 0.7664912 0.8833557 0.07945742\n",
      "8 0.01000000      7 0.7544525 0.8987112 0.08200148\n"
     ]
    }
   ],
   "source": [
    "# Print the \"CP Table\"\n",
    "print(grade_model$cptable)\n"
   ]
  },
  {
   "cell_type": "code",
   "execution_count": 19,
   "metadata": {},
   "outputs": [
    {
     "data": {
      "image/png": "[encoded data removed]",
      "text/plain": [
       "plot without title"
      ]
     },
     "metadata": {},
     "output_type": "display_data"
    }
   ],
   "source": [
    "# Retrieve optimal cp value based on cross-validated error\n",
    "opt_index <- which.min(grade_model$cptable[, \"xerror\"])\n",
    "cp_opt <- grade_model$cptable[opt_index, \"CP\"]\n",
    "\n",
    "# Prune the model (to optimized cp value)\n",
    "grade_model_opt <- prune(tree = grade_model, \n",
    "                         cp = cp_opt)\n",
    "\n",
    "# Plot the optimized model\n",
    "rpart.plot(x = grade_model_opt, yesno = 2, type = 0, extra = 0)\n"
   ]
  },
  {
   "cell_type": "code",
   "execution_count": 20,
   "metadata": {},
   "outputs": [
    {
     "data": {
      "text/html": [
       "<table>\n",
       "<thead><tr><th scope=col>minsplit</th><th scope=col>maxdepth</th></tr></thead>\n",
       "<tbody>\n",
       "\t<tr><td>1</td><td>1</td></tr>\n",
       "\t<tr><td>2</td><td>1</td></tr>\n",
       "\t<tr><td>3</td><td>1</td></tr>\n",
       "\t<tr><td>4</td><td>1</td></tr>\n",
       "\t<tr><td>1</td><td>2</td></tr>\n",
       "\t<tr><td>2</td><td>2</td></tr>\n",
       "</tbody>\n",
       "</table>\n"
      ],
      "text/latex": [
       "\\begin{tabular}{r|ll}\n",
       " minsplit & maxdepth\\\\\n",
       "\\hline\n",
       "\t 1 & 1\\\\\n",
       "\t 2 & 1\\\\\n",
       "\t 3 & 1\\\\\n",
       "\t 4 & 1\\\\\n",
       "\t 1 & 2\\\\\n",
       "\t 2 & 2\\\\\n",
       "\\end{tabular}\n"
      ],
      "text/markdown": [
       "\n",
       "| minsplit | maxdepth |\n",
       "|---|---|\n",
       "| 1 | 1 |\n",
       "| 2 | 1 |\n",
       "| 3 | 1 |\n",
       "| 4 | 1 |\n",
       "| 1 | 2 |\n",
       "| 2 | 2 |\n",
       "\n"
      ],
      "text/plain": [
       "  minsplit maxdepth\n",
       "1 1        1       \n",
       "2 2        1       \n",
       "3 3        1       \n",
       "4 4        1       \n",
       "5 1        2       \n",
       "6 2        2       "
      ]
     },
     "metadata": {},
     "output_type": "display_data"
    }
   ],
   "source": [
    "# HYPER PERAMETER SELECTION!\n",
    "# Grid search for model selection\n",
    "# Establish a list of possible values for minsplit and maxdepth\n",
    "minsplit <- seq(1, 4, 1)\n",
    "maxdepth <- seq(1, 6, 1)\n",
    "\n",
    "# Create a data frame containing all combinations \n",
    "hyper_grid <- expand.grid(minsplit = minsplit, maxdepth = maxdepth)\n",
    "\n",
    "# Check out the grid\n",
    "head(hyper_grid)"
   ]
  },
  {
   "cell_type": "code",
   "execution_count": 21,
   "metadata": {},
   "outputs": [
    {
     "data": {
      "text/html": [
       "24"
      ],
      "text/latex": [
       "24"
      ],
      "text/markdown": [
       "24"
      ],
      "text/plain": [
       "[1] 24"
      ]
     },
     "metadata": {},
     "output_type": "display_data"
    }
   ],
   "source": [
    "# Print the number of grid combinations\n",
    "nrow(hyper_grid)\n",
    "\n",
    "# Number of potential models in the grid\n",
    "num_models <- nrow(hyper_grid)\n",
    "\n",
    "# Create an empty list to store models\n",
    "grade_models <- list()\n",
    "\n",
    "# Write a loop over the rows of hyper_grid to train the grid of models\n",
    "for (i in 1:num_models) {\n",
    "  \n",
    "  # Get minsplit, maxdepth values at row i\n",
    "  minsplit <- hyper_grid$minsplit[i]\n",
    "  maxdepth <- hyper_grid$maxdepth[i]\n",
    "  \n",
    "  # Train a model and store in the list\n",
    "  grade_models[[i]] <- rpart(formula = final_grade ~ ., \n",
    "                             data = grade_train, \n",
    "                             method = \"anova\",\n",
    "                             minsplit = minsplit,\n",
    "                             maxdepth = maxdepth)\n",
    "}\n"
   ]
  },
  {
   "cell_type": "code",
   "execution_count": 26,
   "metadata": {},
   "outputs": [],
   "source": [
    "# Number of potential models in the grid\n",
    "num_models <- length(grade_models)\n",
    "\n",
    "# Create an empty vector to store RMSE values\n",
    "rmse_values <- c()\n",
    "\n",
    "# Write a loop over the models to compute validation RMSE\n",
    "for (i in 1:num_models) {\n",
    "  \n",
    "  # Retrieve the i^th model from the list\n",
    "  model <- grade_models[[i]]\n",
    "  \n",
    "  # Generate predictions on grade_valid \n",
    "  pred <- predict(object = model,\n",
    "                  newdata = grade_valid)\n",
    "  \n",
    "  # Compute validation RMSE and add to the \n",
    "  rmse_values[i] <- rmse(actual = grade_valid$final_grade, \n",
    "                         predicted = pred)\n",
    "}\n"
   ]
  },
  {
   "cell_type": "code",
   "execution_count": 30,
   "metadata": {},
   "outputs": [
    {
     "data": {
      "text/html": [
       "<dl>\n",
       "\t<dt>$minsplit</dt>\n",
       "\t\t<dd>2</dd>\n",
       "\t<dt>$minbucket</dt>\n",
       "\t\t<dd>1</dd>\n",
       "\t<dt>$cp</dt>\n",
       "\t\t<dd>0.01</dd>\n",
       "\t<dt>$maxcompete</dt>\n",
       "\t\t<dd>4</dd>\n",
       "\t<dt>$maxsurrogate</dt>\n",
       "\t\t<dd>5</dd>\n",
       "\t<dt>$usesurrogate</dt>\n",
       "\t\t<dd>2</dd>\n",
       "\t<dt>$surrogatestyle</dt>\n",
       "\t\t<dd>0</dd>\n",
       "\t<dt>$maxdepth</dt>\n",
       "\t\t<dd>1</dd>\n",
       "\t<dt>$xval</dt>\n",
       "\t\t<dd>10</dd>\n",
       "</dl>\n"
      ],
      "text/latex": [
       "\\begin{description}\n",
       "\\item[\\$minsplit] 2\n",
       "\\item[\\$minbucket] 1\n",
       "\\item[\\$cp] 0.01\n",
       "\\item[\\$maxcompete] 4\n",
       "\\item[\\$maxsurrogate] 5\n",
       "\\item[\\$usesurrogate] 2\n",
       "\\item[\\$surrogatestyle] 0\n",
       "\\item[\\$maxdepth] 1\n",
       "\\item[\\$xval] 10\n",
       "\\end{description}\n"
      ],
      "text/markdown": [
       "$minsplit\n",
       ":   2\n",
       "$minbucket\n",
       ":   1\n",
       "$cp\n",
       ":   0.01\n",
       "$maxcompete\n",
       ":   4\n",
       "$maxsurrogate\n",
       ":   5\n",
       "$usesurrogate\n",
       ":   2\n",
       "$surrogatestyle\n",
       ":   0\n",
       "$maxdepth\n",
       ":   1\n",
       "$xval\n",
       ":   10\n",
       "\n",
       "\n"
      ],
      "text/plain": [
       "$minsplit\n",
       "[1] 2\n",
       "\n",
       "$minbucket\n",
       "[1] 1\n",
       "\n",
       "$cp\n",
       "[1] 0.01\n",
       "\n",
       "$maxcompete\n",
       "[1] 4\n",
       "\n",
       "$maxsurrogate\n",
       "[1] 5\n",
       "\n",
       "$usesurrogate\n",
       "[1] 2\n",
       "\n",
       "$surrogatestyle\n",
       "[1] 0\n",
       "\n",
       "$maxdepth\n",
       "[1] 1\n",
       "\n",
       "$xval\n",
       "[1] 10\n"
      ]
     },
     "metadata": {},
     "output_type": "display_data"
    },
    {
     "name": "stderr",
     "output_type": "stream",
     "text": [
      "Warning message in actual - predicted:\n",
      "\"longer object length is not a multiple of shorter object length\""
     ]
    },
    {
     "data": {
      "text/html": [
       "2.55989931289752"
      ],
      "text/latex": [
       "2.55989931289752"
      ],
      "text/markdown": [
       "2.55989931289752"
      ],
      "text/plain": [
       "[1] 2.559899"
      ]
     },
     "metadata": {},
     "output_type": "display_data"
    }
   ],
   "source": [
    "# Identify the model with smallest validation set RMSE\n",
    "best_model <- grade_models[[which.min(rmse_values)]]\n",
    "\n",
    "# Print the model paramters of the best model\n",
    "best_model$control\n",
    "\n",
    "# Compute test set RMSE on best_model\n",
    "pred_dt <- predict(object = best_model,\n",
    "                newdata = grade_test)\n",
    "rmse(actual = grade_test$final_grade, \n",
    "     predicted = pred)"
   ]
  },
  {
   "cell_type": "markdown",
   "metadata": {},
   "source": [
    "# Bagged Trees"
   ]
  },
  {
   "cell_type": "code",
   "execution_count": 31,
   "metadata": {},
   "outputs": [
    {
     "name": "stderr",
     "output_type": "stream",
     "text": [
      "Installing package into 'C:/Users/blake/Documents/R/win-library/3.6'\n",
      "(as 'lib' is unspecified)\n"
     ]
    },
    {
     "name": "stdout",
     "output_type": "stream",
     "text": [
      "package 'ipred' successfully unpacked and MD5 sums checked\n"
     ]
    },
    {
     "name": "stderr",
     "output_type": "stream",
     "text": [
      "Warning message:\n",
      "\"cannot remove prior installation of package 'ipred'\"Warning message in file.copy(savedcopy, lib, recursive = TRUE):\n",
      "\"problem copying C:\\Users\\blake\\Documents\\R\\win-library\\3.6\\00LOCK\\ipred\\libs\\x64\\ipred.dll to C:\\Users\\blake\\Documents\\R\\win-library\\3.6\\ipred\\libs\\x64\\ipred.dll: Permission denied\"Warning message:\n",
      "\"restored 'ipred'\""
     ]
    },
    {
     "name": "stdout",
     "output_type": "stream",
     "text": [
      "\n",
      "The downloaded binary packages are in\n",
      "\tC:\\Users\\blake\\AppData\\Local\\Temp\\Rtmpyykm62\\downloaded_packages\n"
     ]
    },
    {
     "name": "stderr",
     "output_type": "stream",
     "text": [
      "Warning message:\n",
      "\"package 'ipred' was built under R version 3.6.3\""
     ]
    }
   ],
   "source": [
    "# BAGGED TREES\n",
    "# AVERAGING MANY TREES TO REDUCE VARIANCE \n",
    "# ENSEMBLE METHOD CAN BE USED WITH OTHER METHODS\n",
    "# BOOT STRAP AGGREGATING\n",
    "# sampling rows from training set at random with replacement (can draw more than once a row)\n",
    "# get samples run model on the samples from trining dataset and then average them \n",
    "# use Ipred package\n",
    "install.packages(\"ipred\")\n",
    "library(ipred)"
   ]
  },
  {
   "cell_type": "code",
   "execution_count": 32,
   "metadata": {},
   "outputs": [
    {
     "name": "stdout",
     "output_type": "stream",
     "text": [
      "\n",
      "Bagging classification trees with 25 bootstrap replications \n",
      "\n",
      "Call: bagging.data.frame(formula = default ~ ., data = train_df, coob = TRUE)\n",
      "\n",
      "Out-of-bag estimate of misclassification error:  0.2725 \n",
      "\n"
     ]
    }
   ],
   "source": [
    "# we will go back to credit dataset (df)\n",
    "# Bagging is a randomized model, so let's set a seed for reproducibility\n",
    "set.seed(123)\n",
    "\n",
    "# Train a bagged model\n",
    "credit_model <- bagging(formula = default ~ ., \n",
    "                        data = train_df, # use credit default prediction dataset\n",
    "                        coob = TRUE)\n",
    "\n",
    "# Print the model\n",
    "print(credit_model)"
   ]
  },
  {
   "cell_type": "code",
   "execution_count": 33,
   "metadata": {},
   "outputs": [
    {
     "name": "stdout",
     "output_type": "stream",
     "text": [
      "  [1] yes yes yes no  no  no  no  no  no  no  no  no  no  no  no  no  no  yes\n",
      " [19] no  yes no  no  no  no  no  no  yes no  no  yes yes yes no  no  yes no \n",
      " [37] no  no  no  yes no  no  yes no  no  no  no  no  no  no  no  no  no  no \n",
      " [55] yes no  no  no  no  no  no  no  no  no  no  no  no  no  no  no  no  no \n",
      " [73] no  no  no  no  no  no  no  no  no  no  no  yes yes no  no  no  no  no \n",
      " [91] no  yes no  no  no  no  no  yes no  no  no  no  no  yes yes no  no  no \n",
      "[109] yes no  yes no  no  no  no  no  yes no  no  no  no  no  no  no  yes no \n",
      "[127] yes no  no  no  no  no  no  yes no  no  yes yes no  no  no  no  no  no \n",
      "[145] no  yes no  no  no  no  yes yes yes no  yes no  no  yes no  yes no  no \n",
      "[163] no  no  no  no  no  yes yes no  yes no  no  no  no  yes no  no  no  no \n",
      "[181] no  no  no  no  yes no  no  yes no  no  yes yes no  no  yes no  no  no \n",
      "[199] no  no \n",
      "Levels: no yes\n"
     ]
    }
   ],
   "source": [
    "# Evaluating models\n",
    "# Generate predicted classes using the model object\n",
    "class_prediction <- predict(object = credit_model, \n",
    "                            newdata = test_df,  \n",
    "                            type = \"class\")         # return classification labels\n",
    "\n",
    "# Print the predicted classes\n",
    "print(class_prediction)"
   ]
  },
  {
   "cell_type": "code",
   "execution_count": 34,
   "metadata": {},
   "outputs": [
    {
     "data": {
      "text/plain": [
       "Confusion Matrix and Statistics\n",
       "\n",
       "          Reference\n",
       "Prediction  no yes\n",
       "       no  125  32\n",
       "       yes  14  29\n",
       "                                          \n",
       "               Accuracy : 0.77            \n",
       "                 95% CI : (0.7054, 0.8264)\n",
       "    No Information Rate : 0.695           \n",
       "    P-Value [Acc > NIR] : 0.01150         \n",
       "                                          \n",
       "                  Kappa : 0.4085          \n",
       "                                          \n",
       " Mcnemar's Test P-Value : 0.01219         \n",
       "                                          \n",
       "            Sensitivity : 0.8993          \n",
       "            Specificity : 0.4754          \n",
       "         Pos Pred Value : 0.7962          \n",
       "         Neg Pred Value : 0.6744          \n",
       "             Prevalence : 0.6950          \n",
       "         Detection Rate : 0.6250          \n",
       "   Detection Prevalence : 0.7850          \n",
       "      Balanced Accuracy : 0.6873          \n",
       "                                          \n",
       "       'Positive' Class : no              \n",
       "                                          "
      ]
     },
     "metadata": {},
     "output_type": "display_data"
    }
   ],
   "source": [
    "# Calculate the confusion matrix for the test set caret package\n",
    "confusionMatrix(data = class_prediction,         \n",
    "                reference = test_df$default)  \n"
   ]
  },
  {
   "cell_type": "code",
   "execution_count": 35,
   "metadata": {},
   "outputs": [
    {
     "data": {
      "text/html": [
       "'numeric'"
      ],
      "text/latex": [
       "'numeric'"
      ],
      "text/markdown": [
       "'numeric'"
      ],
      "text/plain": [
       "[1] \"numeric\""
      ]
     },
     "metadata": {},
     "output_type": "display_data"
    }
   ],
   "source": [
    "# Generate predictions on the test set\n",
    "pred_bag <- predict(object = credit_model, \n",
    "                newdata = test_df,\n",
    "                type = \"prob\")\n",
    "\n",
    "# `pred` is a matrix\n",
    "class(pred)"
   ]
  },
  {
   "cell_type": "code",
   "execution_count": 36,
   "metadata": {},
   "outputs": [
    {
     "data": {
      "text/html": [
       "<dl class=dl-horizontal>\n",
       "\t<dt>4</dt>\n",
       "\t\t<dd>5.94094488188976</dd>\n",
       "\t<dt>6</dt>\n",
       "\t\t<dd>5.94094488188976</dd>\n",
       "\t<dt>7</dt>\n",
       "\t\t<dd>3.75</dd>\n",
       "\t<dt>18</dt>\n",
       "\t\t<dd>4.84782608695652</dd>\n",
       "\t<dt>21</dt>\n",
       "\t\t<dd>6</dd>\n",
       "\t<dt>29</dt>\n",
       "\t\t<dd>4.84782608695652</dd>\n",
       "</dl>\n"
      ],
      "text/latex": [
       "\\begin{description*}\n",
       "\\item[4] 5.94094488188976\n",
       "\\item[6] 5.94094488188976\n",
       "\\item[7] 3.75\n",
       "\\item[18] 4.84782608695652\n",
       "\\item[21] 6\n",
       "\\item[29] 4.84782608695652\n",
       "\\end{description*}\n"
      ],
      "text/markdown": [
       "4\n",
       ":   5.940944881889766\n",
       ":   5.940944881889767\n",
       ":   3.7518\n",
       ":   4.8478260869565221\n",
       ":   629\n",
       ":   4.84782608695652\n",
       "\n"
      ],
      "text/plain": [
       "       4        6        7       18       21       29 \n",
       "5.940945 5.940945 3.750000 4.847826 6.000000 4.847826 "
      ]
     },
     "metadata": {},
     "output_type": "display_data"
    },
    {
     "ename": "ERROR",
     "evalue": "Error in pred[, \"yes\"]: incorrect number of dimensions\n",
     "output_type": "error",
     "traceback": [
      "Error in pred[, \"yes\"]: incorrect number of dimensions\nTraceback:\n",
      "1. auc(actual = ifelse(test_df$default == \"yes\", 1, 0), predicted = pred[, \n .     \"yes\"])"
     ]
    }
   ],
   "source": [
    "# Look at the pred format\n",
    "head(pred)       \n",
    "\n",
    "# Compute the AUC (`actual` must be a binary vector) metric package\n",
    "auc(actual = ifelse(test_df$default == \"yes\", 1, 0), \n",
    "    predicted = pred[,\"yes\"])   \n"
   ]
  },
  {
   "cell_type": "code",
   "execution_count": 37,
   "metadata": {},
   "outputs": [
    {
     "name": "stdout",
     "output_type": "stream",
     "text": [
      "Bagged CART \n",
      "\n",
      "800 samples\n",
      " 16 predictor\n",
      "  2 classes: 'no', 'yes' \n",
      "\n",
      "No pre-processing\n",
      "Resampling: Cross-Validated (5 fold) \n",
      "Summary of sample sizes: 640, 640, 640, 639, 641 \n",
      "Resampling results:\n",
      "\n",
      "  ROC        Sens       Spec     \n",
      "  0.7431945  0.8520386  0.4728723\n",
      "\n"
     ]
    }
   ],
   "source": [
    "# CROSS VALIDATION WITH CARET (Previously using one train and test set)\n",
    "# now use different train and test sets using cross validation\n",
    "# Specify the training configuration\n",
    "ctrl <- trainControl(method = \"cv\",     # Cross-validation\n",
    "                     number = 5,        # 5 folds\n",
    "                     classProbs = TRUE,                  # For AUC\n",
    "                     summaryFunction = twoClassSummary)  # For AUC\n",
    "\n",
    "# Cross validate the credit model using \"treebag\" method; \n",
    "# Track AUC (Area under the ROC curve)\n",
    "set.seed(1)  # for reproducibility\n",
    "credit_caret_model <- train(default ~ ., \n",
    "                            data = train_df, \n",
    "                            method = \"treebag\",\n",
    "                            metric = \"ROC\",\n",
    "                            trControl = ctrl)\n",
    "\n",
    "# Look at the model object\n",
    "print(credit_caret_model)"
   ]
  },
  {
   "cell_type": "code",
   "execution_count": 38,
   "metadata": {},
   "outputs": [
    {
     "data": {
      "text/html": [
       "<ol class=list-inline>\n",
       "\t<li>'method'</li>\n",
       "\t<li>'modelInfo'</li>\n",
       "\t<li>'modelType'</li>\n",
       "\t<li>'results'</li>\n",
       "\t<li>'pred'</li>\n",
       "\t<li>'bestTune'</li>\n",
       "\t<li>'call'</li>\n",
       "\t<li>'dots'</li>\n",
       "\t<li>'metric'</li>\n",
       "\t<li>'control'</li>\n",
       "\t<li>'finalModel'</li>\n",
       "\t<li>'preProcess'</li>\n",
       "\t<li>'trainingData'</li>\n",
       "\t<li>'resample'</li>\n",
       "\t<li>'resampledCM'</li>\n",
       "\t<li>'perfNames'</li>\n",
       "\t<li>'maximize'</li>\n",
       "\t<li>'yLimits'</li>\n",
       "\t<li>'times'</li>\n",
       "\t<li>'levels'</li>\n",
       "\t<li>'terms'</li>\n",
       "\t<li>'coefnames'</li>\n",
       "\t<li>'contrasts'</li>\n",
       "\t<li>'xlevels'</li>\n",
       "</ol>\n"
      ],
      "text/latex": [
       "\\begin{enumerate*}\n",
       "\\item 'method'\n",
       "\\item 'modelInfo'\n",
       "\\item 'modelType'\n",
       "\\item 'results'\n",
       "\\item 'pred'\n",
       "\\item 'bestTune'\n",
       "\\item 'call'\n",
       "\\item 'dots'\n",
       "\\item 'metric'\n",
       "\\item 'control'\n",
       "\\item 'finalModel'\n",
       "\\item 'preProcess'\n",
       "\\item 'trainingData'\n",
       "\\item 'resample'\n",
       "\\item 'resampledCM'\n",
       "\\item 'perfNames'\n",
       "\\item 'maximize'\n",
       "\\item 'yLimits'\n",
       "\\item 'times'\n",
       "\\item 'levels'\n",
       "\\item 'terms'\n",
       "\\item 'coefnames'\n",
       "\\item 'contrasts'\n",
       "\\item 'xlevels'\n",
       "\\end{enumerate*}\n"
      ],
      "text/markdown": [
       "1. 'method'\n",
       "2. 'modelInfo'\n",
       "3. 'modelType'\n",
       "4. 'results'\n",
       "5. 'pred'\n",
       "6. 'bestTune'\n",
       "7. 'call'\n",
       "8. 'dots'\n",
       "9. 'metric'\n",
       "10. 'control'\n",
       "11. 'finalModel'\n",
       "12. 'preProcess'\n",
       "13. 'trainingData'\n",
       "14. 'resample'\n",
       "15. 'resampledCM'\n",
       "16. 'perfNames'\n",
       "17. 'maximize'\n",
       "18. 'yLimits'\n",
       "19. 'times'\n",
       "20. 'levels'\n",
       "21. 'terms'\n",
       "22. 'coefnames'\n",
       "23. 'contrasts'\n",
       "24. 'xlevels'\n",
       "\n",
       "\n"
      ],
      "text/plain": [
       " [1] \"method\"       \"modelInfo\"    \"modelType\"    \"results\"      \"pred\"        \n",
       " [6] \"bestTune\"     \"call\"         \"dots\"         \"metric\"       \"control\"     \n",
       "[11] \"finalModel\"   \"preProcess\"   \"trainingData\" \"resample\"     \"resampledCM\" \n",
       "[16] \"perfNames\"    \"maximize\"     \"yLimits\"      \"times\"        \"levels\"      \n",
       "[21] \"terms\"        \"coefnames\"    \"contrasts\"    \"xlevels\"     "
      ]
     },
     "metadata": {},
     "output_type": "display_data"
    },
    {
     "data": {
      "text/html": [
       "0.743194535039585"
      ],
      "text/latex": [
       "0.743194535039585"
      ],
      "text/markdown": [
       "0.743194535039585"
      ],
      "text/plain": [
       "[1] 0.7431945"
      ]
     },
     "metadata": {},
     "output_type": "display_data"
    }
   ],
   "source": [
    "# Inspect the contents of the model list \n",
    "names(credit_caret_model)\n",
    "\n",
    "# Print the CV AUC\n",
    "credit_caret_model$results[,\"ROC\"]"
   ]
  },
  {
   "cell_type": "code",
   "execution_count": 39,
   "metadata": {},
   "outputs": [
    {
     "ename": "ERROR",
     "evalue": "Error in pred[, \"yes\"]: incorrect number of dimensions\n",
     "output_type": "error",
     "traceback": [
      "Error in pred[, \"yes\"]: incorrect number of dimensions\nTraceback:\n",
      "1. auc(actual = ifelse(test_df$default == \"yes\", 1, 0), predicted = pred[, \n .     \"yes\"])"
     ]
    }
   ],
   "source": [
    "# Generate predictions on the test set\n",
    "pred_bag2 <- predict(object = credit_caret_model, \n",
    "                newdata = test_df,\n",
    "                type = \"prob\")\n",
    "\n",
    "# Compute the AUC (`actual` must be a binary (or 1/0 numeric) vector)\n",
    "auc(actual = ifelse(test_df$default == \"yes\", 1, 0), \n",
    "    predicted = pred[,\"yes\"])\n",
    "\n",
    "# Print ipred::bagging test set AUC estimate\n",
    "print(credit_model)  # without cross val"
   ]
  },
  {
   "cell_type": "code",
   "execution_count": 40,
   "metadata": {},
   "outputs": [
    {
     "name": "stdout",
     "output_type": "stream",
     "text": [
      "\n",
      "Bagging classification trees with 25 bootstrap replications \n",
      "\n",
      "Call: bagging.data.frame(formula = default ~ ., data = train_df, coob = TRUE)\n",
      "\n",
      "Out-of-bag estimate of misclassification error:  0.2725 \n",
      "\n",
      "Bagged CART \n",
      "\n",
      "800 samples\n",
      " 16 predictor\n",
      "  2 classes: 'no', 'yes' \n",
      "\n",
      "No pre-processing\n",
      "Resampling: Cross-Validated (5 fold) \n",
      "Summary of sample sizes: 640, 640, 640, 639, 641 \n",
      "Resampling results:\n",
      "\n",
      "  ROC        Sens       Spec     \n",
      "  0.7431945  0.8520386  0.4728723\n",
      "\n"
     ]
    }
   ],
   "source": [
    "# Print ipred::bagging test set AUC estimate\n",
    "print(credit_model)  # without cross val\n",
    "\n",
    "# Print caret \"treebag\" test set AUC estimate\n",
    "print(credit_caret_model) #with cross val\n"
   ]
  },
  {
   "cell_type": "code",
   "execution_count": 41,
   "metadata": {},
   "outputs": [
    {
     "data": {
      "text/html": [
       "0.743194535039585"
      ],
      "text/latex": [
       "0.743194535039585"
      ],
      "text/markdown": [
       "0.743194535039585"
      ],
      "text/plain": [
       "[1] 0.7431945"
      ]
     },
     "metadata": {},
     "output_type": "display_data"
    }
   ],
   "source": [
    "# Compare to caret 5-fold cross-validated AUC\n",
    "credit_caret_model$results[,\"ROC\"]\n"
   ]
  },
  {
   "cell_type": "markdown",
   "metadata": {},
   "source": [
    "# Random Forest!"
   ]
  },
  {
   "cell_type": "code",
   "execution_count": 42,
   "metadata": {},
   "outputs": [
    {
     "name": "stderr",
     "output_type": "stream",
     "text": [
      "Installing package into 'C:/Users/blake/Documents/R/win-library/3.6'\n",
      "(as 'lib' is unspecified)\n"
     ]
    },
    {
     "name": "stdout",
     "output_type": "stream",
     "text": [
      "package 'randomForest' successfully unpacked and MD5 sums checked\n"
     ]
    },
    {
     "name": "stderr",
     "output_type": "stream",
     "text": [
      "Warning message:\n",
      "\"cannot remove prior installation of package 'randomForest'\"Warning message in file.copy(savedcopy, lib, recursive = TRUE):\n",
      "\"problem copying C:\\Users\\blake\\Documents\\R\\win-library\\3.6\\00LOCK\\randomForest\\libs\\x64\\randomForest.dll to C:\\Users\\blake\\Documents\\R\\win-library\\3.6\\randomForest\\libs\\x64\\randomForest.dll: Permission denied\"Warning message:\n",
      "\"restored 'randomForest'\""
     ]
    },
    {
     "name": "stdout",
     "output_type": "stream",
     "text": [
      "\n",
      "The downloaded binary packages are in\n",
      "\tC:\\Users\\blake\\AppData\\Local\\Temp\\Rtmpyykm62\\downloaded_packages\n"
     ]
    },
    {
     "name": "stderr",
     "output_type": "stream",
     "text": [
      "Warning message:\n",
      "\"package 'randomForest' was built under R version 3.6.3\"randomForest 4.6-14\n",
      "Type rfNews() to see new features/changes/bug fixes.\n",
      "\n",
      "Attaching package: 'randomForest'\n",
      "\n",
      "The following object is masked from 'package:ggplot2':\n",
      "\n",
      "    margin\n",
      "\n"
     ]
    }
   ],
   "source": [
    "# RANDOM FOREST!!!!!!!!!\n",
    "# Can be classification or Regression\n",
    "# Similar to bagging but sample subset of the features ((featurebagging))\n",
    "#better performance\n",
    "# adds to decorrelation between samples\n",
    "install.packages(\"randomForest\")\n",
    "library(randomForest)\n"
   ]
  },
  {
   "cell_type": "code",
   "execution_count": 43,
   "metadata": {},
   "outputs": [
    {
     "name": "stdout",
     "output_type": "stream",
     "text": [
      "\n",
      "Call:\n",
      " randomForest(formula = default ~ ., data = train_df) \n",
      "               Type of random forest: classification\n",
      "                     Number of trees: 500\n",
      "No. of variables tried at each split: 4\n",
      "\n",
      "        OOB estimate of  error rate: 23%\n",
      "Confusion matrix:\n",
      "     no yes class.error\n",
      "no  510  51  0.09090909\n",
      "yes 133 106  0.55648536\n"
     ]
    }
   ],
   "source": [
    "# Train a Random Forest\n",
    "set.seed(1)  # for reproducibility\n",
    "credit_model <- randomForest(formula = default ~ ., \n",
    "                             data = train_df)\n",
    "\n",
    "# Print the model output                             \n",
    "print(credit_model)"
   ]
  },
  {
   "cell_type": "code",
   "execution_count": 46,
   "metadata": {},
   "outputs": [
    {
     "data": {
      "text/html": [
       "<table>\n",
       "<thead><tr><th scope=col>OOB</th><th scope=col>no</th><th scope=col>yes</th></tr></thead>\n",
       "<tbody>\n",
       "\t<tr><td>0.2926829</td><td>0.2171717</td><td>0.4606742</td></tr>\n",
       "\t<tr><td>0.2974138</td><td>0.2129630</td><td>0.4928571</td></tr>\n",
       "\t<tr><td>0.3080808</td><td>0.1971154</td><td>0.5674157</td></tr>\n",
       "\t<tr><td>0.3087149</td><td>0.1910828</td><td>0.5776699</td></tr>\n",
       "\t<tr><td>0.3113855</td><td>0.1916996</td><td>0.5829596</td></tr>\n",
       "\t<tr><td>0.2959049</td><td>0.1799242</td><td>0.5633188</td></tr>\n",
       "</tbody>\n",
       "</table>\n"
      ],
      "text/latex": [
       "\\begin{tabular}{lll}\n",
       " OOB & no & yes\\\\\n",
       "\\hline\n",
       "\t 0.2926829 & 0.2171717 & 0.4606742\\\\\n",
       "\t 0.2974138 & 0.2129630 & 0.4928571\\\\\n",
       "\t 0.3080808 & 0.1971154 & 0.5674157\\\\\n",
       "\t 0.3087149 & 0.1910828 & 0.5776699\\\\\n",
       "\t 0.3113855 & 0.1916996 & 0.5829596\\\\\n",
       "\t 0.2959049 & 0.1799242 & 0.5633188\\\\\n",
       "\\end{tabular}\n"
      ],
      "text/markdown": [
       "\n",
       "| OOB | no | yes |\n",
       "|---|---|---|\n",
       "| 0.2926829 | 0.2171717 | 0.4606742 |\n",
       "| 0.2974138 | 0.2129630 | 0.4928571 |\n",
       "| 0.3080808 | 0.1971154 | 0.5674157 |\n",
       "| 0.3087149 | 0.1910828 | 0.5776699 |\n",
       "| 0.3113855 | 0.1916996 | 0.5829596 |\n",
       "| 0.2959049 | 0.1799242 | 0.5633188 |\n",
       "\n"
      ],
      "text/plain": [
       "     OOB       no        yes      \n",
       "[1,] 0.2926829 0.2171717 0.4606742\n",
       "[2,] 0.2974138 0.2129630 0.4928571\n",
       "[3,] 0.3080808 0.1971154 0.5674157\n",
       "[4,] 0.3087149 0.1910828 0.5776699\n",
       "[5,] 0.3113855 0.1916996 0.5829596\n",
       "[6,] 0.2959049 0.1799242 0.5633188"
      ]
     },
     "metadata": {},
     "output_type": "display_data"
    },
    {
     "name": "stdout",
     "output_type": "stream",
     "text": [
      " OOB \n",
      "0.23 \n"
     ]
    },
    {
     "data": {
      "image/png": "[encoded data removed]",
      "text/plain": [
       "Plot with title \"credit_model\""
      ]
     },
     "metadata": {},
     "output_type": "display_data"
    }
   ],
   "source": [
    "# Model Assesment\n",
    "# out of bag samples can be grabed\n",
    "err <- credit_model$err.rate\n",
    "head(err)\n",
    "\n",
    "# oob error estimate final error (same as model output)\n",
    "oob_err <- err[nrow(err), \"OOB\"]\n",
    "print(oob_err)\n",
    "\n",
    "# Plot the model trained in the previous exercise\n",
    "plot(credit_model)\n",
    "# Add a legend since it doesn't have one by default\n",
    "legend(x = \"right\", \n",
    "       legend = colnames(err),\n",
    "       fill = 1:ncol(err))\n"
   ]
  },
  {
   "cell_type": "code",
   "execution_count": 47,
   "metadata": {},
   "outputs": [
    {
     "name": "stdout",
     "output_type": "stream",
     "text": [
      "Confusion Matrix and Statistics\n",
      "\n",
      "          Reference\n",
      "Prediction  no yes\n",
      "       no  130  41\n",
      "       yes   9  20\n",
      "                                         \n",
      "               Accuracy : 0.75           \n",
      "                 95% CI : (0.684, 0.8084)\n",
      "    No Information Rate : 0.695          \n",
      "    P-Value [Acc > NIR] : 0.05147        \n",
      "                                         \n",
      "                  Kappa : 0.3085         \n",
      "                                         \n",
      " Mcnemar's Test P-Value : 1.165e-05      \n",
      "                                         \n",
      "            Sensitivity : 0.9353         \n",
      "            Specificity : 0.3279         \n",
      "         Pos Pred Value : 0.7602         \n",
      "         Neg Pred Value : 0.6897         \n",
      "             Prevalence : 0.6950         \n",
      "         Detection Rate : 0.6500         \n",
      "   Detection Prevalence : 0.8550         \n",
      "      Balanced Accuracy : 0.6316         \n",
      "                                         \n",
      "       'Positive' Class : no             \n",
      "                                         \n"
     ]
    }
   ],
   "source": [
    "# Generate predicted classes using the model object\n",
    "class_prediction <- predict(object = credit_model,  # model object \n",
    "                            newdata = test_df,  # test dataset\n",
    "                            type = \"class\")         # return classification labels\n",
    "\n",
    "# Calculate the confusion matrix for the test set\n",
    "cm <- confusionMatrix(data = class_prediction,          # predicted classes\n",
    "                      reference = test_df$default)  # actual classes\n",
    "print(cm)\n"
   ]
  },
  {
   "cell_type": "code",
   "execution_count": 48,
   "metadata": {},
   "outputs": [
    {
     "data": {
      "text/html": [
       "'Test Accuracy: 0.75'"
      ],
      "text/latex": [
       "'Test Accuracy: 0.75'"
      ],
      "text/markdown": [
       "'Test Accuracy: 0.75'"
      ],
      "text/plain": [
       "[1] \"Test Accuracy: 0.75\""
      ]
     },
     "metadata": {},
     "output_type": "display_data"
    },
    {
     "data": {
      "text/html": [
       "'OOB Accuracy: 0.77'"
      ],
      "text/latex": [
       "'OOB Accuracy: 0.77'"
      ],
      "text/markdown": [
       "'OOB Accuracy: 0.77'"
      ],
      "text/plain": [
       "[1] \"OOB Accuracy: 0.77\""
      ]
     },
     "metadata": {},
     "output_type": "display_data"
    }
   ],
   "source": [
    "# Compare test set accuracy to OOB accuracy\n",
    "paste0(\"Test Accuracy: \", cm$overall[1])\n",
    "paste0(\"OOB Accuracy: \", 1 - oob_err)\n",
    "\n",
    "# Random forest has built in out of bag and validation code\n",
    "# cant accurately compare performance against other types of models\n"
   ]
  },
  {
   "cell_type": "code",
   "execution_count": 49,
   "metadata": {},
   "outputs": [
    {
     "data": {
      "text/html": [
       "'numeric'"
      ],
      "text/latex": [
       "'numeric'"
      ],
      "text/markdown": [
       "'numeric'"
      ],
      "text/plain": [
       "[1] \"numeric\""
      ]
     },
     "metadata": {},
     "output_type": "display_data"
    },
    {
     "data": {
      "text/html": [
       "<dl class=dl-horizontal>\n",
       "\t<dt>4</dt>\n",
       "\t\t<dd>5.94094488188976</dd>\n",
       "\t<dt>6</dt>\n",
       "\t\t<dd>5.94094488188976</dd>\n",
       "\t<dt>7</dt>\n",
       "\t\t<dd>3.75</dd>\n",
       "\t<dt>18</dt>\n",
       "\t\t<dd>4.84782608695652</dd>\n",
       "\t<dt>21</dt>\n",
       "\t\t<dd>6</dd>\n",
       "\t<dt>29</dt>\n",
       "\t\t<dd>4.84782608695652</dd>\n",
       "</dl>\n"
      ],
      "text/latex": [
       "\\begin{description*}\n",
       "\\item[4] 5.94094488188976\n",
       "\\item[6] 5.94094488188976\n",
       "\\item[7] 3.75\n",
       "\\item[18] 4.84782608695652\n",
       "\\item[21] 6\n",
       "\\item[29] 4.84782608695652\n",
       "\\end{description*}\n"
      ],
      "text/markdown": [
       "4\n",
       ":   5.940944881889766\n",
       ":   5.940944881889767\n",
       ":   3.7518\n",
       ":   4.8478260869565221\n",
       ":   629\n",
       ":   4.84782608695652\n",
       "\n"
      ],
      "text/plain": [
       "       4        6        7       18       21       29 \n",
       "5.940945 5.940945 3.750000 4.847826 6.000000 4.847826 "
      ]
     },
     "metadata": {},
     "output_type": "display_data"
    }
   ],
   "source": [
    "# Generate predictions on the test set\n",
    "pred_rf <- predict(object = credit_model, \n",
    "                newdata = test_df,\n",
    "                type = \"prob\")\n",
    "\n",
    "# `pred` is a matrix\n",
    "class(pred)\n",
    "\n",
    "# Look at the pred format\n",
    "head(pred)                "
   ]
  },
  {
   "cell_type": "code",
   "execution_count": 50,
   "metadata": {},
   "outputs": [
    {
     "ename": "ERROR",
     "evalue": "Error in pred[, \"yes\"]: incorrect number of dimensions\n",
     "output_type": "error",
     "traceback": [
      "Error in pred[, \"yes\"]: incorrect number of dimensions\nTraceback:\n",
      "1. auc(actual = ifelse(test_df$default == \"yes\", 1, 0), predicted = pred[, \n .     \"yes\"])"
     ]
    }
   ],
   "source": [
    "# Compute the AUC (`actual` must be a binary 1/0 numeric vector)\n",
    "auc(actual = ifelse(test_df$default == \"yes\", 1, 0), \n",
    "    predicted = pred[,\"yes\"])                \n"
   ]
  },
  {
   "cell_type": "code",
   "execution_count": 51,
   "metadata": {},
   "outputs": [
    {
     "name": "stdout",
     "output_type": "stream",
     "text": [
      "mtry = 4  OOB error = 23% \n",
      "Searching left ...\n",
      "mtry = 2 \tOOB error = 23.88% \n",
      "-0.03804348 0.05 \n",
      "Searching right ...\n",
      "mtry = 8 \tOOB error = 24.38% \n",
      "-0.05978261 0.05 \n"
     ]
    },
    {
     "data": {
      "image/png": "[encoded data removed]",
      "text/plain": [
       "plot without title"
      ]
     },
     "metadata": {},
     "output_type": "display_data"
    }
   ],
   "source": [
    "#tuning a RF model \n",
    "# n trees default 500 trees\n",
    "# mtry number of variables randomly sampled as candidates at each split\n",
    "# sampsize number of samples to train on\n",
    "# node size a and max node minimum size and maximum number of terminal noedes\n",
    "#tuneRF to tune mtry\n",
    "# Execute the tuning process\n",
    "set.seed(1)              \n",
    "res <- tuneRF(x = subset(train_df, select = -default),\n",
    "              y = train_df$default,\n",
    "              ntreeTry = 500)"
   ]
  },
  {
   "cell_type": "code",
   "execution_count": 52,
   "metadata": {},
   "outputs": [
    {
     "name": "stdout",
     "output_type": "stream",
     "text": [
      "      mtry OOBError\n",
      "2.OOB    2  0.23875\n",
      "4.OOB    4  0.23000\n",
      "8.OOB    8  0.24375\n"
     ]
    }
   ],
   "source": [
    "# Look at results\n",
    "print(res)"
   ]
  },
  {
   "cell_type": "code",
   "execution_count": 53,
   "metadata": {},
   "outputs": [
    {
     "name": "stdout",
     "output_type": "stream",
     "text": [
      "4.OOB \n",
      "    4 \n"
     ]
    }
   ],
   "source": [
    "# Find the mtry value that minimizes OOB Error\n",
    "mtry_opt <- res[,\"mtry\"][which.min(res[,\"OOBError\"])]\n",
    "print(mtry_opt)"
   ]
  },
  {
   "cell_type": "code",
   "execution_count": 54,
   "metadata": {},
   "outputs": [],
   "source": [
    "# If you just want to return the best RF model (rather than results)\n",
    "# you can set `doBest = TRUE` in `tuneRF()` to return the best RF model\n",
    "# instead of a set performance matrix.\n",
    "\n",
    "# Establish a list of possible values for mtry, nodesize and sampsize\n",
    "mtry <- seq(4, ncol(train_df) * 0.8, 2)\n",
    "nodesize <- seq(3, 8, 2)\n",
    "sampsize <- nrow(train_df) * c(0.7, 0.8)"
   ]
  },
  {
   "cell_type": "code",
   "execution_count": 55,
   "metadata": {},
   "outputs": [],
   "source": [
    "# Create a data frame containing all combinations \n",
    "hyper_grid <- expand.grid(mtry = mtry, nodesize = nodesize, sampsize = sampsize)\n",
    "\n",
    "# Create an empty vector to store OOB error values\n",
    "oob_err <- c()\n",
    "\n",
    "# Write a loop over the rows of hyper_grid to train the grid of models\n",
    "for (i in 1:nrow(hyper_grid)) {\n",
    "  \n",
    "  # Train a Random Forest model\n",
    "  model <- randomForest(formula = default ~ ., \n",
    "                        data = train_df,\n",
    "                        mtry = hyper_grid$mtry[i],\n",
    "                        nodesize = hyper_grid$nodesize[i],\n",
    "                        sampsize = hyper_grid$sampsize[i])\n",
    "  \n",
    "  # Store OOB error for the model                      \n",
    "  oob_err[i] <- model$err.rate[nrow(model$err.rate), \"OOB\"]\n",
    "}\n"
   ]
  },
  {
   "cell_type": "markdown",
   "metadata": {},
   "source": [
    "# BOOSTING"
   ]
  },
  {
   "cell_type": "code",
   "execution_count": 57,
   "metadata": {},
   "outputs": [
    {
     "name": "stderr",
     "output_type": "stream",
     "text": [
      "Installing package into 'C:/Users/blake/Documents/R/win-library/3.6'\n",
      "(as 'lib' is unspecified)\n",
      "Warning message:\n",
      "\"package 'gbm' is in use and will not be installed\""
     ]
    }
   ],
   "source": [
    "#BOOSTING\n",
    "# adaboost desicion tree where every observation has equal weight\n",
    "# increase/lower weiight of observations difficult to classify\n",
    "# second tree is grown on weighted data\n",
    "# new model tree plus tree 2\n",
    "# classification error from new 2 tree ensemble method \n",
    "# grow 3rd tree to predict revised residual \n",
    "# repeat for number of iterations\n",
    "# The prediciton for GBM is a weighted sum of the preditions made from previous tree models \n",
    "# GBM can defined an optimized cost function\n",
    "# GBM can be prone to overfitting (use early stooping)\n",
    "# Identify optimal set of hyperparmeters based on OOB error\n",
    "install.packages(\"gbm\")\n",
    "library(gbm)\n"
   ]
  },
  {
   "cell_type": "code",
   "execution_count": 58,
   "metadata": {},
   "outputs": [
    {
     "name": "stdout",
     "output_type": "stream",
     "text": [
      "gbm(formula = default ~ ., distribution = \"bernoulli\", data = train_df, \n",
      "    n.trees = 10000)\n",
      "A gradient boosted model with bernoulli loss function.\n",
      "10000 iterations were performed.\n",
      "There were 16 predictors of which 16 had non-zero influence.\n"
     ]
    }
   ],
   "source": [
    "# Convert \"yes\" to 1, \"no\" to 0\n",
    "train_df$default <- ifelse(train_df$default == \"yes\", 1, 0)\n",
    "\n",
    "# Train a 10000-tree GBM model\n",
    "set.seed(1)\n",
    "credit_model <- gbm(formula = default ~ ., \n",
    "                    distribution = \"bernoulli\", \n",
    "                    data = train_df,\n",
    "                    n.trees = 10000)\n",
    "\n",
    "# Print the model object                    \n",
    "print(credit_model) "
   ]
  },
  {
   "cell_type": "code",
   "execution_count": 59,
   "metadata": {},
   "outputs": [
    {
     "data": {
      "text/html": [
       "<table>\n",
       "<thead><tr><th></th><th scope=col>var</th><th scope=col>rel.inf</th></tr></thead>\n",
       "<tbody>\n",
       "\t<tr><th scope=row>amount</th><td>amount              </td><td>20.3744628          </td></tr>\n",
       "\t<tr><th scope=row>age</th><td>age                 </td><td>14.3076569          </td></tr>\n",
       "\t<tr><th scope=row>credit_history</th><td>credit_history      </td><td>13.0742754          </td></tr>\n",
       "\t<tr><th scope=row>purpose</th><td>purpose             </td><td>10.6344558          </td></tr>\n",
       "\t<tr><th scope=row>employment_duration</th><td>employment_duration </td><td> 8.8072767          </td></tr>\n",
       "\t<tr><th scope=row>ï..checking_balance</th><td>ï..checking_balance </td><td> 6.2341339          </td></tr>\n",
       "\t<tr><th scope=row>months_loan_duration</th><td>months_loan_duration</td><td> 5.5078889          </td></tr>\n",
       "\t<tr><th scope=row>savings_balance</th><td>savings_balance     </td><td> 4.5756686          </td></tr>\n",
       "\t<tr><th scope=row>other_credit</th><td>other_credit        </td><td> 4.4565463          </td></tr>\n",
       "\t<tr><th scope=row>job</th><td>job                 </td><td> 3.2104060          </td></tr>\n",
       "\t<tr><th scope=row>housing</th><td>housing             </td><td> 2.3903241          </td></tr>\n",
       "\t<tr><th scope=row>percent_of_income</th><td>percent_of_income   </td><td> 2.3846809          </td></tr>\n",
       "\t<tr><th scope=row>years_at_residence</th><td>years_at_residence  </td><td> 2.2039513          </td></tr>\n",
       "\t<tr><th scope=row>existing_loans_count</th><td>existing_loans_count</td><td> 0.7336609          </td></tr>\n",
       "\t<tr><th scope=row>phone</th><td>phone               </td><td> 0.5837669          </td></tr>\n",
       "\t<tr><th scope=row>dependents</th><td>dependents          </td><td> 0.5208446          </td></tr>\n",
       "</tbody>\n",
       "</table>\n"
      ],
      "text/latex": [
       "\\begin{tabular}{r|ll}\n",
       "  & var & rel.inf\\\\\n",
       "\\hline\n",
       "\tamount & amount               & 20.3744628          \\\\\n",
       "\tage & age                  & 14.3076569          \\\\\n",
       "\tcredit\\_history & credit\\_history       & 13.0742754            \\\\\n",
       "\tpurpose & purpose              & 10.6344558          \\\\\n",
       "\temployment\\_duration & employment\\_duration  &  8.8072767            \\\\\n",
       "\tï..checking\\_balance & ï..checking\\_balance  &  6.2341339            \\\\\n",
       "\tmonths\\_loan\\_duration & months\\_loan\\_duration &  5.5078889              \\\\\n",
       "\tsavings\\_balance & savings\\_balance      &  4.5756686            \\\\\n",
       "\tother\\_credit & other\\_credit         &  4.4565463            \\\\\n",
       "\tjob & job                  &  3.2104060          \\\\\n",
       "\thousing & housing              &  2.3903241          \\\\\n",
       "\tpercent\\_of\\_income & percent\\_of\\_income    &  2.3846809              \\\\\n",
       "\tyears\\_at\\_residence & years\\_at\\_residence   &  2.2039513              \\\\\n",
       "\texisting\\_loans\\_count & existing\\_loans\\_count &  0.7336609              \\\\\n",
       "\tphone & phone                &  0.5837669          \\\\\n",
       "\tdependents & dependents           &  0.5208446          \\\\\n",
       "\\end{tabular}\n"
      ],
      "text/markdown": [
       "\n",
       "| <!--/--> | var | rel.inf |\n",
       "|---|---|---|\n",
       "| amount | amount               | 20.3744628           |\n",
       "| age | age                  | 14.3076569           |\n",
       "| credit_history | credit_history       | 13.0742754           |\n",
       "| purpose | purpose              | 10.6344558           |\n",
       "| employment_duration | employment_duration  |  8.8072767           |\n",
       "| ï..checking_balance | ï..checking_balance  |  6.2341339           |\n",
       "| months_loan_duration | months_loan_duration |  5.5078889           |\n",
       "| savings_balance | savings_balance      |  4.5756686           |\n",
       "| other_credit | other_credit         |  4.4565463           |\n",
       "| job | job                  |  3.2104060           |\n",
       "| housing | housing              |  2.3903241           |\n",
       "| percent_of_income | percent_of_income    |  2.3846809           |\n",
       "| years_at_residence | years_at_residence   |  2.2039513           |\n",
       "| existing_loans_count | existing_loans_count |  0.7336609           |\n",
       "| phone | phone                |  0.5837669           |\n",
       "| dependents | dependents           |  0.5208446           |\n",
       "\n"
      ],
      "text/plain": [
       "                     var                  rel.inf   \n",
       "amount               amount               20.3744628\n",
       "age                  age                  14.3076569\n",
       "credit_history       credit_history       13.0742754\n",
       "purpose              purpose              10.6344558\n",
       "employment_duration  employment_duration   8.8072767\n",
       "ï..checking_balance  ï..checking_balance   6.2341339\n",
       "months_loan_duration months_loan_duration  5.5078889\n",
       "savings_balance      savings_balance       4.5756686\n",
       "other_credit         other_credit          4.4565463\n",
       "job                  job                   3.2104060\n",
       "housing              housing               2.3903241\n",
       "percent_of_income    percent_of_income     2.3846809\n",
       "years_at_residence   years_at_residence    2.2039513\n",
       "existing_loans_count existing_loans_count  0.7336609\n",
       "phone                phone                 0.5837669\n",
       "dependents           dependents            0.5208446"
      ]
     },
     "metadata": {},
     "output_type": "display_data"
    },
    {
     "name": "stdout",
     "output_type": "stream",
     "text": [
      "  mtry nodesize sampsize\n",
      "6    4        5      560\n"
     ]
    },
    {
     "data": {
      "image/png": "[encoded data removed]",
      "text/plain": [
       "plot without title"
      ]
     },
     "metadata": {},
     "output_type": "display_data"
    }
   ],
   "source": [
    "# summary() prints variable importance\n",
    "summary(credit_model)  \n",
    "opt_i <- which.min(oob_err)\n",
    "print(hyper_grid[opt_i,])"
   ]
  },
  {
   "cell_type": "code",
   "execution_count": 60,
   "metadata": {},
   "outputs": [],
   "source": [
    "# GBM evaluation\n",
    "# Since we converted the training response col, let's also convert the test response col\n",
    "test_df$default <- ifelse(test_df$default == \"yes\", 1, 0)\n"
   ]
  },
  {
   "cell_type": "code",
   "execution_count": 61,
   "metadata": {},
   "outputs": [
    {
     "ename": "ERROR",
     "evalue": "Error in eval(expr, envir, enclos): object 'pred_gmb1' not found\n",
     "output_type": "error",
     "traceback": [
      "Error in eval(expr, envir, enclos): object 'pred_gmb1' not found\nTraceback:\n"
     ]
    }
   ],
   "source": [
    "# Generate predictions on the test set\n",
    "pred_gbm1 <- predict(object = credit_model, \n",
    "                  newdata = test_df,\n",
    "                  n.trees = 10000)\n",
    "\n",
    "# Generate predictions on the test set (scale to response)\n",
    "pred_gbm2 <- predict(object = credit_model, \n",
    "                  newdata = test_df,\n",
    "                  n.trees = 10000,\n",
    "                  type = \"response\")\n",
    "\n",
    "# Compare the range of the two sets of predictions\n",
    "range(pred_gmb1)\n",
    "range(pred_gbm2)"
   ]
  },
  {
   "cell_type": "code",
   "execution_count": 62,
   "metadata": {},
   "outputs": [
    {
     "data": {
      "text/html": [
       "0.733812949640288"
      ],
      "text/latex": [
       "0.733812949640288"
      ],
      "text/markdown": [
       "0.733812949640288"
      ],
      "text/plain": [
       "[1] 0.7338129"
      ]
     },
     "metadata": {},
     "output_type": "display_data"
    },
    {
     "data": {
      "text/html": [
       "0.733812949640288"
      ],
      "text/latex": [
       "0.733812949640288"
      ],
      "text/markdown": [
       "0.733812949640288"
      ],
      "text/plain": [
       "[1] 0.7338129"
      ]
     },
     "metadata": {},
     "output_type": "display_data"
    }
   ],
   "source": [
    "# Generate the test set AUCs using the two sets of preditions & compare\n",
    "auc(actual = test_df$default, predicted = pred_gbm1)  #default\n",
    "auc(actual = test_df$default, predicted = pred_gbm2)  #rescaled\n"
   ]
  },
  {
   "cell_type": "code",
   "execution_count": 63,
   "metadata": {},
   "outputs": [
    {
     "name": "stderr",
     "output_type": "stream",
     "text": [
      "OOB generally underestimates the optimal number of iterations although predictive performance is reasonably competitive. Using cv_folds>1 when calling gbm usually results in improved predictive performance.\n"
     ]
    },
    {
     "data": {
      "image/png": "[encoded data removed]",
      "text/plain": [
       "plot without title"
      ]
     },
     "metadata": {},
     "output_type": "display_data"
    },
    {
     "data": {
      "image/png": "[encoded data removed]",
      "text/plain": [
       "plot without title"
      ]
     },
     "metadata": {},
     "output_type": "display_data"
    },
    {
     "name": "stdout",
     "output_type": "stream",
     "text": [
      "[1] \"Optimal n.trees (OOB Estimate): 91\"\n",
      "[1] \"Optimal n.trees (CV Estimate): 47\"\n"
     ]
    },
    {
     "data": {
      "image/png": "[encoded data removed]",
      "text/plain": [
       "plot without title"
      ]
     },
     "metadata": {},
     "output_type": "display_data"
    }
   ],
   "source": [
    "# Hyper perameters tuning\n",
    "# Optimal ntree estimate based on OOB\n",
    "ntree_opt_oob <- gbm.perf(object = credit_model, \n",
    "                          method = \"OOB\", \n",
    "                          oobag.curve = TRUE)\n",
    "# Train a CV GBM model\n",
    "set.seed(1)\n",
    "credit_model_cv <- gbm(formula = default ~ ., \n",
    "                       distribution = \"bernoulli\", \n",
    "                       data = train_df,\n",
    "                       n.trees = 10000,\n",
    "                       cv.folds = 2)\n",
    "\n",
    "# Optimal ntree estimate based on CV\n",
    "ntree_opt_cv <- gbm.perf(object = credit_model_cv, \n",
    "                         method = \"cv\")\n",
    "\n",
    "# Compare the estimates                         \n",
    "print(paste0(\"Optimal n.trees (OOB Estimate): \", ntree_opt_oob))                         \n",
    "print(paste0(\"Optimal n.trees (CV Estimate): \", ntree_opt_cv))\n"
   ]
  },
  {
   "cell_type": "code",
   "execution_count": 64,
   "metadata": {},
   "outputs": [
    {
     "name": "stdout",
     "output_type": "stream",
     "text": [
      "[1] \"Test set AUC (OOB): 0.737528010378582\"\n",
      "[1] \"Test set AUC (CV): 0.727326335652789\"\n"
     ]
    }
   ],
   "source": [
    "# Generate predictions on the test set using ntree_opt_oob number of trees\n",
    "gbm_pred0 <- predict(object = credit_model, \n",
    "                  newdata = test_df,\n",
    "                  n.trees = ntree_opt_oob)\n",
    "\n",
    "# Generate predictions on the test set using ntree_opt_cv number of trees\n",
    "gbm_pred1 <- predict(object = credit_model, \n",
    "                  newdata = test_df,\n",
    "                  n.trees = ntree_opt_cv)   \n",
    "\n",
    "# Generate the test set AUCs using the two sets of preditions & compare\n",
    "auc1 <- auc(actual = test_df$default, predicted = gbm_pred0)  #OOB\n",
    "auc2 <- auc(actual = test_df$default, predicted = gbm_pred1)  #CV \n",
    "\n",
    "# Compare AUC \n",
    "print(paste0(\"Test set AUC (OOB): \", auc1))                         \n",
    "print(paste0(\"Test set AUC (CV): \", auc2))\n"
   ]
  },
  {
   "cell_type": "code",
   "execution_count": 66,
   "metadata": {},
   "outputs": [
    {
     "name": "stderr",
     "output_type": "stream",
     "text": [
      "Warning message in auc(actual = actual, predicted = pred_bag):\n",
      "\"longer object length is not a multiple of shorter object length\"Warning message in auc(actual = actual, predicted = pred_rf):\n",
      "\"longer object length is not a multiple of shorter object length\""
     ]
    }
   ],
   "source": [
    "# Generate the test set AUCs using the two sets of predictions & compare\n",
    "actual <- test_df$default\n",
    "dt_auc <- auc(actual = actual, predicted = pred_dt1)\n",
    "bag_auc <- auc(actual = actual, predicted = pred_bag2)\n",
    "rf_auc <- auc(actual = actual, predicted = pred_rf)\n",
    "gbm_auc <- auc(actual = actual, predicted = gbm_pred1)\n"
   ]
  },
  {
   "cell_type": "code",
   "execution_count": 68,
   "metadata": {},
   "outputs": [
    {
     "data": {
      "text/html": [
       "'Decision Tree Test AUC: 0.581'"
      ],
      "text/latex": [
       "'Decision Tree Test AUC: 0.581'"
      ],
      "text/markdown": [
       "'Decision Tree Test AUC: 0.581'"
      ],
      "text/plain": [
       "[1] \"Decision Tree Test AUC: 0.581\""
      ]
     },
     "metadata": {},
     "output_type": "display_data"
    },
    {
     "data": {
      "text/html": [
       "'Bagged Trees Test AUC: 2.662'"
      ],
      "text/latex": [
       "'Bagged Trees Test AUC: 2.662'"
      ],
      "text/markdown": [
       "'Bagged Trees Test AUC: 2.662'"
      ],
      "text/plain": [
       "[1] \"Bagged Trees Test AUC: 2.662\""
      ]
     },
     "metadata": {},
     "output_type": "display_data"
    },
    {
     "name": "stderr",
     "output_type": "stream",
     "text": [
      "Installing package into 'C:/Users/blake/Documents/R/win-library/3.6'\n",
      "(as 'lib' is unspecified)\n"
     ]
    },
    {
     "name": "stdout",
     "output_type": "stream",
     "text": [
      "package 'ROCR' successfully unpacked and MD5 sums checked\n",
      "\n",
      "The downloaded binary packages are in\n",
      "\tC:\\Users\\blake\\AppData\\Local\\Temp\\Rtmpyykm62\\downloaded_packages\n"
     ]
    },
    {
     "name": "stderr",
     "output_type": "stream",
     "text": [
      "Warning message:\n",
      "\"package 'ROCR' was built under R version 3.6.3\"Loading required package: gplots\n",
      "Warning message:\n",
      "\"package 'gplots' was built under R version 3.6.3\"\n",
      "Attaching package: 'gplots'\n",
      "\n",
      "The following object is masked from 'package:stats':\n",
      "\n",
      "    lowess\n",
      "\n"
     ]
    },
    {
     "ename": "ERROR",
     "evalue": "Error in prediction(preds_list, actuals_list): Number of predictions in each run must be equal to the number of labels for each run.\n",
     "output_type": "error",
     "traceback": [
      "Error in prediction(preds_list, actuals_list): Number of predictions in each run must be equal to the number of labels for each run.\nTraceback:\n",
      "1. prediction(preds_list, actuals_list)",
      "2. stop(paste(\"Number of predictions in each run must be equal\", \n .     \"to the number of labels for each run.\"))"
     ]
    }
   ],
   "source": [
    "# Print results\n",
    "sprintf(\"Decision Tree Test AUC: %.3f\", dt_auc)\n",
    "sprintf(\"Bagged Trees Test AUC: %.3f\", bag_auc)\n",
    "\n",
    "# List of predictions\n",
    "preds_list <- list(pred_bag2, gbm_pred1)\n",
    "\n",
    "# List of actual values (same for all)\n",
    "m <- length(preds_list)\n",
    "actuals_list <- rep(list(test_df$default), m)\n",
    "\n",
    "install.packages(\"ROCR\")\n",
    "library(ROCR)\n",
    "# Plot the ROC curves\n",
    "pred <- prediction(preds_list, actuals_list)\n",
    "rocs <- performance(pred, \"tpr\", \"fpr\")\n",
    "plot(rocs, col = as.list(1:m), main = \"Test Set ROC Curves\")\n",
    "legend(x = \"bottomright\", \n",
    "       legend = c( \"Bagged Trees\", \"GBM\"),\n",
    "       fill = 1:m)\n"
   ]
  },
  {
   "cell_type": "code",
   "execution_count": null,
   "metadata": {},
   "outputs": [],
   "source": []
  }
 ],
 "metadata": {
  "kernelspec": {
   "display_name": "R",
   "language": "R",
   "name": "ir"
  },
  "language_info": {
   "codemirror_mode": "r",
   "file_extension": ".r",
   "mimetype": "text/x-r-source",
   "name": "R",
   "pygments_lexer": "r",
   "version": "3.6.1"
  }
 },
 "nbformat": 4,
 "nbformat_minor": 4
}
