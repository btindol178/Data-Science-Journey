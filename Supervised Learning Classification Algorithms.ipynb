{
 "cells": [
  {
   "cell_type": "markdown",
   "metadata": {},
   "source": [
    "# Supervised Learning (Classification)"
   ]
  },
  {
   "cell_type": "markdown",
   "metadata": {},
   "source": [
    "## The purpose of this is to explore how to use different classification algorithms and learn the R syntax for these different methods"
   ]
  },
  {
   "cell_type": "markdown",
   "metadata": {},
   "source": [
    "# Decision Tree Classification"
   ]
  },
  {
   "cell_type": "code",
   "execution_count": 2,
   "metadata": {},
   "outputs": [],
   "source": [
    "# I got this dataset from UCI Repository to classify if the person has heart disease or not (0 or 1)\n",
    "df <- read.csv(\"heartclass.csv\")"
   ]
  },
  {
   "cell_type": "code",
   "execution_count": 3,
   "metadata": {},
   "outputs": [
    {
     "data": {
      "text/html": [
       "<table>\n",
       "<thead><tr><th scope=col>ï..age</th><th scope=col>sex</th><th scope=col>cp</th><th scope=col>trestbps</th><th scope=col>chol</th><th scope=col>fbs</th><th scope=col>restecg</th><th scope=col>thalach</th><th scope=col>exang</th><th scope=col>oldpeak</th><th scope=col>slope</th><th scope=col>ca</th><th scope=col>thal</th><th scope=col>target</th></tr></thead>\n",
       "<tbody>\n",
       "\t<tr><td>63 </td><td>1  </td><td>3  </td><td>145</td><td>233</td><td>1  </td><td>0  </td><td>150</td><td>0  </td><td>2.3</td><td>0  </td><td>0  </td><td>1  </td><td>1  </td></tr>\n",
       "\t<tr><td>37 </td><td>1  </td><td>2  </td><td>130</td><td>250</td><td>0  </td><td>1  </td><td>187</td><td>0  </td><td>3.5</td><td>0  </td><td>0  </td><td>2  </td><td>1  </td></tr>\n",
       "\t<tr><td>41 </td><td>0  </td><td>1  </td><td>130</td><td>204</td><td>0  </td><td>0  </td><td>172</td><td>0  </td><td>1.4</td><td>2  </td><td>0  </td><td>2  </td><td>1  </td></tr>\n",
       "\t<tr><td>56 </td><td>1  </td><td>1  </td><td>120</td><td>236</td><td>0  </td><td>1  </td><td>178</td><td>0  </td><td>0.8</td><td>2  </td><td>0  </td><td>2  </td><td>1  </td></tr>\n",
       "\t<tr><td>57 </td><td>0  </td><td>0  </td><td>120</td><td>354</td><td>0  </td><td>1  </td><td>163</td><td>1  </td><td>0.6</td><td>2  </td><td>0  </td><td>2  </td><td>1  </td></tr>\n",
       "\t<tr><td>57 </td><td>1  </td><td>0  </td><td>140</td><td>192</td><td>0  </td><td>1  </td><td>148</td><td>0  </td><td>0.4</td><td>1  </td><td>0  </td><td>1  </td><td>1  </td></tr>\n",
       "</tbody>\n",
       "</table>\n"
      ],
      "text/latex": [
       "\\begin{tabular}{r|llllllllllllll}\n",
       " ï..age & sex & cp & trestbps & chol & fbs & restecg & thalach & exang & oldpeak & slope & ca & thal & target\\\\\n",
       "\\hline\n",
       "\t 63  & 1   & 3   & 145 & 233 & 1   & 0   & 150 & 0   & 2.3 & 0   & 0   & 1   & 1  \\\\\n",
       "\t 37  & 1   & 2   & 130 & 250 & 0   & 1   & 187 & 0   & 3.5 & 0   & 0   & 2   & 1  \\\\\n",
       "\t 41  & 0   & 1   & 130 & 204 & 0   & 0   & 172 & 0   & 1.4 & 2   & 0   & 2   & 1  \\\\\n",
       "\t 56  & 1   & 1   & 120 & 236 & 0   & 1   & 178 & 0   & 0.8 & 2   & 0   & 2   & 1  \\\\\n",
       "\t 57  & 0   & 0   & 120 & 354 & 0   & 1   & 163 & 1   & 0.6 & 2   & 0   & 2   & 1  \\\\\n",
       "\t 57  & 1   & 0   & 140 & 192 & 0   & 1   & 148 & 0   & 0.4 & 1   & 0   & 1   & 1  \\\\\n",
       "\\end{tabular}\n"
      ],
      "text/markdown": [
       "\n",
       "| ï..age | sex | cp | trestbps | chol | fbs | restecg | thalach | exang | oldpeak | slope | ca | thal | target |\n",
       "|---|---|---|---|---|---|---|---|---|---|---|---|---|---|\n",
       "| 63  | 1   | 3   | 145 | 233 | 1   | 0   | 150 | 0   | 2.3 | 0   | 0   | 1   | 1   |\n",
       "| 37  | 1   | 2   | 130 | 250 | 0   | 1   | 187 | 0   | 3.5 | 0   | 0   | 2   | 1   |\n",
       "| 41  | 0   | 1   | 130 | 204 | 0   | 0   | 172 | 0   | 1.4 | 2   | 0   | 2   | 1   |\n",
       "| 56  | 1   | 1   | 120 | 236 | 0   | 1   | 178 | 0   | 0.8 | 2   | 0   | 2   | 1   |\n",
       "| 57  | 0   | 0   | 120 | 354 | 0   | 1   | 163 | 1   | 0.6 | 2   | 0   | 2   | 1   |\n",
       "| 57  | 1   | 0   | 140 | 192 | 0   | 1   | 148 | 0   | 0.4 | 1   | 0   | 1   | 1   |\n",
       "\n"
      ],
      "text/plain": [
       "  ï..age sex cp trestbps chol fbs restecg thalach exang oldpeak slope ca thal\n",
       "1 63     1   3  145      233  1   0       150     0     2.3     0     0  1   \n",
       "2 37     1   2  130      250  0   1       187     0     3.5     0     0  2   \n",
       "3 41     0   1  130      204  0   0       172     0     1.4     2     0  2   \n",
       "4 56     1   1  120      236  0   1       178     0     0.8     2     0  2   \n",
       "5 57     0   0  120      354  0   1       163     1     0.6     2     0  2   \n",
       "6 57     1   0  140      192  0   1       148     0     0.4     1     0  1   \n",
       "  target\n",
       "1 1     \n",
       "2 1     \n",
       "3 1     \n",
       "4 1     \n",
       "5 1     \n",
       "6 1     "
      ]
     },
     "metadata": {},
     "output_type": "display_data"
    }
   ],
   "source": [
    "# here we check the look of the data\n",
    "head(df)"
   ]
  },
  {
   "cell_type": "code",
   "execution_count": 4,
   "metadata": {},
   "outputs": [],
   "source": [
    "# lets change back the age column to age\n",
    "colnames(df)[1] <- \"age\" # change column name"
   ]
  },
  {
   "cell_type": "code",
   "execution_count": 6,
   "metadata": {},
   "outputs": [
    {
     "data": {
      "text/html": [
       "<ol class=list-inline>\n",
       "\t<li>303</li>\n",
       "\t<li>14</li>\n",
       "</ol>\n"
      ],
      "text/latex": [
       "\\begin{enumerate*}\n",
       "\\item 303\n",
       "\\item 14\n",
       "\\end{enumerate*}\n"
      ],
      "text/markdown": [
       "1. 303\n",
       "2. 14\n",
       "\n",
       "\n"
      ],
      "text/plain": [
       "[1] 303  14"
      ]
     },
     "metadata": {},
     "output_type": "display_data"
    },
    {
     "data": {
      "text/plain": [
       "      age             sex               cp           trestbps    \n",
       " Min.   :29.00   Min.   :0.0000   Min.   :0.000   Min.   : 94.0  \n",
       " 1st Qu.:47.50   1st Qu.:0.0000   1st Qu.:0.000   1st Qu.:120.0  \n",
       " Median :55.00   Median :1.0000   Median :1.000   Median :130.0  \n",
       " Mean   :54.37   Mean   :0.6832   Mean   :0.967   Mean   :131.6  \n",
       " 3rd Qu.:61.00   3rd Qu.:1.0000   3rd Qu.:2.000   3rd Qu.:140.0  \n",
       " Max.   :77.00   Max.   :1.0000   Max.   :3.000   Max.   :200.0  \n",
       "      chol            fbs            restecg          thalach     \n",
       " Min.   :126.0   Min.   :0.0000   Min.   :0.0000   Min.   : 71.0  \n",
       " 1st Qu.:211.0   1st Qu.:0.0000   1st Qu.:0.0000   1st Qu.:133.5  \n",
       " Median :240.0   Median :0.0000   Median :1.0000   Median :153.0  \n",
       " Mean   :246.3   Mean   :0.1485   Mean   :0.5281   Mean   :149.6  \n",
       " 3rd Qu.:274.5   3rd Qu.:0.0000   3rd Qu.:1.0000   3rd Qu.:166.0  \n",
       " Max.   :564.0   Max.   :1.0000   Max.   :2.0000   Max.   :202.0  \n",
       "     exang           oldpeak         slope             ca        \n",
       " Min.   :0.0000   Min.   :0.00   Min.   :0.000   Min.   :0.0000  \n",
       " 1st Qu.:0.0000   1st Qu.:0.00   1st Qu.:1.000   1st Qu.:0.0000  \n",
       " Median :0.0000   Median :0.80   Median :1.000   Median :0.0000  \n",
       " Mean   :0.3267   Mean   :1.04   Mean   :1.399   Mean   :0.7294  \n",
       " 3rd Qu.:1.0000   3rd Qu.:1.60   3rd Qu.:2.000   3rd Qu.:1.0000  \n",
       " Max.   :1.0000   Max.   :6.20   Max.   :2.000   Max.   :4.0000  \n",
       "      thal           target      \n",
       " Min.   :0.000   Min.   :0.0000  \n",
       " 1st Qu.:2.000   1st Qu.:0.0000  \n",
       " Median :2.000   Median :1.0000  \n",
       " Mean   :2.314   Mean   :0.5446  \n",
       " 3rd Qu.:3.000   3rd Qu.:1.0000  \n",
       " Max.   :3.000   Max.   :1.0000  "
      ]
     },
     "metadata": {},
     "output_type": "display_data"
    },
    {
     "name": "stdout",
     "output_type": "stream",
     "text": [
      "'data.frame':\t303 obs. of  14 variables:\n",
      " $ age     : int  63 37 41 56 57 57 56 44 52 57 ...\n",
      " $ sex     : int  1 1 0 1 0 1 0 1 1 1 ...\n",
      " $ cp      : int  3 2 1 1 0 0 1 1 2 2 ...\n",
      " $ trestbps: int  145 130 130 120 120 140 140 120 172 150 ...\n",
      " $ chol    : int  233 250 204 236 354 192 294 263 199 168 ...\n",
      " $ fbs     : int  1 0 0 0 0 0 0 0 1 0 ...\n",
      " $ restecg : int  0 1 0 1 1 1 0 1 1 1 ...\n",
      " $ thalach : int  150 187 172 178 163 148 153 173 162 174 ...\n",
      " $ exang   : int  0 0 0 0 1 0 0 0 0 0 ...\n",
      " $ oldpeak : num  2.3 3.5 1.4 0.8 0.6 0.4 1.3 0 0.5 1.6 ...\n",
      " $ slope   : int  0 0 2 2 2 1 1 2 2 2 ...\n",
      " $ ca      : int  0 0 0 0 0 0 0 0 0 0 ...\n",
      " $ thal    : int  1 2 2 2 2 1 2 3 3 2 ...\n",
      " $ target  : int  1 1 1 1 1 1 1 1 1 1 ...\n"
     ]
    }
   ],
   "source": [
    "# Lets see the dimension and structure of this dataset\n",
    "dim(df)\n",
    "summary(df)\n",
    "str(df)"
   ]
  },
  {
   "cell_type": "code",
   "execution_count": 7,
   "metadata": {},
   "outputs": [],
   "source": [
    "# lets change the target column to a factor for prediction!\n",
    "df$target <- as.factor(df$target)"
   ]
  },
  {
   "cell_type": "code",
   "execution_count": 8,
   "metadata": {},
   "outputs": [
    {
     "data": {
      "text/html": [
       "227.25"
      ],
      "text/latex": [
       "227.25"
      ],
      "text/markdown": [
       "227.25"
      ],
      "text/plain": [
       "[1] 227.25"
      ]
     },
     "metadata": {},
     "output_type": "display_data"
    }
   ],
   "source": [
    "# Determine the number of rows for training\n",
    "nrow(df) * 0.75\n",
    "\n",
    "# Create a random sample of row IDs\n",
    "sample_rows <- sample(nrow(df), nrow(df) * 0.75)\n",
    "\n",
    "# Create the training dataset\n",
    "df_train <- df[sample_rows, ]\n",
    "\n",
    "# Create the test dataset\n",
    "df_test <- df[-sample_rows, ]\n",
    "\n",
    "# Removing missing values\n",
    "df_train <- na.omit(df_train)\n",
    "df_test <- na.omit(df_test)"
   ]
  },
  {
   "cell_type": "code",
   "execution_count": 9,
   "metadata": {},
   "outputs": [
    {
     "name": "stderr",
     "output_type": "stream",
     "text": [
      "Warning message:\n",
      "\"package 'caret' was built under R version 3.6.2\"Loading required package: lattice\n",
      "Loading required package: ggplot2\n",
      "Warning message:\n",
      "\"package 'ggplot2' was built under R version 3.6.2\"Installing package into 'C:/Users/blake/Documents/R/win-library/3.6'\n",
      "(as 'lib' is unspecified)\n"
     ]
    },
    {
     "name": "stdout",
     "output_type": "stream",
     "text": [
      "package 'rpart.plot' successfully unpacked and MD5 sums checked\n",
      "\n",
      "The downloaded binary packages are in\n",
      "\tC:\\Users\\blake\\AppData\\Local\\Temp\\RtmpKUc8Bh\\downloaded_packages\n"
     ]
    },
    {
     "name": "stderr",
     "output_type": "stream",
     "text": [
      "Warning message:\n",
      "\"package 'rpart.plot' was built under R version 3.6.2\""
     ]
    }
   ],
   "source": [
    "# Importing packages for decision tree classification \n",
    "library(rpart) # decision tree library\n",
    "library(caret) # machine learning library\n",
    "install.packages(\"rpart.plot\")\n",
    "library(rpart.plot)"
   ]
  },
  {
   "cell_type": "code",
   "execution_count": 10,
   "metadata": {},
   "outputs": [
    {
     "name": "stdout",
     "output_type": "stream",
     "text": [
      "n= 227 \n",
      "\n",
      "node), split, n, loss, yval, (yprob)\n",
      "      * denotes terminal node\n",
      "\n",
      " 1) root 227 102 1 (0.4493392 0.5506608)  \n",
      "   2) thal>=2.5 88  20 0 (0.7727273 0.2272727)  \n",
      "     4) cp< 0.5 59   6 0 (0.8983051 0.1016949) *\n",
      "     5) cp>=0.5 29  14 0 (0.5172414 0.4827586)  \n",
      "      10) thalach< 150.5 11   2 0 (0.8181818 0.1818182) *\n",
      "      11) thalach>=150.5 18   6 1 (0.3333333 0.6666667) *\n",
      "   3) thal< 2.5 139  34 1 (0.2446043 0.7553957)  \n",
      "     6) exang>=0.5 31  12 0 (0.6129032 0.3870968)  \n",
      "      12) cp< 0.5 20   3 0 (0.8500000 0.1500000) *\n",
      "      13) cp>=0.5 11   2 1 (0.1818182 0.8181818) *\n",
      "     7) exang< 0.5 108  15 1 (0.1388889 0.8611111) *\n"
     ]
    }
   ],
   "source": [
    "#prepruning the tree\n",
    "preprune <- rpart.control(maxdepth = 6, cp= 0) \n",
    "\n",
    "# Here we predict the target using all the columns max dept =6 and cp =0\n",
    "treefit <- rpart(target ~ . ,data=df_train, method = \"class\", control = preprune) # Predicting if i will have bad day or not\n",
    "\n",
    "print(treefit)"
   ]
  },
  {
   "cell_type": "code",
   "execution_count": 11,
   "metadata": {},
   "outputs": [
    {
     "data": {
      "image/png": "[encoded data removed]",
      "text/plain": [
       "plot without title"
      ]
     },
     "metadata": {},
     "output_type": "display_data"
    }
   ],
   "source": [
    "# PLOTTING THE TREE\n",
    "rpart.plot(treefit)"
   ]
  },
  {
   "cell_type": "code",
   "execution_count": 12,
   "metadata": {},
   "outputs": [
    {
     "data": {
      "image/png": "[encoded data removed]",
      "text/plain": [
       "plot without title"
      ]
     },
     "metadata": {},
     "output_type": "display_data"
    }
   ],
   "source": [
    "# Here we want to make sure the model isnt overly complex so we will use plotcp\n",
    "plotcp(treefit) # visualization of error rate vs model complexity \n"
   ]
  },
  {
   "cell_type": "code",
   "execution_count": 13,
   "metadata": {},
   "outputs": [],
   "source": [
    "# Lets prune the tree at .18 cp\n",
    "prunedtreefit <- prune(treefit, cp = 0.18) "
   ]
  },
  {
   "cell_type": "code",
   "execution_count": 14,
   "metadata": {},
   "outputs": [],
   "source": [
    "# PRUNED TREE PREDICITON \n",
    "df_test$prediction <- predict(prunedtreefit,newdata = df_test, type = \"class\") # what does type class mean\n"
   ]
  },
  {
   "cell_type": "code",
   "execution_count": 15,
   "metadata": {},
   "outputs": [
    {
     "data": {
      "text/plain": [
       "   \n",
       "     0  1\n",
       "  0 21  8\n",
       "  1 15 32"
      ]
     },
     "metadata": {},
     "output_type": "display_data"
    }
   ],
   "source": [
    "# Examine the confusion matrix\n",
    "table(df_test$prediction, df_test$target)"
   ]
  },
  {
   "cell_type": "code",
   "execution_count": 16,
   "metadata": {},
   "outputs": [
    {
     "data": {
      "text/plain": [
       "Confusion Matrix and Statistics\n",
       "\n",
       "          Reference\n",
       "Prediction  0  1\n",
       "         0 21  8\n",
       "         1 15 32\n",
       "                                          \n",
       "               Accuracy : 0.6974          \n",
       "                 95% CI : (0.5813, 0.7975)\n",
       "    No Information Rate : 0.5263          \n",
       "    P-Value [Acc > NIR] : 0.0018          \n",
       "                                          \n",
       "                  Kappa : 0.3871          \n",
       "                                          \n",
       " Mcnemar's Test P-Value : 0.2109          \n",
       "                                          \n",
       "            Sensitivity : 0.5833          \n",
       "            Specificity : 0.8000          \n",
       "         Pos Pred Value : 0.7241          \n",
       "         Neg Pred Value : 0.6809          \n",
       "             Prevalence : 0.4737          \n",
       "         Detection Rate : 0.2763          \n",
       "   Detection Prevalence : 0.3816          \n",
       "      Balanced Accuracy : 0.6917          \n",
       "                                          \n",
       "       'Positive' Class : 0               \n",
       "                                          "
      ]
     },
     "metadata": {},
     "output_type": "display_data"
    }
   ],
   "source": [
    "# Lets make it more understandable \n",
    "# Another method of prediciton!\n",
    "confusionMatrix(df_test$prediction, df_test$target)"
   ]
  },
  {
   "cell_type": "code",
   "execution_count": 17,
   "metadata": {},
   "outputs": [
    {
     "data": {
      "text/html": [
       "0.697368421052632"
      ],
      "text/latex": [
       "0.697368421052632"
      ],
      "text/markdown": [
       "0.697368421052632"
      ],
      "text/plain": [
       "[1] 0.6973684"
      ]
     },
     "metadata": {},
     "output_type": "display_data"
    }
   ],
   "source": [
    "# Compute the accuracy on the test dataset\n",
    "mean(df_test$prediction == df_test$target)"
   ]
  },
  {
   "cell_type": "code",
   "execution_count": 18,
   "metadata": {},
   "outputs": [],
   "source": [
    "# Lets upload a new sample that hasnt been used for prediction see how this model works\n",
    "\n",
    "pred_df <- read.csv(\"pred_df.csv\") # import \n",
    "\n",
    "colnames(pred_df)[1] <- \"age\" # change column name back to age\n",
    "\n",
    "pred_df$target <- as.factor(pred_df$target)"
   ]
  },
  {
   "cell_type": "code",
   "execution_count": 19,
   "metadata": {},
   "outputs": [],
   "source": [
    "#Decision Tree\n",
    "pred_df$predict <- predict(prunedtreefit,newdata = pred_df, type = \"class\") # make new prediction column"
   ]
  },
  {
   "cell_type": "code",
   "execution_count": 22,
   "metadata": {},
   "outputs": [
    {
     "data": {
      "text/plain": [
       "Confusion Matrix and Statistics\n",
       "\n",
       "          Reference\n",
       "Prediction 0 1\n",
       "         0 0 0\n",
       "         1 3 4\n",
       "                                         \n",
       "               Accuracy : 0.5714         \n",
       "                 95% CI : (0.1841, 0.901)\n",
       "    No Information Rate : 0.5714         \n",
       "    P-Value [Acc > NIR] : 0.6531         \n",
       "                                         \n",
       "                  Kappa : 0              \n",
       "                                         \n",
       " Mcnemar's Test P-Value : 0.2482         \n",
       "                                         \n",
       "            Sensitivity : 0.0000         \n",
       "            Specificity : 1.0000         \n",
       "         Pos Pred Value :    NaN         \n",
       "         Neg Pred Value : 0.5714         \n",
       "             Prevalence : 0.4286         \n",
       "         Detection Rate : 0.0000         \n",
       "   Detection Prevalence : 0.0000         \n",
       "      Balanced Accuracy : 0.5000         \n",
       "                                         \n",
       "       'Positive' Class : 0              \n",
       "                                         "
      ]
     },
     "metadata": {},
     "output_type": "display_data"
    }
   ],
   "source": [
    "confusionMatrix(pred_df$predict, pred_df$target) # 54% accuracy is not great!!\n",
    "# For now lets see how the syntax and structure of other algorithms look like"
   ]
  },
  {
   "cell_type": "markdown",
   "metadata": {},
   "source": [
    "# KNN ALGORITHM "
   ]
  },
  {
   "cell_type": "code",
   "execution_count": 23,
   "metadata": {},
   "outputs": [
    {
     "name": "stderr",
     "output_type": "stream",
     "text": [
      "Installing package into 'C:/Users/blake/Documents/R/win-library/3.6'\n",
      "(as 'lib' is unspecified)\n"
     ]
    },
    {
     "name": "stdout",
     "output_type": "stream",
     "text": [
      "package 'class' successfully unpacked and MD5 sums checked\n"
     ]
    },
    {
     "name": "stderr",
     "output_type": "stream",
     "text": [
      "Warning message:\n",
      "\"cannot remove prior installation of package 'class'\"Warning message in file.copy(savedcopy, lib, recursive = TRUE):\n",
      "\"problem copying C:\\Users\\blake\\Documents\\R\\win-library\\3.6\\00LOCK\\class\\libs\\x64\\class.dll to C:\\Users\\blake\\Documents\\R\\win-library\\3.6\\class\\libs\\x64\\class.dll: Permission denied\"Warning message:\n",
      "\"restored 'class'\""
     ]
    },
    {
     "name": "stdout",
     "output_type": "stream",
     "text": [
      "\n",
      "The downloaded binary packages are in\n",
      "\tC:\\Users\\blake\\AppData\\Local\\Temp\\RtmpKUc8Bh\\downloaded_packages\n"
     ]
    },
    {
     "name": "stderr",
     "output_type": "stream",
     "text": [
      "Warning message:\n",
      "\"package 'class' was built under R version 3.6.2\""
     ]
    }
   ],
   "source": [
    "# installing needed packages\n",
    "install.packages(\"class\")\n",
    "library(class)"
   ]
  },
  {
   "cell_type": "markdown",
   "metadata": {},
   "source": [
    "# Here we will observe normalized prediction vs not (not first)"
   ]
  },
  {
   "cell_type": "code",
   "execution_count": 24,
   "metadata": {},
   "outputs": [
    {
     "data": {
      "text/html": [
       "227.25"
      ],
      "text/latex": [
       "227.25"
      ],
      "text/markdown": [
       "227.25"
      ],
      "text/plain": [
       "[1] 227.25"
      ]
     },
     "metadata": {},
     "output_type": "display_data"
    }
   ],
   "source": [
    "# WITHOUT NORMALIZATION PREDICTION\n",
    "# Determine the number of rows for training\n",
    "nrow(df) * 0.75\n",
    "\n",
    "# Create a random sample of row IDs\n",
    "sample_rows <- sample(nrow(df), nrow(df) * 0.75)\n",
    "\n",
    "# Create the training dataset\n",
    "KNN_train <- df[sample_rows, ]\n",
    "\n",
    "# Create the test dataset\n",
    "KNN_test <- df[-sample_rows, ]\n",
    "\n",
    "# Declaring a column of vector labels \n",
    "health_status <- KNN_train$target\n",
    "\n",
    "#OMIT NA VALUES \n",
    "KNN_train <- na.omit(KNN_train)\n",
    "KNN_test <- na.omit(KNN_test)"
   ]
  },
  {
   "cell_type": "code",
   "execution_count": 25,
   "metadata": {},
   "outputs": [],
   "source": [
    "# KNN MODEL with K value = 1 (default value)\n",
    "health_pred <- knn(train = KNN_train[-14], test = KNN_test[-14], cl = health_status)\n"
   ]
  },
  {
   "cell_type": "code",
   "execution_count": 26,
   "metadata": {},
   "outputs": [],
   "source": [
    "# Vector of actual test vector for comparison in Confusion matrix of predicted vs actual \n",
    "health_actual <- KNN_test$target"
   ]
  },
  {
   "cell_type": "code",
   "execution_count": 28,
   "metadata": {},
   "outputs": [
    {
     "data": {
      "text/plain": [
       "           health_actual\n",
       "health_pred  0  1\n",
       "          0 26 10\n",
       "          1 11 29"
      ]
     },
     "metadata": {},
     "output_type": "display_data"
    },
    {
     "data": {
      "text/html": [
       "0.723684210526316"
      ],
      "text/latex": [
       "0.723684210526316"
      ],
      "text/markdown": [
       "0.723684210526316"
      ],
      "text/plain": [
       "[1] 0.7236842"
      ]
     },
     "metadata": {},
     "output_type": "display_data"
    }
   ],
   "source": [
    "# Confusion matrix\n",
    "table(health_pred, health_actual) # Confusion matrix\n",
    "\n",
    "# Compute the accuracy\n",
    "mean(health_pred == health_actual) # 72% accuracy  "
   ]
  },
  {
   "cell_type": "code",
   "execution_count": 31,
   "metadata": {},
   "outputs": [
    {
     "data": {
      "text/html": [
       "0.710526315789474"
      ],
      "text/latex": [
       "0.710526315789474"
      ],
      "text/markdown": [
       "0.710526315789474"
      ],
      "text/plain": [
       "[1] 0.7105263"
      ]
     },
     "metadata": {},
     "output_type": "display_data"
    },
    {
     "data": {
      "text/html": [
       "<ol class=list-inline>\n",
       "\t<li>1</li>\n",
       "\t<li>1</li>\n",
       "\t<li>1</li>\n",
       "\t<li>1</li>\n",
       "\t<li>1</li>\n",
       "\t<li>1</li>\n",
       "</ol>\n",
       "\n",
       "<details>\n",
       "\t<summary style=display:list-item;cursor:pointer>\n",
       "\t\t<strong>Levels</strong>:\n",
       "\t</summary>\n",
       "\t<ol class=list-inline>\n",
       "\t\t<li>'0'</li>\n",
       "\t\t<li>'1'</li>\n",
       "\t</ol>\n",
       "</details>"
      ],
      "text/latex": [
       "\\begin{enumerate*}\n",
       "\\item 1\n",
       "\\item 1\n",
       "\\item 1\n",
       "\\item 1\n",
       "\\item 1\n",
       "\\item 1\n",
       "\\end{enumerate*}\n",
       "\n",
       "\\emph{Levels}: \\begin{enumerate*}\n",
       "\\item '0'\n",
       "\\item '1'\n",
       "\\end{enumerate*}\n"
      ],
      "text/markdown": [
       "1. 1\n",
       "2. 1\n",
       "3. 1\n",
       "4. 1\n",
       "5. 1\n",
       "6. 1\n",
       "\n",
       "\n",
       "\n",
       "**Levels**: 1. '0'\n",
       "2. '1'\n",
       "\n",
       "\n"
      ],
      "text/plain": [
       "[1] 1 1 1 1 1 1\n",
       "Levels: 0 1"
      ]
     },
     "metadata": {},
     "output_type": "display_data"
    },
    {
     "data": {
      "text/html": [
       "<ol class=list-inline>\n",
       "\t<li>1</li>\n",
       "\t<li>0.8</li>\n",
       "\t<li>0.8</li>\n",
       "\t<li>0.8</li>\n",
       "\t<li>0.8</li>\n",
       "\t<li>0.8</li>\n",
       "</ol>\n"
      ],
      "text/latex": [
       "\\begin{enumerate*}\n",
       "\\item 1\n",
       "\\item 0.8\n",
       "\\item 0.8\n",
       "\\item 0.8\n",
       "\\item 0.8\n",
       "\\item 0.8\n",
       "\\end{enumerate*}\n"
      ],
      "text/markdown": [
       "1. 1\n",
       "2. 0.8\n",
       "3. 0.8\n",
       "4. 0.8\n",
       "5. 0.8\n",
       "6. 0.8\n",
       "\n",
       "\n"
      ],
      "text/plain": [
       "[1] 1.0 0.8 0.8 0.8 0.8 0.8"
      ]
     },
     "metadata": {},
     "output_type": "display_data"
    }
   ],
   "source": [
    "# NOW PREDICTING WITH DIFFERENT VALUES OF K (this one K = 5)\n",
    "health_pred_K5 <- knn(train = KNN_train[-14], test = KNN_test[-14], cl = health_status, k = 5)\n",
    "#computing accuarcy again # this time it is 67%\n",
    "mean(health_actual == health_pred_K5)\n",
    "\n",
    "# Use the prob parameter to get the proportion of votes for the winning class\n",
    "health_pred_prob <- knn(train = KNN_train[-14], test = KNN_test[-14], cl = health_status, k = 5, prob = TRUE)\n",
    " \n",
    "# 71% accuracy model is not as good \n",
    "\n",
    "# Get the \"prob\" attribute from the predicted classes\n",
    "health_prob <- attr(health_pred_prob, \"prob\")\n",
    "\n",
    "# Examine the first several predictions\n",
    "head(health_pred_prob)\n",
    "\n",
    "# Examine the proportion of votes for the winning class\n",
    "head(health_prob)"
   ]
  },
  {
   "cell_type": "markdown",
   "metadata": {},
   "source": [
    "# With Normalization"
   ]
  },
  {
   "cell_type": "code",
   "execution_count": 34,
   "metadata": {},
   "outputs": [],
   "source": [
    "# Taking random sample \n",
    "ran = sample(1:nrow(df), 0.8 * nrow(df))\n",
    "\n",
    "# Normalize function\n",
    "nor <- function(x){\n",
    "  (x- min(x))/(max(x)-min(x))\n",
    "}\n",
    "\n",
    "# make new normalized dataframe \n",
    "df_nor <- as.data.frame(lapply(df[,1:13],nor))\n",
    "\n",
    "# Create the training dataset\n",
    "KNN_train_nor <- df_nor[ran, ]\n",
    "\n",
    "# Create the test dataset\n",
    "KNN_test_nor <- df_nor[-ran, ]\n",
    "\n",
    "# Declaring a column of vector labels \n",
    "health_target_nor <- df[ran,14] # target column not included in orignal dataframe \n",
    "\n",
    "# Test vector category\n",
    "health_test_nor <- df[-ran,14]"
   ]
  },
  {
   "cell_type": "code",
   "execution_count": 36,
   "metadata": {},
   "outputs": [
    {
     "data": {
      "text/plain": [
       "               health_test_nor\n",
       "health_pred_nor  0  1\n",
       "              0 19  5\n",
       "              1 10 27"
      ]
     },
     "metadata": {},
     "output_type": "display_data"
    },
    {
     "data": {
      "text/html": [
       "0.754098360655738"
      ],
      "text/latex": [
       "0.754098360655738"
      ],
      "text/markdown": [
       "0.754098360655738"
      ],
      "text/plain": [
       "[1] 0.7540984"
      ]
     },
     "metadata": {},
     "output_type": "display_data"
    }
   ],
   "source": [
    "# KNN MODEL with K value = 5  this time normalized\n",
    "health_pred_nor <- knn(train = KNN_train_nor, test = KNN_test_nor, cl = health_target_nor,k=5)\n",
    "\n",
    "#Confusion matrix!\n",
    "\n",
    "table(health_pred_nor, health_test_nor) # Confusion matrix\n",
    "\n",
    "# Compute the accuracy\n",
    "mean(health_pred_nor == health_test_nor) # 75% accuracy this time!!!! much better!\n",
    "\n",
    "# There is better accuracy then the previous non-normalized model !"
   ]
  },
  {
   "cell_type": "markdown",
   "metadata": {},
   "source": [
    "# NAIVE BAYES CLASSIFICATION"
   ]
  },
  {
   "cell_type": "code",
   "execution_count": 37,
   "metadata": {},
   "outputs": [
    {
     "name": "stderr",
     "output_type": "stream",
     "text": [
      "Installing package into 'C:/Users/blake/Documents/R/win-library/3.6'\n",
      "(as 'lib' is unspecified)\n"
     ]
    },
    {
     "name": "stdout",
     "output_type": "stream",
     "text": [
      "package 'naivebayes' successfully unpacked and MD5 sums checked\n",
      "\n",
      "The downloaded binary packages are in\n",
      "\tC:\\Users\\blake\\AppData\\Local\\Temp\\RtmpKUc8Bh\\downloaded_packages\n"
     ]
    },
    {
     "name": "stderr",
     "output_type": "stream",
     "text": [
      "Warning message:\n",
      "\"package 'naivebayes' was built under R version 3.6.2\"naivebayes 0.9.6 loaded\n"
     ]
    }
   ],
   "source": [
    "# Installing proper packages\n",
    "install.packages(\"naivebayes\")\n",
    "library(naivebayes)"
   ]
  },
  {
   "cell_type": "code",
   "execution_count": 39,
   "metadata": {},
   "outputs": [
    {
     "data": {
      "text/html": [
       "0.341836734693878"
      ],
      "text/latex": [
       "0.341836734693878"
      ],
      "text/markdown": [
       "0.341836734693878"
      ],
      "text/plain": [
       "[1] 0.3418367"
      ]
     },
     "metadata": {},
     "output_type": "display_data"
    }
   ],
   "source": [
    "# Exploring the probabilities of this dataset\n",
    "\n",
    "# Probabilities first\n",
    "p_A <- nrow(subset(df, sex == 1))/ nrow(df) # 68% are male\n",
    "\n",
    "p_B <- nrow(subset(df, chol >= 225)) / nrow(df) # probability of super high cholesterol \n",
    "\n",
    "# probability of them together \n",
    "p_AB <- nrow(subset(df, sex == 0 & chol >= 225)) / nrow(df) # only 22%\n",
    "\n",
    "# Probability of A or B\n",
    "# probability of having high cholesterol given that hes male\n",
    "p_A_given_B <- p_AB / p_B\n",
    "p_A_given_B"
   ]
  },
  {
   "cell_type": "code",
   "execution_count": 40,
   "metadata": {},
   "outputs": [
    {
     "data": {
      "text/html": [
       "227.25"
      ],
      "text/latex": [
       "227.25"
      ],
      "text/markdown": [
       "227.25"
      ],
      "text/plain": [
       "[1] 227.25"
      ]
     },
     "metadata": {},
     "output_type": "display_data"
    }
   ],
   "source": [
    "# Repeating how to make sample data!\n",
    "# Determine the number of rows for training\n",
    "nrow(df) * 0.75\n",
    "\n",
    "# Create a random sample of row IDs\n",
    "sample_rows <- sample(nrow(df), nrow(df) * 0.75)\n",
    "\n",
    "# Create the training dataset\n",
    "df_train <- df[sample_rows, ]\n",
    "\n",
    "# Create the test dataset\n",
    "df_test <- df[-sample_rows, ]\n",
    "\n",
    "\n",
    "df_train <- na.omit(df_train)\n",
    "df_test <- na.omit(df_test)\n",
    "\n",
    "# COLUMN OF TARGET \n",
    "# Test vector category\n",
    "naive_actual <- df[-sample_rows,14]\n"
   ]
  },
  {
   "cell_type": "code",
   "execution_count": 41,
   "metadata": {},
   "outputs": [
    {
     "name": "stderr",
     "output_type": "stream",
     "text": [
      "Warning message:\n",
      "\"predict.naive_bayes(): More features in the newdata are provided as there are probability tables in the object. Calculation is performed based on features to be found in the tables.\"Warning message:\n",
      "\"predict.naive_bayes(): More features in the newdata are provided as there are probability tables in the object. Calculation is performed based on features to be found in the tables.\""
     ]
    }
   ],
   "source": [
    "# USE ALL THE PREDICTORS IN THIS MODEL\n",
    "naive_model <- naive_bayes(target ~. , data = df_train)\n",
    "\n",
    "\n",
    "# take a look at the predicted values \n",
    "naive_pred <- predict(naive_model,df_test[-14]) \n",
    "\n",
    "# take a look at the predicted values \n",
    "df_test$naive_pred <- predict(naive_model,df_test[-14]) # predicting values for test set \n",
    "\n",
    "#making probabilities of even happening\n",
    "df_test$prob <-predict(naive_model,df_test[-14], type = \"prob\") # predicting the probabilities\n",
    "\n",
    "\n",
    "#Because the more complicated the model the algorithm assumes the calculations of complex models being independent events so here we will change laplace calculation\n",
    "#Changing laplace calculation!\n",
    "df_test$naive_pred_2 <- predict(naive_model,df_test[-14],laplace = 1,)"
   ]
  },
  {
   "cell_type": "code",
   "execution_count": 42,
   "metadata": {},
   "outputs": [
    {
     "data": {
      "text/plain": [
       "          naive_actual\n",
       "naive_pred  0  1\n",
       "         0 27 10\n",
       "         1  5 34"
      ]
     },
     "metadata": {},
     "output_type": "display_data"
    },
    {
     "data": {
      "text/html": [
       "0.802631578947368"
      ],
      "text/latex": [
       "0.802631578947368"
      ],
      "text/markdown": [
       "0.802631578947368"
      ],
      "text/plain": [
       "[1] 0.8026316"
      ]
     },
     "metadata": {},
     "output_type": "display_data"
    }
   ],
   "source": [
    "#Confusion matrix!\n",
    "\n",
    "table(naive_pred, naive_actual) # Confusion matrix\n",
    "\n",
    "# Compute the accuracy\n",
    "mean(naive_pred == naive_actual) # 80% accuracy this time!!!! much better!\n"
   ]
  },
  {
   "cell_type": "markdown",
   "metadata": {},
   "source": [
    "# LOGISTIC REGRESSION"
   ]
  },
  {
   "cell_type": "code",
   "execution_count": 44,
   "metadata": {},
   "outputs": [
    {
     "data": {
      "text/html": [
       "227.25"
      ],
      "text/latex": [
       "227.25"
      ],
      "text/markdown": [
       "227.25"
      ],
      "text/plain": [
       "[1] 227.25"
      ]
     },
     "metadata": {},
     "output_type": "display_data"
    }
   ],
   "source": [
    "# Rerunning the sample for copy and paste purposes later on!\n",
    "nrow(df) * 0.75\n",
    "\n",
    "# Create a random sample of row IDs\n",
    "sample_rows <- sample(nrow(df), nrow(df) * 0.75)\n",
    "\n",
    "# Create the training dataset\n",
    "df_train <- df[sample_rows, ]\n",
    "\n",
    "# Create the test dataset\n",
    "df_test <- df[-sample_rows, ]\n",
    "\n",
    "\n",
    "df_train <- na.omit(df_train)\n",
    "df_test <- na.omit(df_test)\n",
    "\n",
    "# Make test df vector for confusion matrix \n",
    "# Test vector category\n",
    "logistic_actual <- df[-sample_rows,14]\n"
   ]
  },
  {
   "cell_type": "code",
   "execution_count": 47,
   "metadata": {},
   "outputs": [
    {
     "data": {
      "text/plain": [
       "\n",
       "Call:\n",
       "glm(formula = target ~ ., family = \"binomial\", data = df_train)\n",
       "\n",
       "Deviance Residuals: \n",
       "    Min       1Q   Median       3Q      Max  \n",
       "-2.6035  -0.2919   0.1762   0.5278   2.4728  \n",
       "\n",
       "Coefficients:\n",
       "             Estimate Std. Error z value Pr(>|z|)    \n",
       "(Intercept)  2.990808   3.062808   0.976 0.328821    \n",
       "age         -0.015293   0.027234  -0.562 0.574423    \n",
       "sex         -1.921233   0.576492  -3.333 0.000860 ***\n",
       "cp           0.803713   0.224998   3.572 0.000354 ***\n",
       "trestbps    -0.025408   0.012427  -2.044 0.040907 *  \n",
       "chol        -0.003285   0.004635  -0.709 0.478455    \n",
       "fbs          0.817572   0.691083   1.183 0.236798    \n",
       "restecg      0.467842   0.429296   1.090 0.275805    \n",
       "thalach      0.032850   0.013328   2.465 0.013714 *  \n",
       "exang       -1.255962   0.503351  -2.495 0.012589 *  \n",
       "oldpeak     -0.424519   0.265804  -1.597 0.110241    \n",
       "slope        0.573574   0.429965   1.334 0.182203    \n",
       "ca          -0.798743   0.227567  -3.510 0.000448 ***\n",
       "thal        -0.834618   0.368975  -2.262 0.023698 *  \n",
       "---\n",
       "Signif. codes:  0 '***' 0.001 '**' 0.01 '*' 0.05 '.' 0.1 ' ' 1\n",
       "\n",
       "(Dispersion parameter for binomial family taken to be 1)\n",
       "\n",
       "    Null deviance: 309.27  on 226  degrees of freedom\n",
       "Residual deviance: 151.26  on 213  degrees of freedom\n",
       "AIC: 179.26\n",
       "\n",
       "Number of Fisher Scoring iterations: 6\n"
      ]
     },
     "metadata": {},
     "output_type": "display_data"
    },
    {
     "name": "stderr",
     "output_type": "stream",
     "text": [
      "Warning message in mean.default(df_test$target):\n",
      "\"argument is not numeric or logical: returning NA\""
     ]
    },
    {
     "data": {
      "text/html": [
       "&lt;NA&gt;"
      ],
      "text/latex": [
       "<NA>"
      ],
      "text/markdown": [
       "&lt;NA&gt;"
      ],
      "text/plain": [
       "[1] NA"
      ]
     },
     "metadata": {},
     "output_type": "display_data"
    },
    {
     "data": {
      "text/html": [
       "0.802631578947368"
      ],
      "text/latex": [
       "0.802631578947368"
      ],
      "text/markdown": [
       "0.802631578947368"
      ],
      "text/plain": [
       "[1] 0.8026316"
      ]
     },
     "metadata": {},
     "output_type": "display_data"
    }
   ],
   "source": [
    "# logistic regression \n",
    "glm_model <- glm(target ~. , data = df_train, family = \"binomial\")\n",
    "summary(glm_model) # estimates show positive relationship with age, fbs, thalach and cp\n",
    "\n",
    "# this gives a column of predicted probabilities\n",
    "glm_pred <- predict(glm_model,df_test, type = \"response\")\n",
    "\n",
    "df_test$glm_pred <- predict(glm_model,df_test, type = \"response\")\n",
    "\n",
    "# find the average target probability of having health problems\n",
    "mean(df_test$target) # it is binary here \n",
    "\n",
    "# make the predictions binary!!!!!!!!!\n",
    "df_test$target_pred <- ifelse(df_test$glm_pred > 0.504, 1, 0)\n",
    "\n",
    "# Calculate the model's accuracy\n",
    "mean(logistic_actual == df_test$target_pred) # 80% accurate!"
   ]
  },
  {
   "cell_type": "markdown",
   "metadata": {},
   "source": [
    "# Model Performance"
   ]
  },
  {
   "cell_type": "code",
   "execution_count": 48,
   "metadata": {},
   "outputs": [
    {
     "name": "stderr",
     "output_type": "stream",
     "text": [
      "Installing package into 'C:/Users/blake/Documents/R/win-library/3.6'\n",
      "(as 'lib' is unspecified)\n"
     ]
    },
    {
     "name": "stdout",
     "output_type": "stream",
     "text": [
      "package 'pROC' successfully unpacked and MD5 sums checked\n"
     ]
    },
    {
     "name": "stderr",
     "output_type": "stream",
     "text": [
      "Warning message:\n",
      "\"cannot remove prior installation of package 'pROC'\"Warning message in file.copy(savedcopy, lib, recursive = TRUE):\n",
      "\"problem copying C:\\Users\\blake\\Documents\\R\\win-library\\3.6\\00LOCK\\pROC\\libs\\x64\\pROC.dll to C:\\Users\\blake\\Documents\\R\\win-library\\3.6\\pROC\\libs\\x64\\pROC.dll: Permission denied\"Warning message:\n",
      "\"restored 'pROC'\""
     ]
    },
    {
     "name": "stdout",
     "output_type": "stream",
     "text": [
      "\n",
      "The downloaded binary packages are in\n",
      "\tC:\\Users\\blake\\AppData\\Local\\Temp\\RtmpKUc8Bh\\downloaded_packages\n"
     ]
    },
    {
     "name": "stderr",
     "output_type": "stream",
     "text": [
      "Warning message:\n",
      "\"package 'pROC' was built under R version 3.6.2\"Type 'citation(\"pROC\")' for a citation.\n",
      "\n",
      "Attaching package: 'pROC'\n",
      "\n",
      "The following objects are masked from 'package:stats':\n",
      "\n",
      "    cov, smooth, var\n",
      "\n",
      "Setting levels: control = 0, case = 1\n",
      "Setting direction: controls < cases\n"
     ]
    },
    {
     "data": {
      "text/html": [
       "0.890756302521008"
      ],
      "text/latex": [
       "0.890756302521008"
      ],
      "text/markdown": [
       "0.890756302521008"
      ],
      "text/plain": [
       "Area under the curve: 0.8908"
      ]
     },
     "metadata": {},
     "output_type": "display_data"
    },
    {
     "data": {
      "image/png": "[encoded data removed]",
      "text/plain": [
       "plot without title"
      ]
     },
     "metadata": {},
     "output_type": "display_data"
    }
   ],
   "source": [
    "# lets see the models performance with ROC \n",
    "# This tests the ability of test to correctly identify those with disease(true postive or sensitivity), \n",
    "#   where specificity is the ability to test correctly identify those without disease (true negative rate)\n",
    "# Load the pROC package\n",
    "install.packages(\"pROC\")\n",
    "library(pROC)\n",
    "\n",
    "# Create a ROC curve\n",
    "ROC <- roc(logistic_actual, df_test$glm_pred)\n",
    "\n",
    "# Plot the ROC curve\n",
    "plot(ROC, col = \"blue\")\n",
    "\n",
    "# Calculate the area under the curve (AUC)\n",
    "auc(ROC) # ROC is .9347"
   ]
  },
  {
   "cell_type": "code",
   "execution_count": 49,
   "metadata": {},
   "outputs": [],
   "source": [
    "# Decent! Now lets do bonus round of learning!"
   ]
  },
  {
   "cell_type": "markdown",
   "metadata": {},
   "source": [
    "# Stepwise Regression (automatic feature selection)"
   ]
  },
  {
   "cell_type": "code",
   "execution_count": 51,
   "metadata": {},
   "outputs": [
    {
     "name": "stdout",
     "output_type": "stream",
     "text": [
      "Start:  AIC=311.27\n",
      "target ~ 1\n",
      "\n",
      "           Df Deviance    AIC\n",
      "+ thalach   1   259.27 263.27\n",
      "+ oldpeak   1   260.09 264.09\n",
      "+ exang     1   263.78 267.78\n",
      "+ cp        1   268.62 272.62\n",
      "+ ca        1   275.71 279.71\n",
      "+ thal      1   276.76 280.76\n",
      "+ slope     1   277.67 281.67\n",
      "+ sex       1   288.25 292.25\n",
      "+ age       1   293.88 297.88\n",
      "+ trestbps  1   300.35 304.35\n",
      "+ restecg   1   303.35 307.35\n",
      "<none>          309.27 311.27\n",
      "+ chol      1   309.18 313.18\n",
      "+ fbs       1   309.26 313.26\n",
      "\n",
      "Step:  AIC=263.27\n",
      "target ~ thalach\n",
      "\n",
      "           Df Deviance    AIC\n",
      "+ thal      1   233.39 239.39\n",
      "+ cp        1   235.18 241.18\n",
      "+ sex       1   235.73 241.73\n",
      "+ exang     1   235.75 241.75\n",
      "+ ca        1   237.19 243.19\n",
      "+ oldpeak   1   237.46 243.46\n",
      "+ slope     1   248.48 254.48\n",
      "+ trestbps  1   252.00 258.00\n",
      "+ restecg   1   253.98 259.98\n",
      "+ age       1   257.14 263.14\n",
      "<none>          259.27 263.27\n",
      "+ chol      1   258.67 264.67\n",
      "+ fbs       1   258.86 264.86\n",
      "\n",
      "Step:  AIC=239.39\n",
      "target ~ thalach + thal\n",
      "\n",
      "           Df Deviance    AIC\n",
      "+ cp        1   213.92 221.92\n",
      "+ ca        1   215.28 223.28\n",
      "+ exang     1   216.03 224.03\n",
      "+ oldpeak   1   218.30 226.30\n",
      "+ sex       1   219.69 227.69\n",
      "+ slope     1   225.39 233.39\n",
      "+ trestbps  1   226.87 234.87\n",
      "+ restecg   1   226.92 234.92\n",
      "<none>          233.39 239.39\n",
      "+ age       1   231.90 239.90\n",
      "+ fbs       1   233.07 241.07\n",
      "+ chol      1   233.21 241.21\n",
      "\n",
      "Step:  AIC=221.92\n",
      "target ~ thalach + thal + cp\n",
      "\n",
      "           Df Deviance    AIC\n",
      "+ oldpeak   1   195.75 205.75\n",
      "+ ca        1   196.55 206.55\n",
      "+ sex       1   197.67 207.67\n",
      "+ slope     1   204.61 214.61\n",
      "+ exang     1   205.04 215.04\n",
      "+ trestbps  1   205.79 215.79\n",
      "+ restecg   1   208.53 218.53\n",
      "+ age       1   211.76 221.76\n",
      "<none>          213.92 221.92\n",
      "+ chol      1   213.90 223.90\n",
      "+ fbs       1   213.92 223.92\n",
      "\n",
      "Step:  AIC=205.75\n",
      "target ~ thalach + thal + cp + oldpeak\n",
      "\n",
      "           Df Deviance    AIC\n",
      "+ ca        1   180.26 192.26\n",
      "+ sex       1   181.18 193.18\n",
      "+ exang     1   189.56 201.56\n",
      "+ trestbps  1   190.86 202.86\n",
      "+ restecg   1   192.44 204.44\n",
      "+ age       1   193.49 205.49\n",
      "<none>          195.75 205.75\n",
      "+ slope     1   195.02 207.02\n",
      "+ fbs       1   195.61 207.61\n",
      "+ chol      1   195.75 207.75\n",
      "\n",
      "Step:  AIC=192.26\n",
      "target ~ thalach + thal + cp + oldpeak + ca\n",
      "\n",
      "           Df Deviance    AIC\n",
      "+ sex       1   169.91 183.91\n",
      "+ exang     1   172.44 186.44\n",
      "+ trestbps  1   174.42 188.42\n",
      "+ restecg   1   177.75 191.75\n",
      "<none>          180.26 192.26\n",
      "+ slope     1   178.43 192.43\n",
      "+ age       1   179.85 193.85\n",
      "+ fbs       1   180.23 194.23\n",
      "+ chol      1   180.25 194.25\n",
      "\n",
      "Step:  AIC=183.92\n",
      "target ~ thalach + thal + cp + oldpeak + ca + sex\n",
      "\n",
      "           Df Deviance    AIC\n",
      "+ exang     1   162.05 178.05\n",
      "+ trestbps  1   162.86 178.86\n",
      "+ slope     1   167.41 183.41\n",
      "+ restecg   1   167.51 183.51\n",
      "<none>          169.91 183.91\n",
      "+ age       1   168.16 184.16\n",
      "+ chol      1   168.53 184.53\n",
      "+ fbs       1   169.89 185.89\n",
      "\n",
      "Step:  AIC=178.05\n",
      "target ~ thalach + thal + cp + oldpeak + ca + sex + exang\n",
      "\n",
      "           Df Deviance    AIC\n",
      "+ trestbps  1   156.78 174.78\n",
      "+ restecg   1   159.57 177.57\n",
      "<none>          162.05 178.05\n",
      "+ slope     1   160.16 178.16\n",
      "+ age       1   160.27 178.27\n",
      "+ chol      1   161.00 179.00\n",
      "+ fbs       1   161.77 179.77\n",
      "\n",
      "Step:  AIC=174.78\n",
      "target ~ thalach + thal + cp + oldpeak + ca + sex + exang + trestbps\n",
      "\n",
      "          Df Deviance    AIC\n",
      "<none>         156.78 174.78\n",
      "+ slope    1   154.86 174.86\n",
      "+ restecg  1   154.96 174.96\n",
      "+ chol     1   155.89 175.89\n",
      "+ fbs      1   156.08 176.08\n",
      "+ age      1   156.19 176.19\n"
     ]
    }
   ],
   "source": [
    "# Stepwise Regression for predictor \n",
    "# Specify a null model with no predictors\n",
    "null_model <- glm(target ~ 1, data = df_train, family = \"binomial\")\n",
    "\n",
    "# Specify the full model using all of the potential predictors\n",
    "full_model <- glm(target ~ ., data = df_train, family = \"binomial\")\n",
    "\n",
    "# Use a forward stepwise algorithm to build a parsimonious model\n",
    "step_model <- step(null_model, scope = list(lower = null_model, upper = full_model), direction = \"forward\")\n",
    "\n",
    "# Estimate the stepwise donation probability\n",
    "step_prob <- predict(step_model, type = \"response\")\n",
    "\n"
   ]
  },
  {
   "cell_type": "code",
   "execution_count": 52,
   "metadata": {},
   "outputs": [
    {
     "name": "stderr",
     "output_type": "stream",
     "text": [
      "Setting levels: control = 0, case = 1\n",
      "Setting direction: controls < cases\n"
     ]
    },
    {
     "data": {
      "text/html": [
       "0.9220737913486"
      ],
      "text/latex": [
       "0.9220737913486"
      ],
      "text/markdown": [
       "0.9220737913486"
      ],
      "text/plain": [
       "Area under the curve: 0.9221"
      ]
     },
     "metadata": {},
     "output_type": "display_data"
    },
    {
     "data": {
      "image/png": "[encoded data removed]",
      "text/plain": [
       "plot without title"
      ]
     },
     "metadata": {},
     "output_type": "display_data"
    }
   ],
   "source": [
    "# Plot the ROC of the stepwise model\n",
    "\n",
    "library(pROC)\n",
    "ROC <- roc(df_train$target, step_prob)\n",
    "plot(ROC, col = \"red\")\n",
    "auc(ROC)\n"
   ]
  },
  {
   "cell_type": "markdown",
   "metadata": {},
   "source": [
    "# Better !!! The purpose of this script for me was to learn the syntax and structure of these different algorithms not the mathmatical background! Hopefully this helps you like it helped me!"
   ]
  },
  {
   "cell_type": "code",
   "execution_count": null,
   "metadata": {},
   "outputs": [],
   "source": []
  }
 ],
 "metadata": {
  "kernelspec": {
   "display_name": "R",
   "language": "R",
   "name": "ir"
  },
  "language_info": {
   "codemirror_mode": "r",
   "file_extension": ".r",
   "mimetype": "text/x-r-source",
   "name": "R",
   "pygments_lexer": "r",
   "version": "3.6.1"
  }
 },
 "nbformat": 4,
 "nbformat_minor": 4
}
