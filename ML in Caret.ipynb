{
 "cells": [
  {
   "cell_type": "markdown",
   "metadata": {},
   "source": [
    "# MACHINE LEARNING WITH CARET PACKAGE\n",
    " This is to understand the syntax of the caret package!!!!!!!!"
   ]
  },
  {
   "cell_type": "code",
   "execution_count": 1,
   "metadata": {},
   "outputs": [
    {
     "name": "stderr",
     "output_type": "stream",
     "text": [
      "Installing package into 'C:/Users/blake/Documents/R/win-library/3.6'\n",
      "(as 'lib' is unspecified)\n"
     ]
    },
    {
     "name": "stdout",
     "output_type": "stream",
     "text": [
      "package 'caret' successfully unpacked and MD5 sums checked\n"
     ]
    },
    {
     "name": "stderr",
     "output_type": "stream",
     "text": [
      "Warning message:\n",
      "\"cannot remove prior installation of package 'caret'\"Warning message in file.copy(savedcopy, lib, recursive = TRUE):\n",
      "\"problem copying C:\\Users\\blake\\Documents\\R\\win-library\\3.6\\00LOCK\\caret\\libs\\x64\\caret.dll to C:\\Users\\blake\\Documents\\R\\win-library\\3.6\\caret\\libs\\x64\\caret.dll: Permission denied\"Warning message:\n",
      "\"restored 'caret'\""
     ]
    },
    {
     "name": "stdout",
     "output_type": "stream",
     "text": [
      "\n",
      "The downloaded binary packages are in\n",
      "\tC:\\Users\\blake\\AppData\\Local\\Temp\\RtmpIdDtCN\\downloaded_packages\n"
     ]
    },
    {
     "name": "stderr",
     "output_type": "stream",
     "text": [
      "Warning message:\n",
      "\"package 'caret' was built under R version 3.6.3\"Loading required package: lattice\n",
      "Loading required package: ggplot2\n",
      "Warning message:\n",
      "\"package 'ggplot2' was built under R version 3.6.2\"Installing package into 'C:/Users/blake/Documents/R/win-library/3.6'\n",
      "(as 'lib' is unspecified)\n"
     ]
    },
    {
     "name": "stdout",
     "output_type": "stream",
     "text": [
      "package 'mlbench' successfully unpacked and MD5 sums checked\n",
      "\n",
      "The downloaded binary packages are in\n",
      "\tC:\\Users\\blake\\AppData\\Local\\Temp\\RtmpIdDtCN\\downloaded_packages\n"
     ]
    },
    {
     "name": "stderr",
     "output_type": "stream",
     "text": [
      "Warning message:\n",
      "\"package 'mlbench' was built under R version 3.6.3\""
     ]
    }
   ],
   "source": [
    "# Here i found an advertising dataset that will fit good for regression\n",
    "install.packages(\"caret\")\n",
    "library(caret)\n",
    "install.packages(\"mlbench\")\n",
    "library(mlbench)"
   ]
  },
  {
   "cell_type": "code",
   "execution_count": 4,
   "metadata": {},
   "outputs": [
    {
     "data": {
      "text/plain": [
       "    RecordID            TV             Radio          Newspaper     \n",
       " Min.   :  1.00   Min.   :  0.70   Min.   : 0.000   Min.   :  0.30  \n",
       " 1st Qu.: 50.75   1st Qu.: 74.38   1st Qu.: 9.975   1st Qu.: 12.75  \n",
       " Median :100.50   Median :149.75   Median :22.900   Median : 25.75  \n",
       " Mean   :100.50   Mean   :147.04   Mean   :23.264   Mean   : 30.55  \n",
       " 3rd Qu.:150.25   3rd Qu.:218.82   3rd Qu.:36.525   3rd Qu.: 45.10  \n",
       " Max.   :200.00   Max.   :296.40   Max.   :49.600   Max.   :114.00  \n",
       "     Sales      \n",
       " Min.   : 1.60  \n",
       " 1st Qu.:10.38  \n",
       " Median :12.90  \n",
       " Mean   :14.02  \n",
       " 3rd Qu.:17.40  \n",
       " Max.   :27.00  "
      ]
     },
     "metadata": {},
     "output_type": "display_data"
    }
   ],
   "source": [
    "df <- read.csv(\"Advertising.csv\")\n",
    "summary(df) # no NA values"
   ]
  },
  {
   "cell_type": "code",
   "execution_count": 5,
   "metadata": {},
   "outputs": [],
   "source": [
    "# Using Caret for Regression to test insample vs out of sample rmse to reduce overfitting \n",
    "#Here we will will make a model\n",
    "# just get rid of the first column record id\n",
    "df <- df[-1] # just get rid of the first column record id\n"
   ]
  },
  {
   "cell_type": "code",
   "execution_count": 6,
   "metadata": {},
   "outputs": [
    {
     "data": {
      "text/html": [
       "1.66857014072257"
      ],
      "text/latex": [
       "1.66857014072257"
      ],
      "text/markdown": [
       "1.66857014072257"
      ],
      "text/plain": [
       "[1] 1.66857"
      ]
     },
     "metadata": {},
     "output_type": "display_data"
    }
   ],
   "source": [
    "# Regression \n",
    "mdl <- lm(Sales ~., df)\n",
    "\n",
    "# Predict using full data\n",
    "pred <- predict(mdl, df)\n",
    "\n",
    "# Compute errors: error\n",
    "error <- pred - df[[\"Sales\"]]\n",
    "\n",
    "# Calculate RMSE\n",
    "sqrt(mean(error ^ 2))\n"
   ]
  },
  {
   "cell_type": "code",
   "execution_count": 7,
   "metadata": {},
   "outputs": [],
   "source": [
    "# MAKING TRAIN AND TEST\n",
    "#Out of sample error \n",
    "#First lets split our data\n",
    "set.seed(34)\n",
    "\n",
    "# Shuffle row indices:rows\n",
    "rows <- sample(nrow(df))\n",
    "\n",
    "#Randomly order data\n",
    "shuffled_df <- df[rows, ]\n",
    "\n",
    "# Determine row to split on: split\n",
    "split <- round(nrow(df) * 0.80) # use 80% of data for training\n",
    "\n",
    "# Create train\n",
    "train <- df[1:split, ] # 1:80% of dataset or row 160 \n",
    "\n",
    "# Create test\n",
    "test <- df[(split + 1):nrow(df), ] # take the rest of the rows in the df that is not test\n"
   ]
  },
  {
   "cell_type": "code",
   "execution_count": 8,
   "metadata": {},
   "outputs": [
    {
     "data": {
      "text/html": [
       "1.67067207622453"
      ],
      "text/latex": [
       "1.67067207622453"
      ],
      "text/markdown": [
       "1.67067207622453"
      ],
      "text/plain": [
       "[1] 1.670672"
      ]
     },
     "metadata": {},
     "output_type": "display_data"
    }
   ],
   "source": [
    "# Fit lm model on train: model\n",
    "model <- lm(Sales ~ ., train)\n",
    "\n",
    "# Predict on test: p\n",
    "p <- predict(model, test)\n",
    "\n",
    "# Compute errors: error\n",
    "error <- p - test[[\"Sales\"]]\n",
    "\n",
    "# Calculate RMSE\n",
    "sqrt(mean(error^2))\n"
   ]
  },
  {
   "cell_type": "markdown",
   "metadata": {},
   "source": [
    "# 10 FOLD CROSS VALIDATION"
   ]
  },
  {
   "cell_type": "code",
   "execution_count": 9,
   "metadata": {},
   "outputs": [
    {
     "name": "stdout",
     "output_type": "stream",
     "text": [
      "+ Fold01: intercept=TRUE \n",
      "- Fold01: intercept=TRUE \n",
      "+ Fold02: intercept=TRUE \n",
      "- Fold02: intercept=TRUE \n",
      "+ Fold03: intercept=TRUE \n",
      "- Fold03: intercept=TRUE \n",
      "+ Fold04: intercept=TRUE \n",
      "- Fold04: intercept=TRUE \n",
      "+ Fold05: intercept=TRUE \n",
      "- Fold05: intercept=TRUE \n",
      "+ Fold06: intercept=TRUE \n",
      "- Fold06: intercept=TRUE \n",
      "+ Fold07: intercept=TRUE \n",
      "- Fold07: intercept=TRUE \n",
      "+ Fold08: intercept=TRUE \n",
      "- Fold08: intercept=TRUE \n",
      "+ Fold09: intercept=TRUE \n",
      "- Fold09: intercept=TRUE \n",
      "+ Fold10: intercept=TRUE \n",
      "- Fold10: intercept=TRUE \n",
      "Aggregating results\n",
      "Fitting final model on full training set\n"
     ]
    },
    {
     "data": {
      "text/plain": [
       "Linear Regression \n",
       "\n",
       "200 samples\n",
       "  3 predictor\n",
       "\n",
       "No pre-processing\n",
       "Resampling: Cross-Validated (10 fold) \n",
       "Summary of sample sizes: 181, 179, 180, 180, 179, 180, ... \n",
       "Resampling results:\n",
       "\n",
       "  RMSE      Rsquared   MAE     \n",
       "  1.680437  0.8935956  1.269404\n",
       "\n",
       "Tuning parameter 'intercept' was held constant at a value of TRUE"
      ]
     },
     "metadata": {},
     "output_type": "display_data"
    }
   ],
   "source": [
    "# Now fit the linear regression using 10-fold Cross Validation instead\n",
    "# Fit lm model using 10-fold CV: model\n",
    "# we will need caret for this \n",
    "model <- train(\n",
    "  Sales ~ ., \n",
    "  df,\n",
    "  method = \"lm\",\n",
    "  trControl = trainControl(\n",
    "    method = \"cv\", \n",
    "    number = 10,\n",
    "    verboseIter = TRUE\n",
    "  )\n",
    ")\n",
    "# Print model to console\n",
    "model"
   ]
  },
  {
   "cell_type": "code",
   "execution_count": 10,
   "metadata": {},
   "outputs": [
    {
     "name": "stdout",
     "output_type": "stream",
     "text": [
      "+ Fold1: intercept=TRUE \n",
      "- Fold1: intercept=TRUE \n",
      "+ Fold2: intercept=TRUE \n",
      "- Fold2: intercept=TRUE \n",
      "+ Fold3: intercept=TRUE \n",
      "- Fold3: intercept=TRUE \n",
      "+ Fold4: intercept=TRUE \n",
      "- Fold4: intercept=TRUE \n",
      "+ Fold5: intercept=TRUE \n",
      "- Fold5: intercept=TRUE \n",
      "Aggregating results\n",
      "Fitting final model on full training set\n"
     ]
    },
    {
     "data": {
      "text/plain": [
       "Linear Regression \n",
       "\n",
       "200 samples\n",
       "  3 predictor\n",
       "\n",
       "No pre-processing\n",
       "Resampling: Cross-Validated (5 fold) \n",
       "Summary of sample sizes: 161, 161, 159, 159, 160 \n",
       "Resampling results:\n",
       "\n",
       "  RMSE      Rsquared   MAE     \n",
       "  1.694525  0.8985257  1.278135\n",
       "\n",
       "Tuning parameter 'intercept' was held constant at a value of TRUE"
      ]
     },
     "metadata": {},
     "output_type": "display_data"
    }
   ],
   "source": [
    "# Fit lm model using 5-fold CV: model to see difference\n",
    "model2 <- train(\n",
    "  Sales ~ ., \n",
    "  df,\n",
    "  method = \"lm\",\n",
    "  trControl = trainControl(\n",
    "    method = \"cv\", \n",
    "    number = 5,\n",
    "    verboseIter = TRUE\n",
    "  )\n",
    ")\n",
    "\n",
    "# Print model to console\n",
    "model2 #Slightly higher rmse"
   ]
  },
  {
   "cell_type": "code",
   "execution_count": 11,
   "metadata": {},
   "outputs": [
    {
     "name": "stdout",
     "output_type": "stream",
     "text": [
      "+ Fold1.Rep1: intercept=TRUE \n",
      "- Fold1.Rep1: intercept=TRUE \n",
      "+ Fold2.Rep1: intercept=TRUE \n",
      "- Fold2.Rep1: intercept=TRUE \n",
      "+ Fold3.Rep1: intercept=TRUE \n",
      "- Fold3.Rep1: intercept=TRUE \n",
      "+ Fold4.Rep1: intercept=TRUE \n",
      "- Fold4.Rep1: intercept=TRUE \n",
      "+ Fold5.Rep1: intercept=TRUE \n",
      "- Fold5.Rep1: intercept=TRUE \n",
      "+ Fold1.Rep2: intercept=TRUE \n",
      "- Fold1.Rep2: intercept=TRUE \n",
      "+ Fold2.Rep2: intercept=TRUE \n",
      "- Fold2.Rep2: intercept=TRUE \n",
      "+ Fold3.Rep2: intercept=TRUE \n",
      "- Fold3.Rep2: intercept=TRUE \n",
      "+ Fold4.Rep2: intercept=TRUE \n",
      "- Fold4.Rep2: intercept=TRUE \n",
      "+ Fold5.Rep2: intercept=TRUE \n",
      "- Fold5.Rep2: intercept=TRUE \n",
      "+ Fold1.Rep3: intercept=TRUE \n",
      "- Fold1.Rep3: intercept=TRUE \n",
      "+ Fold2.Rep3: intercept=TRUE \n",
      "- Fold2.Rep3: intercept=TRUE \n",
      "+ Fold3.Rep3: intercept=TRUE \n",
      "- Fold3.Rep3: intercept=TRUE \n",
      "+ Fold4.Rep3: intercept=TRUE \n",
      "- Fold4.Rep3: intercept=TRUE \n",
      "+ Fold5.Rep3: intercept=TRUE \n",
      "- Fold5.Rep3: intercept=TRUE \n",
      "+ Fold1.Rep4: intercept=TRUE \n",
      "- Fold1.Rep4: intercept=TRUE \n",
      "+ Fold2.Rep4: intercept=TRUE \n",
      "- Fold2.Rep4: intercept=TRUE \n",
      "+ Fold3.Rep4: intercept=TRUE \n",
      "- Fold3.Rep4: intercept=TRUE \n",
      "+ Fold4.Rep4: intercept=TRUE \n",
      "- Fold4.Rep4: intercept=TRUE \n",
      "+ Fold5.Rep4: intercept=TRUE \n",
      "- Fold5.Rep4: intercept=TRUE \n",
      "+ Fold1.Rep5: intercept=TRUE \n",
      "- Fold1.Rep5: intercept=TRUE \n",
      "+ Fold2.Rep5: intercept=TRUE \n",
      "- Fold2.Rep5: intercept=TRUE \n",
      "+ Fold3.Rep5: intercept=TRUE \n",
      "- Fold3.Rep5: intercept=TRUE \n",
      "+ Fold4.Rep5: intercept=TRUE \n",
      "- Fold4.Rep5: intercept=TRUE \n",
      "+ Fold5.Rep5: intercept=TRUE \n",
      "- Fold5.Rep5: intercept=TRUE \n",
      "Aggregating results\n",
      "Fitting final model on full training set\n"
     ]
    },
    {
     "data": {
      "text/plain": [
       "Linear Regression \n",
       "\n",
       "200 samples\n",
       "  3 predictor\n",
       "\n",
       "No pre-processing\n",
       "Resampling: Cross-Validated (5 fold, repeated 5 times) \n",
       "Summary of sample sizes: 161, 160, 160, 160, 159, 161, ... \n",
       "Resampling results:\n",
       "\n",
       "  RMSE     Rsquared  MAE     \n",
       "  1.70042  0.896364  1.278439\n",
       "\n",
       "Tuning parameter 'intercept' was held constant at a value of TRUE"
      ]
     },
     "metadata": {},
     "output_type": "display_data"
    }
   ],
   "source": [
    "# Fit lm model using 5 x 5-fold CV: model\n",
    "model3 <- train(\n",
    "  Sales ~ ., \n",
    "  df,\n",
    "  method = \"lm\",\n",
    "  trControl = trainControl(\n",
    "    method = \"repeatedcv\", \n",
    "    number = 5,\n",
    "    repeats = 5, #this allows you to repeat the 5 fold 5 times\n",
    "    verboseIter = TRUE\n",
    "  )\n",
    ")\n",
    "\n",
    "# Print model to console\n",
    "model3 #Slightly higher again"
   ]
  },
  {
   "cell_type": "code",
   "execution_count": 12,
   "metadata": {},
   "outputs": [
    {
     "data": {
      "text/html": [
       "1.67067207622453"
      ],
      "text/latex": [
       "1.67067207622453"
      ],
      "text/markdown": [
       "1.67067207622453"
      ],
      "text/plain": [
       "[1] 1.670672"
      ]
     },
     "metadata": {},
     "output_type": "display_data"
    }
   ],
   "source": [
    "# Predict on full advertising dataset using 10 fold cross validation\n",
    "p2 <- predict(model,test)\n",
    "\n",
    "# Compute errors: error\n",
    "error2 <- p2 - test[[\"Sales\"]]\n",
    "\n",
    "# Calculate RMSE\n",
    "sqrt(mean(error^2)) # just about the same lower than train!!!\n"
   ]
  },
  {
   "cell_type": "markdown",
   "metadata": {},
   "source": [
    "# Logistic Regression"
   ]
  },
  {
   "cell_type": "code",
   "execution_count": 14,
   "metadata": {},
   "outputs": [
    {
     "data": {
      "text/html": [
       "<ol class=list-inline>\n",
       "\t<li>1.6</li>\n",
       "\t<li>27</li>\n",
       "</ol>\n"
      ],
      "text/latex": [
       "\\begin{enumerate*}\n",
       "\\item 1.6\n",
       "\\item 27\n",
       "\\end{enumerate*}\n"
      ],
      "text/markdown": [
       "1. 1.6\n",
       "2. 27\n",
       "\n",
       "\n"
      ],
      "text/plain": [
       "[1]  1.6 27.0"
      ]
     },
     "metadata": {},
     "output_type": "display_data"
    },
    {
     "data": {
      "text/html": [
       "14.0225"
      ],
      "text/latex": [
       "14.0225"
      ],
      "text/markdown": [
       "14.0225"
      ],
      "text/plain": [
       "[1] 14.0225"
      ]
     },
     "metadata": {},
     "output_type": "display_data"
    }
   ],
   "source": [
    "# LOGISTIC REGRESSION (CLASSIFICATION)\n",
    "# lets change the sales to a binary value for logistic regression!\n",
    "range(df$Sales) # 1.6 to 27.0\n",
    "mean(df$Sales) # 14.025\n",
    "\n",
    "# Make column if sales are over 14 then it is 1 (\"high sales\") and less than 14 it is 0 \n",
    "df$Sales2 <- ifelse(df$Sales< 14,0,1);\n",
    "\n",
    "# Make df that doesnt include original sales column\n",
    "df_c <- df[-4] # get rid of 4th column\n",
    "\n",
    "# Get the number of observations\n",
    "n_obs <- nrow(df_c)\n"
   ]
  },
  {
   "cell_type": "code",
   "execution_count": 15,
   "metadata": {},
   "outputs": [],
   "source": [
    "# Shuffle row indices: permuted_rows\n",
    "permuted_rows <- sample(n_obs)\n",
    "\n",
    "# Randomly order data: df_c\n",
    "df_c_shuffled <- df_c[permuted_rows, ]\n",
    "\n",
    "# Identify row to split on: split\n",
    "split <- round(n_obs * 0.6)\n",
    "\n",
    "# Create train\n",
    "train <- df_c_shuffled[1:split, ]\n",
    "\n",
    "# Create test\n",
    "test <- df_c_shuffled[(split + 1):n_obs, ]\n"
   ]
  },
  {
   "cell_type": "code",
   "execution_count": 16,
   "metadata": {},
   "outputs": [
    {
     "data": {
      "text/plain": [
       "\n",
       "Call:\n",
       "glm(formula = Sales2 ~ ., family = \"binomial\", data = train)\n",
       "\n",
       "Deviance Residuals: \n",
       "     Min        1Q    Median        3Q       Max  \n",
       "-1.94428  -0.06661  -0.00038   0.04728   1.94946  \n",
       "\n",
       "Coefficients:\n",
       "              Estimate Std. Error z value Pr(>|z|)    \n",
       "(Intercept) -22.672039   5.966133  -3.800 0.000145 ***\n",
       "TV            0.076966   0.020210   3.808 0.000140 ***\n",
       "Radio         0.439735   0.117605   3.739 0.000185 ***\n",
       "Newspaper     0.001575   0.023283   0.068 0.946053    \n",
       "---\n",
       "Signif. codes:  0 '***' 0.001 '**' 0.01 '*' 0.05 '.' 0.1 ' ' 1\n",
       "\n",
       "(Dispersion parameter for binomial family taken to be 1)\n",
       "\n",
       "    Null deviance: 164.718  on 119  degrees of freedom\n",
       "Residual deviance:  29.435  on 116  degrees of freedom\n",
       "AIC: 37.435\n",
       "\n",
       "Number of Fisher Scoring iterations: 9\n"
      ]
     },
     "metadata": {},
     "output_type": "display_data"
    }
   ],
   "source": [
    "# Fit glm model: model\n",
    "model <- glm(Sales2 ~ ., family = \"binomial\", train)\n",
    "summary(model)"
   ]
  },
  {
   "cell_type": "code",
   "execution_count": 17,
   "metadata": {},
   "outputs": [
    {
     "data": {
      "text/html": [
       "0.441150274997802"
      ],
      "text/latex": [
       "0.441150274997802"
      ],
      "text/markdown": [
       "0.441150274997802"
      ],
      "text/plain": [
       "[1] 0.4411503"
      ]
     },
     "metadata": {},
     "output_type": "display_data"
    },
    {
     "data": {
      "text/plain": [
       "Confusion Matrix and Statistics\n",
       "\n",
       "          Reference\n",
       "Prediction  0  1\n",
       "         0 42  4\n",
       "         1  1 33\n",
       "                                          \n",
       "               Accuracy : 0.9375          \n",
       "                 95% CI : (0.8601, 0.9794)\n",
       "    No Information Rate : 0.5375          \n",
       "    P-Value [Acc > NIR] : 3.302e-15       \n",
       "                                          \n",
       "                  Kappa : 0.8736          \n",
       "                                          \n",
       " Mcnemar's Test P-Value : 0.3711          \n",
       "                                          \n",
       "            Sensitivity : 0.9767          \n",
       "            Specificity : 0.8919          \n",
       "         Pos Pred Value : 0.9130          \n",
       "         Neg Pred Value : 0.9706          \n",
       "             Prevalence : 0.5375          \n",
       "         Detection Rate : 0.5250          \n",
       "   Detection Prevalence : 0.5750          \n",
       "      Balanced Accuracy : 0.9343          \n",
       "                                          \n",
       "       'Positive' Class : 0               \n",
       "                                          "
      ]
     },
     "metadata": {},
     "output_type": "display_data"
    }
   ],
   "source": [
    "# Predict on test: p\n",
    "p <- predict(model, test, type = \"response\")\n",
    "\n",
    "# If p exceeds threshold of 0.5, High (1) else (0) Low: H_or_L\n",
    "# get middle threshold\n",
    "mean(p)\n",
    "h_or_l <- ifelse(p > 0.5, 1, 0)\n",
    "h_or_l <- as.factor(h_or_l) # making it a factor\n",
    "test$sales2 <- as.factor(test$Sales2) # making it factor\n",
    "\n",
    "# Create confusion matrix must have the two comparison columns same level and type (this case factor)\n",
    "confusionMatrix(h_or_l, test$sales2) #92% accuracy pretty good\n"
   ]
  },
  {
   "cell_type": "code",
   "execution_count": 18,
   "metadata": {},
   "outputs": [
    {
     "data": {
      "text/plain": [
       "Confusion Matrix and Statistics\n",
       "\n",
       "          Reference\n",
       "Prediction  0  1\n",
       "         0 42  7\n",
       "         1  1 30\n",
       "                                          \n",
       "               Accuracy : 0.9             \n",
       "                 95% CI : (0.8124, 0.9558)\n",
       "    No Information Rate : 0.5375          \n",
       "    P-Value [Acc > NIR] : 2.681e-12       \n",
       "                                          \n",
       "                  Kappa : 0.7966          \n",
       "                                          \n",
       " Mcnemar's Test P-Value : 0.0771          \n",
       "                                          \n",
       "            Sensitivity : 0.9767          \n",
       "            Specificity : 0.8108          \n",
       "         Pos Pred Value : 0.8571          \n",
       "         Neg Pred Value : 0.9677          \n",
       "             Prevalence : 0.5375          \n",
       "         Detection Rate : 0.5250          \n",
       "   Detection Prevalence : 0.6125          \n",
       "      Balanced Accuracy : 0.8938          \n",
       "                                          \n",
       "       'Positive' Class : 0               \n",
       "                                          "
      ]
     },
     "metadata": {},
     "output_type": "display_data"
    }
   ],
   "source": [
    "# Using different classification thrushold\n",
    "# 10% would catch more high sales with less certainty \n",
    "# 90% would catch less high sales with more certainty\n",
    "\n",
    "# If p exceeds threshold of 0.9\n",
    "h_or_l <- ifelse(p > 0.9, 1, 0)\n",
    "h_or_l <- as.factor(h_or_l) # making it a factor\n",
    "\n",
    "# Create confusion matrix 90% now\n",
    "#For example, pretend you want to identify the objects you are really certain are highsales. In this case, you might want to use a probability threshold of \n",
    "confusionMatrix(h_or_l, test$sales2)  # only 90% accuracy \n",
    "#sensitivity is the ability of a test to correctly identify those that are high sales (true positive rate)\n",
    "# less accuracy now but higher certainty or (sensitivity)"
   ]
  },
  {
   "cell_type": "code",
   "execution_count": 19,
   "metadata": {},
   "outputs": [
    {
     "data": {
      "text/plain": [
       "Confusion Matrix and Statistics\n",
       "\n",
       "          Reference\n",
       "Prediction  0  1\n",
       "         0 36  1\n",
       "         1  7 36\n",
       "                                          \n",
       "               Accuracy : 0.9             \n",
       "                 95% CI : (0.8124, 0.9558)\n",
       "    No Information Rate : 0.5375          \n",
       "    P-Value [Acc > NIR] : 2.681e-12       \n",
       "                                          \n",
       "                  Kappa : 0.8011          \n",
       "                                          \n",
       " Mcnemar's Test P-Value : 0.0771          \n",
       "                                          \n",
       "            Sensitivity : 0.8372          \n",
       "            Specificity : 0.9730          \n",
       "         Pos Pred Value : 0.9730          \n",
       "         Neg Pred Value : 0.8372          \n",
       "             Prevalence : 0.5375          \n",
       "         Detection Rate : 0.4500          \n",
       "   Detection Prevalence : 0.4625          \n",
       "      Balanced Accuracy : 0.9051          \n",
       "                                          \n",
       "       'Positive' Class : 0               \n",
       "                                          "
      ]
     },
     "metadata": {},
     "output_type": "display_data"
    }
   ],
   "source": [
    "# If p exceeds threshold of 0.1\n",
    "# we want to be really certain that model correctly predicts all high sales\n",
    "h_or_l <- ifelse(p > 0.1, 1, 0)\n",
    "h_or_l <- as.factor(h_or_l) # making it a factor\n",
    "\n",
    "# Create confusion matrix 10% now\n",
    "confusionMatrix(h_or_l, test$sales2) #95% accuracy pretty good\n",
    "#specificity is the ability of the test to correctly identify those that are not high sales (true negative rate).\n",
    "# higher accuracy now but make sure predicted is correct (higher specificity)\n"
   ]
  },
  {
   "cell_type": "code",
   "execution_count": 20,
   "metadata": {},
   "outputs": [
    {
     "name": "stderr",
     "output_type": "stream",
     "text": [
      "Installing package into 'C:/Users/blake/Documents/R/win-library/3.6'\n",
      "(as 'lib' is unspecified)\n"
     ]
    },
    {
     "name": "stdout",
     "output_type": "stream",
     "text": [
      "package 'caTools' successfully unpacked and MD5 sums checked\n",
      "\n",
      "The downloaded binary packages are in\n",
      "\tC:\\Users\\blake\\AppData\\Local\\Temp\\RtmpIdDtCN\\downloaded_packages\n"
     ]
    },
    {
     "name": "stderr",
     "output_type": "stream",
     "text": [
      "Warning message:\n",
      "\"package 'caTools' was built under R version 3.6.3\""
     ]
    },
    {
     "data": {
      "text/plain": [
       "\n",
       "Call:\n",
       "glm(formula = Sales2 ~ ., family = \"binomial\", data = train)\n",
       "\n",
       "Deviance Residuals: \n",
       "     Min        1Q    Median        3Q       Max  \n",
       "-1.94428  -0.06661  -0.00038   0.04728   1.94946  \n",
       "\n",
       "Coefficients:\n",
       "              Estimate Std. Error z value Pr(>|z|)    \n",
       "(Intercept) -22.672039   5.966133  -3.800 0.000145 ***\n",
       "TV            0.076966   0.020210   3.808 0.000140 ***\n",
       "Radio         0.439735   0.117605   3.739 0.000185 ***\n",
       "Newspaper     0.001575   0.023283   0.068 0.946053    \n",
       "---\n",
       "Signif. codes:  0 '***' 0.001 '**' 0.01 '*' 0.05 '.' 0.1 ' ' 1\n",
       "\n",
       "(Dispersion parameter for binomial family taken to be 1)\n",
       "\n",
       "    Null deviance: 164.718  on 119  degrees of freedom\n",
       "Residual deviance:  29.435  on 116  degrees of freedom\n",
       "AIC: 37.435\n",
       "\n",
       "Number of Fisher Scoring iterations: 9\n"
      ]
     },
     "metadata": {},
     "output_type": "display_data"
    },
    {
     "data": {
      "text/html": [
       "<table>\n",
       "<tbody>\n",
       "\t<tr><th scope=row>0 vs. 1</th><td>0.990572</td></tr>\n",
       "</tbody>\n",
       "</table>\n"
      ],
      "text/latex": [
       "\\begin{tabular}{r|l}\n",
       "\t0 vs. 1 & 0.990572\\\\\n",
       "\\end{tabular}\n"
      ],
      "text/markdown": [
       "\n",
       "| 0 vs. 1 | 0.990572 |\n",
       "\n"
      ],
      "text/plain": [
       "        [,1]    \n",
       "0 vs. 1 0.990572"
      ]
     },
     "metadata": {},
     "output_type": "display_data"
    },
    {
     "data": {
      "image/png": "[encoded data removed]",
      "text/plain": [
       "Plot with title \"ROC Curves\""
      ]
     },
     "metadata": {},
     "output_type": "display_data"
    }
   ],
   "source": [
    "#USING ROC CURVE\n",
    "install.packages(\"caTools\")\n",
    "library(caTools)\n",
    "\n",
    "# Fit glm model: model\n",
    "model <- glm(Sales2 ~ ., family = \"binomial\", train)\n",
    "summary(model)\n",
    "\n",
    "# Predict on test: p\n",
    "p <- predict(model, test, type = \"response\")\n",
    "\n",
    "\n",
    "# Make ROC curve #99% accuracy \n",
    "colAUC(p, test$Sales2, plotROC = TRUE)\n"
   ]
  },
  {
   "cell_type": "code",
   "execution_count": 21,
   "metadata": {},
   "outputs": [],
   "source": [
    "# AUC Curve (area under curve) perfect score is 1\n",
    "\n",
    "# Create trainControl object: myControl\n",
    "myControl <- trainControl(\n",
    "  method = \"cv\",\n",
    "  number = 10,\n",
    "  summaryFunction = twoClassSummary,\n",
    "  classProbs = TRUE, # IMPORTANT!\n",
    "  verboseIter = TRUE\n",
    ")"
   ]
  },
  {
   "cell_type": "code",
   "execution_count": 22,
   "metadata": {},
   "outputs": [],
   "source": [
    "# Train glm with custom trainControl: model\n",
    "# must make outcome column a factor for classification first\n",
    "df_c <- df[-4] # get rid of 4th column\n",
    "\n",
    "# this doesnt work 0 and 1 are not proper classes\n",
    "#first convert column to factor for next step \n",
    "df_c$Sales2 <- as.factor(df_c$Sales2) \n",
    "\n",
    "#do this once column 0 and 1 converted to factor \n",
    "levels(df_c$Sales2) <- c(\"first_class\",\"second_class\")"
   ]
  },
  {
   "cell_type": "code",
   "execution_count": 23,
   "metadata": {},
   "outputs": [
    {
     "name": "stderr",
     "output_type": "stream",
     "text": [
      "Warning message in train.default(x, y, weights = w, ...):\n",
      "\"The metric \"Accuracy\" was not in the result set. ROC will be used instead.\""
     ]
    },
    {
     "name": "stdout",
     "output_type": "stream",
     "text": [
      "+ Fold01: parameter=none \n",
      "- Fold01: parameter=none \n",
      "+ Fold02: parameter=none \n",
      "- Fold02: parameter=none \n",
      "+ Fold03: parameter=none \n",
      "- Fold03: parameter=none \n",
      "+ Fold04: parameter=none \n",
      "- Fold04: parameter=none \n",
      "+ Fold05: parameter=none \n",
      "- Fold05: parameter=none \n",
      "+ Fold06: parameter=none \n",
      "- Fold06: parameter=none \n",
      "+ Fold07: parameter=none \n",
      "- Fold07: parameter=none \n",
      "+ Fold08: parameter=none \n",
      "- Fold08: parameter=none \n",
      "+ Fold09: parameter=none \n",
      "- Fold09: parameter=none \n",
      "+ Fold10: parameter=none \n",
      "- Fold10: parameter=none \n",
      "Aggregating results\n",
      "Fitting final model on full training set\n"
     ]
    },
    {
     "data": {
      "text/plain": [
       "Generalized Linear Model \n",
       "\n",
       "200 samples\n",
       "  3 predictor\n",
       "  2 classes: 'first_class', 'second_class' \n",
       "\n",
       "No pre-processing\n",
       "Resampling: Cross-Validated (10 fold) \n",
       "Summary of sample sizes: 180, 180, 180, 180, 180, 180, ... \n",
       "Resampling results:\n",
       "\n",
       "  ROC        Sens       Spec\n",
       "  0.9949495  0.9454545  0.9 \n"
      ]
     },
     "metadata": {},
     "output_type": "display_data"
    }
   ],
   "source": [
    "model <- train(\n",
    "  Sales2 ~ ., \n",
    "  df_c, \n",
    "  method = \"glm\",\n",
    "  trControl = myControl\n",
    ")\n",
    "\n",
    "# Print model to console\n",
    "model"
   ]
  },
  {
   "cell_type": "code",
   "execution_count": 24,
   "metadata": {},
   "outputs": [],
   "source": [
    "# TUNING MODEL PARAMETERS TO IMPROVE PERFORMANCE LEFT OFF ON MODULE 3 IN CARET\n",
    "# WORKING WITH RANDOM FOREST!!!!!!!!!!!!\n",
    "wine <- read.csv(\"wine.csv\")\n",
    "\n",
    "#Out of sample error \n",
    "#First lets split our data\n",
    "set.seed(35)\n",
    "\n",
    "# Shuffle row indices:rows\n",
    "rowsw <- sample(nrow(wine))\n",
    "\n",
    "#Randomly order data\n",
    "shuffled_dfw <- wine[rowsw, ]\n",
    "\n",
    "# Determine row to split on: split\n",
    "splitw <- round(nrow(wine) * 0.80) # use 80% of data for training\n",
    "\n",
    "# Create train\n",
    "trainw <- wine[1:split, ] # 1:80% of dataset or row 160 \n",
    "\n",
    "# Create test\n",
    "testw <- wine[(splitw + 1):nrow(wine), ] # take the rest of the rows in the df that is not test\n"
   ]
  },
  {
   "cell_type": "code",
   "execution_count": 25,
   "metadata": {},
   "outputs": [
    {
     "name": "stdout",
     "output_type": "stream",
     "text": [
      "+ Fold1: mtry=3, min.node.size=5, splitrule=variance \n",
      "- Fold1: mtry=3, min.node.size=5, splitrule=variance \n",
      "+ Fold1: mtry=3, min.node.size=5, splitrule=extratrees \n",
      "- Fold1: mtry=3, min.node.size=5, splitrule=extratrees \n",
      "+ Fold2: mtry=3, min.node.size=5, splitrule=variance \n",
      "- Fold2: mtry=3, min.node.size=5, splitrule=variance \n",
      "+ Fold2: mtry=3, min.node.size=5, splitrule=extratrees \n",
      "- Fold2: mtry=3, min.node.size=5, splitrule=extratrees \n",
      "+ Fold3: mtry=3, min.node.size=5, splitrule=variance \n",
      "- Fold3: mtry=3, min.node.size=5, splitrule=variance \n",
      "+ Fold3: mtry=3, min.node.size=5, splitrule=extratrees \n",
      "- Fold3: mtry=3, min.node.size=5, splitrule=extratrees \n",
      "+ Fold4: mtry=3, min.node.size=5, splitrule=variance \n",
      "- Fold4: mtry=3, min.node.size=5, splitrule=variance \n",
      "+ Fold4: mtry=3, min.node.size=5, splitrule=extratrees \n",
      "- Fold4: mtry=3, min.node.size=5, splitrule=extratrees \n",
      "+ Fold5: mtry=3, min.node.size=5, splitrule=variance \n",
      "- Fold5: mtry=3, min.node.size=5, splitrule=variance \n",
      "+ Fold5: mtry=3, min.node.size=5, splitrule=extratrees \n",
      "- Fold5: mtry=3, min.node.size=5, splitrule=extratrees \n",
      "Aggregating results\n",
      "Selecting tuning parameters\n",
      "Fitting mtry = 3, splitrule = variance, min.node.size = 5 on full training set\n"
     ]
    },
    {
     "data": {
      "text/plain": [
       "Random Forest \n",
       "\n",
       "4898 samples\n",
       "  11 predictor\n",
       "\n",
       "No pre-processing\n",
       "Resampling: Cross-Validated (5 fold) \n",
       "Summary of sample sizes: 3918, 3919, 3919, 3918, 3918 \n",
       "Resampling results across tuning parameters:\n",
       "\n",
       "  splitrule   RMSE       Rsquared   MAE      \n",
       "  variance    0.6081825  0.5363162  0.4389232\n",
       "  extratrees  0.6188011  0.5303564  0.4585664\n",
       "\n",
       "Tuning parameter 'mtry' was held constant at a value of 3\n",
       "Tuning\n",
       " parameter 'min.node.size' was held constant at a value of 5\n",
       "RMSE was used to select the optimal model using the smallest value.\n",
       "The final values used for the model were mtry = 3, splitrule = variance\n",
       " and min.node.size = 5."
      ]
     },
     "metadata": {},
     "output_type": "display_data"
    }
   ],
   "source": [
    "# Fit random forest: model\n",
    "w_model <- train(\n",
    "  quality ~ .,\n",
    "  tuneLength = 1,\n",
    "  data = wine, \n",
    "  method = \"ranger\",\n",
    "  trControl = trainControl(\n",
    "    method = \"cv\", \n",
    "    number = 5, \n",
    "    verboseIter = TRUE\n",
    "  )\n",
    ")\n",
    "\n",
    "# Print model to console\n",
    "w_model"
   ]
  },
  {
   "cell_type": "code",
   "execution_count": 26,
   "metadata": {},
   "outputs": [
    {
     "name": "stderr",
     "output_type": "stream",
     "text": [
      "Installing package into 'C:/Users/blake/Documents/R/win-library/3.6'\n",
      "(as 'lib' is unspecified)\n",
      "Warning message:\n",
      "\"package 'mlbench' is in use and will not be installed\""
     ]
    },
    {
     "name": "stdout",
     "output_type": "stream",
     "text": [
      "+ Fold1: mtry= 2, min.node.size=5, splitrule=variance \n",
      "- Fold1: mtry= 2, min.node.size=5, splitrule=variance \n",
      "+ Fold1: mtry= 6, min.node.size=5, splitrule=variance \n",
      "- Fold1: mtry= 6, min.node.size=5, splitrule=variance \n",
      "+ Fold1: mtry=11, min.node.size=5, splitrule=variance \n",
      "- Fold1: mtry=11, min.node.size=5, splitrule=variance \n",
      "+ Fold1: mtry= 2, min.node.size=5, splitrule=extratrees \n",
      "- Fold1: mtry= 2, min.node.size=5, splitrule=extratrees \n",
      "+ Fold1: mtry= 6, min.node.size=5, splitrule=extratrees \n",
      "- Fold1: mtry= 6, min.node.size=5, splitrule=extratrees \n",
      "+ Fold1: mtry=11, min.node.size=5, splitrule=extratrees \n",
      "- Fold1: mtry=11, min.node.size=5, splitrule=extratrees \n",
      "+ Fold2: mtry= 2, min.node.size=5, splitrule=variance \n",
      "- Fold2: mtry= 2, min.node.size=5, splitrule=variance \n",
      "+ Fold2: mtry= 6, min.node.size=5, splitrule=variance \n",
      "- Fold2: mtry= 6, min.node.size=5, splitrule=variance \n",
      "+ Fold2: mtry=11, min.node.size=5, splitrule=variance \n",
      "- Fold2: mtry=11, min.node.size=5, splitrule=variance \n",
      "+ Fold2: mtry= 2, min.node.size=5, splitrule=extratrees \n",
      "- Fold2: mtry= 2, min.node.size=5, splitrule=extratrees \n",
      "+ Fold2: mtry= 6, min.node.size=5, splitrule=extratrees \n",
      "- Fold2: mtry= 6, min.node.size=5, splitrule=extratrees \n",
      "+ Fold2: mtry=11, min.node.size=5, splitrule=extratrees \n",
      "- Fold2: mtry=11, min.node.size=5, splitrule=extratrees \n",
      "+ Fold3: mtry= 2, min.node.size=5, splitrule=variance \n",
      "- Fold3: mtry= 2, min.node.size=5, splitrule=variance \n",
      "+ Fold3: mtry= 6, min.node.size=5, splitrule=variance \n",
      "- Fold3: mtry= 6, min.node.size=5, splitrule=variance \n",
      "+ Fold3: mtry=11, min.node.size=5, splitrule=variance \n",
      "- Fold3: mtry=11, min.node.size=5, splitrule=variance \n",
      "+ Fold3: mtry= 2, min.node.size=5, splitrule=extratrees \n",
      "- Fold3: mtry= 2, min.node.size=5, splitrule=extratrees \n",
      "+ Fold3: mtry= 6, min.node.size=5, splitrule=extratrees \n",
      "- Fold3: mtry= 6, min.node.size=5, splitrule=extratrees \n",
      "+ Fold3: mtry=11, min.node.size=5, splitrule=extratrees \n",
      "- Fold3: mtry=11, min.node.size=5, splitrule=extratrees \n",
      "+ Fold4: mtry= 2, min.node.size=5, splitrule=variance \n",
      "- Fold4: mtry= 2, min.node.size=5, splitrule=variance \n",
      "+ Fold4: mtry= 6, min.node.size=5, splitrule=variance \n",
      "- Fold4: mtry= 6, min.node.size=5, splitrule=variance \n",
      "+ Fold4: mtry=11, min.node.size=5, splitrule=variance \n",
      "- Fold4: mtry=11, min.node.size=5, splitrule=variance \n",
      "+ Fold4: mtry= 2, min.node.size=5, splitrule=extratrees \n",
      "- Fold4: mtry= 2, min.node.size=5, splitrule=extratrees \n",
      "+ Fold4: mtry= 6, min.node.size=5, splitrule=extratrees \n",
      "- Fold4: mtry= 6, min.node.size=5, splitrule=extratrees \n",
      "+ Fold4: mtry=11, min.node.size=5, splitrule=extratrees \n",
      "- Fold4: mtry=11, min.node.size=5, splitrule=extratrees \n",
      "+ Fold5: mtry= 2, min.node.size=5, splitrule=variance \n",
      "- Fold5: mtry= 2, min.node.size=5, splitrule=variance \n",
      "+ Fold5: mtry= 6, min.node.size=5, splitrule=variance \n",
      "- Fold5: mtry= 6, min.node.size=5, splitrule=variance \n",
      "+ Fold5: mtry=11, min.node.size=5, splitrule=variance \n",
      "- Fold5: mtry=11, min.node.size=5, splitrule=variance \n",
      "+ Fold5: mtry= 2, min.node.size=5, splitrule=extratrees \n",
      "- Fold5: mtry= 2, min.node.size=5, splitrule=extratrees \n",
      "+ Fold5: mtry= 6, min.node.size=5, splitrule=extratrees \n",
      "- Fold5: mtry= 6, min.node.size=5, splitrule=extratrees \n",
      "+ Fold5: mtry=11, min.node.size=5, splitrule=extratrees \n",
      "- Fold5: mtry=11, min.node.size=5, splitrule=extratrees \n",
      "Aggregating results\n",
      "Selecting tuning parameters\n",
      "Fitting mtry = 6, splitrule = variance, min.node.size = 5 on full training set\n"
     ]
    },
    {
     "data": {
      "text/plain": [
       "Random Forest \n",
       "\n",
       "4898 samples\n",
       "  11 predictor\n",
       "\n",
       "No pre-processing\n",
       "Resampling: Cross-Validated (5 fold) \n",
       "Summary of sample sizes: 3919, 3918, 3919, 3918, 3918 \n",
       "Resampling results across tuning parameters:\n",
       "\n",
       "  mtry  splitrule   RMSE       Rsquared   MAE      \n",
       "   2    variance    0.6085447  0.5399014  0.4413330\n",
       "   2    extratrees  0.6247293  0.5286797  0.4661161\n",
       "   6    variance    0.6083232  0.5334639  0.4366973\n",
       "   6    extratrees  0.6122151  0.5344688  0.4481219\n",
       "  11    variance    0.6125244  0.5247595  0.4393770\n",
       "  11    extratrees  0.6122137  0.5301375  0.4448733\n",
       "\n",
       "Tuning parameter 'min.node.size' was held constant at a value of 5\n",
       "RMSE was used to select the optimal model using the smallest value.\n",
       "The final values used for the model were mtry = 6, splitrule = variance\n",
       " and min.node.size = 5."
      ]
     },
     "metadata": {},
     "output_type": "display_data"
    }
   ],
   "source": [
    "install.packages(\"mlbench\")\n",
    "library(mlbench)\n",
    "\n",
    "# Fit random forest: model\n",
    "model <- train(\n",
    "  quality ~ .,\n",
    "  tuneLength = 3,\n",
    "  data = wine, \n",
    "  method = \"ranger\",\n",
    "  trControl = trainControl(\n",
    "    method = \"cv\", \n",
    "    number = 5, \n",
    "    verboseIter = TRUE\n",
    "  )\n",
    ")\n",
    "\n",
    "# Print model to console\n",
    "model"
   ]
  },
  {
   "cell_type": "code",
   "execution_count": 27,
   "metadata": {},
   "outputs": [
    {
     "data": {
      "image/png": "[encoded data removed]",
      "text/plain": [
       "plot without title"
      ]
     },
     "metadata": {},
     "output_type": "display_data"
    }
   ],
   "source": [
    "# MAKING A TUNING GRID FOR TRYING DIFFERENT \n",
    "# Define the tuning grid: tuneGrid\n",
    "tuneGrid <- data.frame(\n",
    "  .mtry = c(2, 3, 7),\n",
    "  .splitrule = \"variance\",\n",
    "  .min.node.size = 5\n",
    ")\n",
    "# Plot model\n",
    "plot(model)\n"
   ]
  },
  {
   "cell_type": "code",
   "execution_count": 29,
   "metadata": {},
   "outputs": [
    {
     "name": "stdout",
     "output_type": "stream",
     "text": [
      "+ Fold1: mtry=2, splitrule=variance, min.node.size=5 \n",
      "- Fold1: mtry=2, splitrule=variance, min.node.size=5 \n",
      "+ Fold1: mtry=3, splitrule=variance, min.node.size=5 \n",
      "- Fold1: mtry=3, splitrule=variance, min.node.size=5 \n",
      "+ Fold1: mtry=7, splitrule=variance, min.node.size=5 \n",
      "- Fold1: mtry=7, splitrule=variance, min.node.size=5 \n",
      "+ Fold2: mtry=2, splitrule=variance, min.node.size=5 \n",
      "- Fold2: mtry=2, splitrule=variance, min.node.size=5 \n",
      "+ Fold2: mtry=3, splitrule=variance, min.node.size=5 \n",
      "- Fold2: mtry=3, splitrule=variance, min.node.size=5 \n",
      "+ Fold2: mtry=7, splitrule=variance, min.node.size=5 \n",
      "- Fold2: mtry=7, splitrule=variance, min.node.size=5 \n",
      "+ Fold3: mtry=2, splitrule=variance, min.node.size=5 \n",
      "- Fold3: mtry=2, splitrule=variance, min.node.size=5 \n",
      "+ Fold3: mtry=3, splitrule=variance, min.node.size=5 \n",
      "- Fold3: mtry=3, splitrule=variance, min.node.size=5 \n",
      "+ Fold3: mtry=7, splitrule=variance, min.node.size=5 \n",
      "- Fold3: mtry=7, splitrule=variance, min.node.size=5 \n",
      "+ Fold4: mtry=2, splitrule=variance, min.node.size=5 \n",
      "- Fold4: mtry=2, splitrule=variance, min.node.size=5 \n",
      "+ Fold4: mtry=3, splitrule=variance, min.node.size=5 \n",
      "- Fold4: mtry=3, splitrule=variance, min.node.size=5 \n",
      "+ Fold4: mtry=7, splitrule=variance, min.node.size=5 \n",
      "- Fold4: mtry=7, splitrule=variance, min.node.size=5 \n",
      "+ Fold5: mtry=2, splitrule=variance, min.node.size=5 \n",
      "- Fold5: mtry=2, splitrule=variance, min.node.size=5 \n",
      "+ Fold5: mtry=3, splitrule=variance, min.node.size=5 \n",
      "- Fold5: mtry=3, splitrule=variance, min.node.size=5 \n",
      "+ Fold5: mtry=7, splitrule=variance, min.node.size=5 \n",
      "- Fold5: mtry=7, splitrule=variance, min.node.size=5 \n",
      "Aggregating results\n",
      "Selecting tuning parameters\n",
      "Fitting mtry = 3, splitrule = variance, min.node.size = 5 on full training set\n"
     ]
    },
    {
     "data": {
      "text/plain": [
       "Random Forest \n",
       "\n",
       "4898 samples\n",
       "  11 predictor\n",
       "\n",
       "No pre-processing\n",
       "Resampling: Cross-Validated (5 fold) \n",
       "Summary of sample sizes: 3919, 3918, 3919, 3918, 3918 \n",
       "Resampling results across tuning parameters:\n",
       "\n",
       "  mtry  RMSE       Rsquared   MAE      \n",
       "  2     0.6053453  0.5432712  0.4401353\n",
       "  3     0.6042612  0.5420155  0.4371386\n",
       "  7     0.6059193  0.5355082  0.4362441\n",
       "\n",
       "Tuning parameter 'splitrule' was held constant at a value of variance\n",
       "\n",
       "Tuning parameter 'min.node.size' was held constant at a value of 5\n",
       "RMSE was used to select the optimal model using the smallest value.\n",
       "The final values used for the model were mtry = 3, splitrule = variance\n",
       " and min.node.size = 5."
      ]
     },
     "metadata": {},
     "output_type": "display_data"
    }
   ],
   "source": [
    "# CUSTOM TUNING GRIDS TRYING DIFFERENT HYPERPARAMETER MODEL SPACE TUNING \n",
    "# Fit random forest: model\n",
    "model <- train(\n",
    "  quality ~ .,\n",
    "  tuneGrid = tuneGrid,\n",
    "  data = wine, \n",
    "  method = \"ranger\",\n",
    "  trControl = trainControl(\n",
    "    method = \"cv\", \n",
    "    number = 5, \n",
    "    verboseIter = TRUE\n",
    "  )\n",
    ")\n",
    "\n",
    "# Print model to console\n",
    "model\n"
   ]
  },
  {
   "cell_type": "code",
   "execution_count": 30,
   "metadata": {},
   "outputs": [
    {
     "data": {
      "image/png": "[encoded data removed]",
      "text/plain": [
       "plot without title"
      ]
     },
     "metadata": {},
     "output_type": "display_data"
    }
   ],
   "source": [
    "# Plot model\n",
    "plot(model)"
   ]
  },
  {
   "cell_type": "code",
   "execution_count": 31,
   "metadata": {},
   "outputs": [
    {
     "name": "stderr",
     "output_type": "stream",
     "text": [
      "Installing package into 'C:/Users/blake/Documents/R/win-library/3.6'\n",
      "(as 'lib' is unspecified)\n"
     ]
    },
    {
     "name": "stdout",
     "output_type": "stream",
     "text": [
      "package 'glmnet' successfully unpacked and MD5 sums checked\n"
     ]
    },
    {
     "name": "stderr",
     "output_type": "stream",
     "text": [
      "Warning message:\n",
      "\"cannot remove prior installation of package 'glmnet'\"Warning message in file.copy(savedcopy, lib, recursive = TRUE):\n",
      "\"problem copying C:\\Users\\blake\\Documents\\R\\win-library\\3.6\\00LOCK\\glmnet\\libs\\x64\\glmnet.dll to C:\\Users\\blake\\Documents\\R\\win-library\\3.6\\glmnet\\libs\\x64\\glmnet.dll: Permission denied\"Warning message:\n",
      "\"restored 'glmnet'\""
     ]
    },
    {
     "name": "stdout",
     "output_type": "stream",
     "text": [
      "\n",
      "The downloaded binary packages are in\n",
      "\tC:\\Users\\blake\\AppData\\Local\\Temp\\RtmpIdDtCN\\downloaded_packages\n"
     ]
    },
    {
     "name": "stderr",
     "output_type": "stream",
     "text": [
      "Warning message:\n",
      "\"package 'glmnet' was built under R version 3.6.3\"Loading required package: Matrix\n",
      "Loaded glmnet 3.0-2\n",
      "\n",
      "Installing package into 'C:/Users/blake/Documents/R/win-library/3.6'\n",
      "(as 'lib' is unspecified)\n"
     ]
    },
    {
     "name": "stdout",
     "output_type": "stream",
     "text": [
      "package 'RANN' successfully unpacked and MD5 sums checked\n",
      "\n",
      "The downloaded binary packages are in\n",
      "\tC:\\Users\\blake\\AppData\\Local\\Temp\\RtmpIdDtCN\\downloaded_packages\n"
     ]
    },
    {
     "name": "stderr",
     "output_type": "stream",
     "text": [
      "Warning message:\n",
      "\"package 'RANN' was built under R version 3.6.3\""
     ]
    }
   ],
   "source": [
    "# GLMNET!!!! COMBINATION OF LASSO AND RIDGE REGRESSION \n",
    "install.packages(\"glmnet\")\n",
    "library(glmnet)\n",
    "install.packages(\"RANN\")\n",
    "library(RANN)\n"
   ]
  },
  {
   "cell_type": "code",
   "execution_count": 32,
   "metadata": {},
   "outputs": [],
   "source": [
    "wine$quality <- ifelse(wine$quality >= 7,1,0) # convert to 0 or 1\n",
    "wine$quality <- factor(c(\"level1\",\"level2\")) # convert to non 0 or 1 factor levels"
   ]
  },
  {
   "cell_type": "code",
   "execution_count": 33,
   "metadata": {},
   "outputs": [
    {
     "name": "stderr",
     "output_type": "stream",
     "text": [
      "Warning message in train.default(x, y, weights = w, ...):\n",
      "\"The metric \"Accuracy\" was not in the result set. ROC will be used instead.\""
     ]
    },
    {
     "name": "stdout",
     "output_type": "stream",
     "text": [
      "+ Fold01: alpha=0.10, lambda=0.001626 \n",
      "- Fold01: alpha=0.10, lambda=0.001626 \n",
      "+ Fold01: alpha=0.55, lambda=0.001626 \n",
      "- Fold01: alpha=0.55, lambda=0.001626 \n",
      "+ Fold01: alpha=1.00, lambda=0.001626 \n",
      "- Fold01: alpha=1.00, lambda=0.001626 \n",
      "+ Fold02: alpha=0.10, lambda=0.001626 \n",
      "- Fold02: alpha=0.10, lambda=0.001626 \n",
      "+ Fold02: alpha=0.55, lambda=0.001626 \n",
      "- Fold02: alpha=0.55, lambda=0.001626 \n",
      "+ Fold02: alpha=1.00, lambda=0.001626 \n",
      "- Fold02: alpha=1.00, lambda=0.001626 \n",
      "+ Fold03: alpha=0.10, lambda=0.001626 \n",
      "- Fold03: alpha=0.10, lambda=0.001626 \n",
      "+ Fold03: alpha=0.55, lambda=0.001626 \n",
      "- Fold03: alpha=0.55, lambda=0.001626 \n",
      "+ Fold03: alpha=1.00, lambda=0.001626 \n",
      "- Fold03: alpha=1.00, lambda=0.001626 \n",
      "+ Fold04: alpha=0.10, lambda=0.001626 \n",
      "- Fold04: alpha=0.10, lambda=0.001626 \n",
      "+ Fold04: alpha=0.55, lambda=0.001626 \n",
      "- Fold04: alpha=0.55, lambda=0.001626 \n",
      "+ Fold04: alpha=1.00, lambda=0.001626 \n",
      "- Fold04: alpha=1.00, lambda=0.001626 \n",
      "+ Fold05: alpha=0.10, lambda=0.001626 \n",
      "- Fold05: alpha=0.10, lambda=0.001626 \n",
      "+ Fold05: alpha=0.55, lambda=0.001626 \n",
      "- Fold05: alpha=0.55, lambda=0.001626 \n",
      "+ Fold05: alpha=1.00, lambda=0.001626 \n",
      "- Fold05: alpha=1.00, lambda=0.001626 \n",
      "+ Fold06: alpha=0.10, lambda=0.001626 \n",
      "- Fold06: alpha=0.10, lambda=0.001626 \n",
      "+ Fold06: alpha=0.55, lambda=0.001626 \n",
      "- Fold06: alpha=0.55, lambda=0.001626 \n",
      "+ Fold06: alpha=1.00, lambda=0.001626 \n",
      "- Fold06: alpha=1.00, lambda=0.001626 \n",
      "+ Fold07: alpha=0.10, lambda=0.001626 \n",
      "- Fold07: alpha=0.10, lambda=0.001626 \n",
      "+ Fold07: alpha=0.55, lambda=0.001626 \n",
      "- Fold07: alpha=0.55, lambda=0.001626 \n",
      "+ Fold07: alpha=1.00, lambda=0.001626 \n",
      "- Fold07: alpha=1.00, lambda=0.001626 \n",
      "+ Fold08: alpha=0.10, lambda=0.001626 \n",
      "- Fold08: alpha=0.10, lambda=0.001626 \n",
      "+ Fold08: alpha=0.55, lambda=0.001626 \n",
      "- Fold08: alpha=0.55, lambda=0.001626 \n",
      "+ Fold08: alpha=1.00, lambda=0.001626 \n",
      "- Fold08: alpha=1.00, lambda=0.001626 \n",
      "+ Fold09: alpha=0.10, lambda=0.001626 \n",
      "- Fold09: alpha=0.10, lambda=0.001626 \n",
      "+ Fold09: alpha=0.55, lambda=0.001626 \n",
      "- Fold09: alpha=0.55, lambda=0.001626 \n",
      "+ Fold09: alpha=1.00, lambda=0.001626 \n",
      "- Fold09: alpha=1.00, lambda=0.001626 \n",
      "+ Fold10: alpha=0.10, lambda=0.001626 \n",
      "- Fold10: alpha=0.10, lambda=0.001626 \n",
      "+ Fold10: alpha=0.55, lambda=0.001626 \n",
      "- Fold10: alpha=0.55, lambda=0.001626 \n",
      "+ Fold10: alpha=1.00, lambda=0.001626 \n",
      "- Fold10: alpha=1.00, lambda=0.001626 \n",
      "Aggregating results\n",
      "Selecting tuning parameters\n",
      "Fitting alpha = 1, lambda = 0.00163 on full training set\n"
     ]
    },
    {
     "data": {
      "text/plain": [
       "glmnet \n",
       "\n",
       "4898 samples\n",
       "  11 predictor\n",
       "   2 classes: 'level1', 'level2' \n",
       "\n",
       "No pre-processing\n",
       "Resampling: Cross-Validated (10 fold) \n",
       "Summary of sample sizes: 4408, 4408, 4409, 4408, 4409, 4408, ... \n",
       "Resampling results across tuning parameters:\n",
       "\n",
       "  alpha  lambda        ROC        Sens       Spec     \n",
       "  0.10   1.625597e-05  0.4779146  0.4826581  0.4867431\n",
       "  0.10   1.625597e-04  0.4779146  0.4826581  0.4867431\n",
       "  0.10   1.625597e-03  0.4780098  0.4806122  0.4863349\n",
       "  0.55   1.625597e-05  0.4781197  0.4785714  0.4867431\n",
       "  0.55   1.625597e-04  0.4781197  0.4785714  0.4867431\n",
       "  0.55   1.625597e-03  0.4781434  0.4753095  0.4830562\n",
       "  1.00   1.625597e-05  0.4781429  0.4781649  0.4863332\n",
       "  1.00   1.625597e-04  0.4781429  0.4781649  0.4863332\n",
       "  1.00   1.625597e-03  0.4821985  0.4769421  0.4883623\n",
       "\n",
       "ROC was used to select the optimal model using the largest value.\n",
       "The final values used for the model were alpha = 1 and lambda = 0.001625597."
      ]
     },
     "metadata": {},
     "output_type": "display_data"
    }
   ],
   "source": [
    "# Create custom trainControl: myControl\n",
    "myControl <- trainControl(\n",
    "  method = \"cv\", \n",
    "  number = 10,\n",
    "  summaryFunction = twoClassSummary,\n",
    "  classProbs = TRUE, # IMPORTANT!\n",
    "  verboseIter = TRUE\n",
    ")\n",
    "\n",
    "# Fit glmnet model: model\n",
    "model <- train(\n",
    "  quality~ ., \n",
    "  wine,\n",
    "  method = \"glmnet\",\n",
    "  trControl = myControl\n",
    ")\n",
    "\n",
    "# Print model to console\n",
    "model"
   ]
  },
  {
   "cell_type": "code",
   "execution_count": 34,
   "metadata": {},
   "outputs": [
    {
     "data": {
      "text/html": [
       "0.482198530666867"
      ],
      "text/latex": [
       "0.482198530666867"
      ],
      "text/markdown": [
       "0.482198530666867"
      ],
      "text/plain": [
       "[1] 0.4821985"
      ]
     },
     "metadata": {},
     "output_type": "display_data"
    }
   ],
   "source": [
    "\n",
    "# Print maximum ROC statistic\n",
    "max(model[[\"results\"]][[\"ROC\"]])"
   ]
  },
  {
   "cell_type": "code",
   "execution_count": 35,
   "metadata": {},
   "outputs": [
    {
     "name": "stderr",
     "output_type": "stream",
     "text": [
      "Warning message in train.default(x, y, weights = w, ...):\n",
      "\"The metric \"Accuracy\" was not in the result set. ROC will be used instead.\""
     ]
    },
    {
     "name": "stdout",
     "output_type": "stream",
     "text": [
      "+ Fold01: alpha=0, lambda=1 \n",
      "- Fold01: alpha=0, lambda=1 \n",
      "+ Fold01: alpha=1, lambda=1 \n",
      "- Fold01: alpha=1, lambda=1 \n",
      "+ Fold02: alpha=0, lambda=1 \n",
      "- Fold02: alpha=0, lambda=1 \n",
      "+ Fold02: alpha=1, lambda=1 \n",
      "- Fold02: alpha=1, lambda=1 \n",
      "+ Fold03: alpha=0, lambda=1 \n",
      "- Fold03: alpha=0, lambda=1 \n",
      "+ Fold03: alpha=1, lambda=1 \n",
      "- Fold03: alpha=1, lambda=1 \n",
      "+ Fold04: alpha=0, lambda=1 \n",
      "- Fold04: alpha=0, lambda=1 \n",
      "+ Fold04: alpha=1, lambda=1 \n",
      "- Fold04: alpha=1, lambda=1 \n",
      "+ Fold05: alpha=0, lambda=1 \n",
      "- Fold05: alpha=0, lambda=1 \n",
      "+ Fold05: alpha=1, lambda=1 \n",
      "- Fold05: alpha=1, lambda=1 \n",
      "+ Fold06: alpha=0, lambda=1 \n",
      "- Fold06: alpha=0, lambda=1 \n",
      "+ Fold06: alpha=1, lambda=1 \n",
      "- Fold06: alpha=1, lambda=1 \n",
      "+ Fold07: alpha=0, lambda=1 \n",
      "- Fold07: alpha=0, lambda=1 \n",
      "+ Fold07: alpha=1, lambda=1 \n",
      "- Fold07: alpha=1, lambda=1 \n",
      "+ Fold08: alpha=0, lambda=1 \n",
      "- Fold08: alpha=0, lambda=1 \n",
      "+ Fold08: alpha=1, lambda=1 \n",
      "- Fold08: alpha=1, lambda=1 \n",
      "+ Fold09: alpha=0, lambda=1 \n",
      "- Fold09: alpha=0, lambda=1 \n",
      "+ Fold09: alpha=1, lambda=1 \n",
      "- Fold09: alpha=1, lambda=1 \n",
      "+ Fold10: alpha=0, lambda=1 \n",
      "- Fold10: alpha=0, lambda=1 \n",
      "+ Fold10: alpha=1, lambda=1 \n",
      "- Fold10: alpha=1, lambda=1 \n",
      "Aggregating results\n",
      "Selecting tuning parameters\n",
      "Fitting alpha = 1, lambda = 1 on full training set\n"
     ]
    },
    {
     "data": {
      "text/plain": [
       "glmnet \n",
       "\n",
       "4898 samples\n",
       "  11 predictor\n",
       "   2 classes: 'level1', 'level2' \n",
       "\n",
       "No pre-processing\n",
       "Resampling: Cross-Validated (10 fold) \n",
       "Summary of sample sizes: 4408, 4409, 4408, 4408, 4408, 4408, ... \n",
       "Resampling results across tuning parameters:\n",
       "\n",
       "  alpha  lambda      ROC        Sens       Spec     \n",
       "  0      0.00010000  0.4785045  0.5006323  0.4765590\n",
       "  0      0.05272632  0.4785045  0.5006323  0.4765590\n",
       "  0      0.10535263  0.4785045  0.5006323  0.4765590\n",
       "  0      0.15797895  0.4785045  0.5006323  0.4765590\n",
       "  0      0.21060526  0.4785045  0.5006323  0.4765590\n",
       "  0      0.26323158  0.4785045  0.5006323  0.4765590\n",
       "  0      0.31585789  0.4785045  0.5006323  0.4765590\n",
       "  0      0.36848421  0.4785045  0.5006323  0.4765590\n",
       "  0      0.42111053  0.4785045  0.5006323  0.4765590\n",
       "  0      0.47373684  0.4785045  0.5006323  0.4765590\n",
       "  0      0.52636316  0.4785045  0.5006323  0.4765590\n",
       "  0      0.57898947  0.4785045  0.5006323  0.4765590\n",
       "  0      0.63161579  0.4785045  0.5006323  0.4765590\n",
       "  0      0.68424211  0.4785045  0.5006323  0.4765590\n",
       "  0      0.73686842  0.4785045  0.5006323  0.4765590\n",
       "  0      0.78949474  0.4785045  0.5006323  0.4765590\n",
       "  0      0.84212105  0.4785045  0.5006323  0.4765590\n",
       "  0      0.89474737  0.4785045  0.5006323  0.4765590\n",
       "  0      0.94737368  0.4785045  0.5006323  0.4765590\n",
       "  0      1.00000000  0.4785045  0.5006323  0.4765590\n",
       "  1      0.00010000  0.4937060  0.4953128  0.4993978\n",
       "  1      0.05272632  0.5000000  0.7000000  0.3000000\n",
       "  1      0.10535263  0.5000000  0.7000000  0.3000000\n",
       "  1      0.15797895  0.5000000  0.7000000  0.3000000\n",
       "  1      0.21060526  0.5000000  0.7000000  0.3000000\n",
       "  1      0.26323158  0.5000000  0.7000000  0.3000000\n",
       "  1      0.31585789  0.5000000  0.7000000  0.3000000\n",
       "  1      0.36848421  0.5000000  0.7000000  0.3000000\n",
       "  1      0.42111053  0.5000000  0.7000000  0.3000000\n",
       "  1      0.47373684  0.5000000  0.7000000  0.3000000\n",
       "  1      0.52636316  0.5000000  0.7000000  0.3000000\n",
       "  1      0.57898947  0.5000000  0.7000000  0.3000000\n",
       "  1      0.63161579  0.5000000  0.7000000  0.3000000\n",
       "  1      0.68424211  0.5000000  0.7000000  0.3000000\n",
       "  1      0.73686842  0.5000000  0.7000000  0.3000000\n",
       "  1      0.78949474  0.5000000  0.7000000  0.3000000\n",
       "  1      0.84212105  0.5000000  0.7000000  0.3000000\n",
       "  1      0.89474737  0.5000000  0.7000000  0.3000000\n",
       "  1      0.94737368  0.5000000  0.7000000  0.3000000\n",
       "  1      1.00000000  0.5000000  0.7000000  0.3000000\n",
       "\n",
       "ROC was used to select the optimal model using the largest value.\n",
       "The final values used for the model were alpha = 1 and lambda = 1."
      ]
     },
     "metadata": {},
     "output_type": "display_data"
    }
   ],
   "source": [
    "# CUSTOM TUNING GLMNET GRID\n",
    "# Train glmnet with custom trainControl and tuning: model\n",
    "model <- train(\n",
    "  quality ~ ., \n",
    "  wine,\n",
    "  tuneGrid = expand.grid(\n",
    "    alpha = 0:1,\n",
    "    lambda = seq(0.0001, 1, length = 20)\n",
    "  ),\n",
    "  method = \"glmnet\",\n",
    "  trControl = myControl\n",
    ")\n",
    "\n",
    "# Print model to console\n",
    "model\n"
   ]
  },
  {
   "cell_type": "code",
   "execution_count": 36,
   "metadata": {},
   "outputs": [
    {
     "data": {
      "text/html": [
       "0.5"
      ],
      "text/latex": [
       "0.5"
      ],
      "text/markdown": [
       "0.5"
      ],
      "text/plain": [
       "[1] 0.5"
      ]
     },
     "metadata": {},
     "output_type": "display_data"
    }
   ],
   "source": [
    "# Print maximum ROC statistic\n",
    "max(model[[\"results\"]][[\"ROC\"]])"
   ]
  },
  {
   "cell_type": "code",
   "execution_count": 37,
   "metadata": {},
   "outputs": [
    {
     "data": {
      "image/png": "[encoded data removed]",
      "text/plain": [
       "plot without title"
      ]
     },
     "metadata": {},
     "output_type": "display_data"
    }
   ],
   "source": [
    "plot(model)"
   ]
  },
  {
   "cell_type": "code",
   "execution_count": 38,
   "metadata": {},
   "outputs": [
    {
     "name": "stderr",
     "output_type": "stream",
     "text": [
      "Installing package into 'C:/Users/blake/Documents/R/win-library/3.6'\n",
      "(as 'lib' is unspecified)\n"
     ]
    },
    {
     "name": "stdout",
     "output_type": "stream",
     "text": [
      "package 'randomForest' successfully unpacked and MD5 sums checked\n",
      "\n",
      "The downloaded binary packages are in\n",
      "\tC:\\Users\\blake\\AppData\\Local\\Temp\\RtmpIdDtCN\\downloaded_packages\n"
     ]
    },
    {
     "name": "stderr",
     "output_type": "stream",
     "text": [
      "Warning message:\n",
      "\"package 'randomForest' was built under R version 3.6.3\"randomForest 4.6-14\n",
      "Type rfNews() to see new features/changes/bug fixes.\n",
      "\n",
      "Attaching package: 'randomForest'\n",
      "\n",
      "The following object is masked from 'package:ggplot2':\n",
      "\n",
      "    margin\n",
      "\n"
     ]
    }
   ],
   "source": [
    "install.packages(\"randomForest\")\n",
    "library(randomForest)\n",
    "#set seed\n",
    "set.seed(48)\n",
    "\n",
    "# Creating 10 missing values in the TV column  missing at random \n",
    "df[sample(1:nrow(df), 10), \"TV\"] <- NA;\n",
    "\n",
    "# Splitting target from predictors\n",
    "Y <- df$Sales\n",
    "X <- df[,1:3]"
   ]
  },
  {
   "cell_type": "code",
   "execution_count": 40,
   "metadata": {},
   "outputs": [
    {
     "name": "stdout",
     "output_type": "stream",
     "text": [
      "note: only 2 unique complexity parameters in default grid. Truncating the grid to 2 .\n",
      "\n"
     ]
    },
    {
     "name": "stderr",
     "output_type": "stream",
     "text": [
      "Warning message:\n",
      "\"model fit failed for Resample01: mtry=2 Error in randomForest.default(x, y, mtry = param$mtry, ...) : \n",
      "  NA not permitted in predictors\n",
      "\"Warning message:\n",
      "\"model fit failed for Resample01: mtry=3 Error in randomForest.default(x, y, mtry = param$mtry, ...) : \n",
      "  NA not permitted in predictors\n",
      "\"Warning message:\n",
      "\"model fit failed for Resample02: mtry=2 Error in randomForest.default(x, y, mtry = param$mtry, ...) : \n",
      "  NA not permitted in predictors\n",
      "\"Warning message:\n",
      "\"model fit failed for Resample02: mtry=3 Error in randomForest.default(x, y, mtry = param$mtry, ...) : \n",
      "  NA not permitted in predictors\n",
      "\"Warning message:\n",
      "\"model fit failed for Resample03: mtry=2 Error in randomForest.default(x, y, mtry = param$mtry, ...) : \n",
      "  NA not permitted in predictors\n",
      "\"Warning message:\n",
      "\"model fit failed for Resample03: mtry=3 Error in randomForest.default(x, y, mtry = param$mtry, ...) : \n",
      "  NA not permitted in predictors\n",
      "\"Warning message:\n",
      "\"model fit failed for Resample04: mtry=2 Error in randomForest.default(x, y, mtry = param$mtry, ...) : \n",
      "  NA not permitted in predictors\n",
      "\"Warning message:\n",
      "\"model fit failed for Resample04: mtry=3 Error in randomForest.default(x, y, mtry = param$mtry, ...) : \n",
      "  NA not permitted in predictors\n",
      "\"Warning message:\n",
      "\"model fit failed for Resample05: mtry=2 Error in randomForest.default(x, y, mtry = param$mtry, ...) : \n",
      "  NA not permitted in predictors\n",
      "\"Warning message:\n",
      "\"model fit failed for Resample05: mtry=3 Error in randomForest.default(x, y, mtry = param$mtry, ...) : \n",
      "  NA not permitted in predictors\n",
      "\"Warning message:\n",
      "\"model fit failed for Resample06: mtry=2 Error in randomForest.default(x, y, mtry = param$mtry, ...) : \n",
      "  NA not permitted in predictors\n",
      "\"Warning message:\n",
      "\"model fit failed for Resample06: mtry=3 Error in randomForest.default(x, y, mtry = param$mtry, ...) : \n",
      "  NA not permitted in predictors\n",
      "\"Warning message:\n",
      "\"model fit failed for Resample07: mtry=2 Error in randomForest.default(x, y, mtry = param$mtry, ...) : \n",
      "  NA not permitted in predictors\n",
      "\"Warning message:\n",
      "\"model fit failed for Resample07: mtry=3 Error in randomForest.default(x, y, mtry = param$mtry, ...) : \n",
      "  NA not permitted in predictors\n",
      "\"Warning message:\n",
      "\"model fit failed for Resample08: mtry=2 Error in randomForest.default(x, y, mtry = param$mtry, ...) : \n",
      "  NA not permitted in predictors\n",
      "\"Warning message:\n",
      "\"model fit failed for Resample08: mtry=3 Error in randomForest.default(x, y, mtry = param$mtry, ...) : \n",
      "  NA not permitted in predictors\n",
      "\"Warning message:\n",
      "\"model fit failed for Resample09: mtry=2 Error in randomForest.default(x, y, mtry = param$mtry, ...) : \n",
      "  NA not permitted in predictors\n",
      "\"Warning message:\n",
      "\"model fit failed for Resample09: mtry=3 Error in randomForest.default(x, y, mtry = param$mtry, ...) : \n",
      "  NA not permitted in predictors\n",
      "\"Warning message:\n",
      "\"model fit failed for Resample10: mtry=2 Error in randomForest.default(x, y, mtry = param$mtry, ...) : \n",
      "  NA not permitted in predictors\n",
      "\"Warning message:\n",
      "\"model fit failed for Resample10: mtry=3 Error in randomForest.default(x, y, mtry = param$mtry, ...) : \n",
      "  NA not permitted in predictors\n",
      "\"Warning message:\n",
      "\"model fit failed for Resample11: mtry=2 Error in randomForest.default(x, y, mtry = param$mtry, ...) : \n",
      "  NA not permitted in predictors\n",
      "\"Warning message:\n",
      "\"model fit failed for Resample11: mtry=3 Error in randomForest.default(x, y, mtry = param$mtry, ...) : \n",
      "  NA not permitted in predictors\n",
      "\"Warning message:\n",
      "\"model fit failed for Resample12: mtry=2 Error in randomForest.default(x, y, mtry = param$mtry, ...) : \n",
      "  NA not permitted in predictors\n",
      "\"Warning message:\n",
      "\"model fit failed for Resample12: mtry=3 Error in randomForest.default(x, y, mtry = param$mtry, ...) : \n",
      "  NA not permitted in predictors\n",
      "\"Warning message:\n",
      "\"model fit failed for Resample13: mtry=2 Error in randomForest.default(x, y, mtry = param$mtry, ...) : \n",
      "  NA not permitted in predictors\n",
      "\"Warning message:\n",
      "\"model fit failed for Resample13: mtry=3 Error in randomForest.default(x, y, mtry = param$mtry, ...) : \n",
      "  NA not permitted in predictors\n",
      "\"Warning message:\n",
      "\"model fit failed for Resample14: mtry=2 Error in randomForest.default(x, y, mtry = param$mtry, ...) : \n",
      "  NA not permitted in predictors\n",
      "\"Warning message:\n",
      "\"model fit failed for Resample14: mtry=3 Error in randomForest.default(x, y, mtry = param$mtry, ...) : \n",
      "  NA not permitted in predictors\n",
      "\"Warning message:\n",
      "\"model fit failed for Resample15: mtry=2 Error in randomForest.default(x, y, mtry = param$mtry, ...) : \n",
      "  NA not permitted in predictors\n",
      "\"Warning message:\n",
      "\"model fit failed for Resample15: mtry=3 Error in randomForest.default(x, y, mtry = param$mtry, ...) : \n",
      "  NA not permitted in predictors\n",
      "\"Warning message:\n",
      "\"model fit failed for Resample16: mtry=2 Error in randomForest.default(x, y, mtry = param$mtry, ...) : \n",
      "  NA not permitted in predictors\n",
      "\"Warning message:\n",
      "\"model fit failed for Resample16: mtry=3 Error in randomForest.default(x, y, mtry = param$mtry, ...) : \n",
      "  NA not permitted in predictors\n",
      "\"Warning message:\n",
      "\"model fit failed for Resample17: mtry=2 Error in randomForest.default(x, y, mtry = param$mtry, ...) : \n",
      "  NA not permitted in predictors\n",
      "\"Warning message:\n",
      "\"model fit failed for Resample17: mtry=3 Error in randomForest.default(x, y, mtry = param$mtry, ...) : \n",
      "  NA not permitted in predictors\n",
      "\"Warning message:\n",
      "\"model fit failed for Resample18: mtry=2 Error in randomForest.default(x, y, mtry = param$mtry, ...) : \n",
      "  NA not permitted in predictors\n",
      "\"Warning message:\n",
      "\"model fit failed for Resample18: mtry=3 Error in randomForest.default(x, y, mtry = param$mtry, ...) : \n",
      "  NA not permitted in predictors\n",
      "\"Warning message:\n",
      "\"model fit failed for Resample19: mtry=2 Error in randomForest.default(x, y, mtry = param$mtry, ...) : \n",
      "  NA not permitted in predictors\n",
      "\"Warning message:\n",
      "\"model fit failed for Resample19: mtry=3 Error in randomForest.default(x, y, mtry = param$mtry, ...) : \n",
      "  NA not permitted in predictors\n",
      "\"Warning message:\n",
      "\"model fit failed for Resample20: mtry=2 Error in randomForest.default(x, y, mtry = param$mtry, ...) : \n",
      "  NA not permitted in predictors\n",
      "\"Warning message:\n",
      "\"model fit failed for Resample20: mtry=3 Error in randomForest.default(x, y, mtry = param$mtry, ...) : \n",
      "  NA not permitted in predictors\n",
      "\"Warning message:\n",
      "\"model fit failed for Resample21: mtry=2 Error in randomForest.default(x, y, mtry = param$mtry, ...) : \n",
      "  NA not permitted in predictors\n",
      "\"Warning message:\n",
      "\"model fit failed for Resample21: mtry=3 Error in randomForest.default(x, y, mtry = param$mtry, ...) : \n",
      "  NA not permitted in predictors\n",
      "\"Warning message:\n",
      "\"model fit failed for Resample22: mtry=2 Error in randomForest.default(x, y, mtry = param$mtry, ...) : \n",
      "  NA not permitted in predictors\n",
      "\"Warning message:\n",
      "\"model fit failed for Resample22: mtry=3 Error in randomForest.default(x, y, mtry = param$mtry, ...) : \n",
      "  NA not permitted in predictors\n",
      "\"Warning message:\n",
      "\"model fit failed for Resample23: mtry=2 Error in randomForest.default(x, y, mtry = param$mtry, ...) : \n",
      "  NA not permitted in predictors\n",
      "\"Warning message:\n",
      "\"model fit failed for Resample23: mtry=3 Error in randomForest.default(x, y, mtry = param$mtry, ...) : \n",
      "  NA not permitted in predictors\n",
      "\"Warning message:\n",
      "\"model fit failed for Resample24: mtry=2 Error in randomForest.default(x, y, mtry = param$mtry, ...) : \n",
      "  NA not permitted in predictors\n",
      "\"Warning message:\n",
      "\"model fit failed for Resample24: mtry=3 Error in randomForest.default(x, y, mtry = param$mtry, ...) : \n",
      "  NA not permitted in predictors\n",
      "\"Warning message:\n",
      "\"model fit failed for Resample25: mtry=2 Error in randomForest.default(x, y, mtry = param$mtry, ...) : \n",
      "  NA not permitted in predictors\n",
      "\"Warning message:\n",
      "\"model fit failed for Resample25: mtry=3 Error in randomForest.default(x, y, mtry = param$mtry, ...) : \n",
      "  NA not permitted in predictors\n",
      "\"Warning message in nominalTrainWorkflow(x = x, y = y, wts = weights, info = trainInfo, :\n",
      "\"There were missing values in resampled performance measures.\""
     ]
    },
    {
     "name": "stdout",
     "output_type": "stream",
     "text": [
      "Something is wrong; all the RMSE metric values are missing:\n",
      "      RMSE        Rsquared        MAE     \n",
      " Min.   : NA   Min.   : NA   Min.   : NA  \n",
      " 1st Qu.: NA   1st Qu.: NA   1st Qu.: NA  \n",
      " Median : NA   Median : NA   Median : NA  \n",
      " Mean   :NaN   Mean   :NaN   Mean   :NaN  \n",
      " 3rd Qu.: NA   3rd Qu.: NA   3rd Qu.: NA  \n",
      " Max.   : NA   Max.   : NA   Max.   : NA  \n",
      " NA's   :2     NA's   :2     NA's   :2    \n"
     ]
    },
    {
     "ename": "ERROR",
     "evalue": "Error: Stopping\n",
     "output_type": "error",
     "traceback": [
      "Error: Stopping\nTraceback:\n",
      "1. train(X, Y)",
      "2. train.default(X, Y)",
      "3. stop(\"Stopping\", call. = FALSE)"
     ]
    }
   ],
   "source": [
    "# try to fit model \n",
    "model <- train(X, Y)\n",
    "\n",
    "# now lets do it with median imputation\n",
    "model <- train(X,Y, preProcess = \"medianImpute\")\n",
    "\n",
    "print(model)"
   ]
  },
  {
   "cell_type": "code",
   "execution_count": 41,
   "metadata": {},
   "outputs": [],
   "source": [
    "Y <- df$Sales2\n",
    "df$Sales2 <- factor(c(\"level1\",\"level2\")) # convert to non 0 or 1 factor levels\n",
    "Y <- df$Sales2"
   ]
  },
  {
   "cell_type": "code",
   "execution_count": 42,
   "metadata": {},
   "outputs": [
    {
     "name": "stderr",
     "output_type": "stream",
     "text": [
      "Warning message in train.default(x = X, y = Y, method = \"glm\", trControl = myControl, :\n",
      "\"The metric \"Accuracy\" was not in the result set. ROC will be used instead.\""
     ]
    },
    {
     "name": "stdout",
     "output_type": "stream",
     "text": [
      "+ Fold01: parameter=none \n",
      "- Fold01: parameter=none \n",
      "+ Fold02: parameter=none \n",
      "- Fold02: parameter=none \n",
      "+ Fold03: parameter=none \n",
      "- Fold03: parameter=none \n",
      "+ Fold04: parameter=none \n",
      "- Fold04: parameter=none \n",
      "+ Fold05: parameter=none \n",
      "- Fold05: parameter=none \n",
      "+ Fold06: parameter=none \n",
      "- Fold06: parameter=none \n",
      "+ Fold07: parameter=none \n",
      "- Fold07: parameter=none \n",
      "+ Fold08: parameter=none \n",
      "- Fold08: parameter=none \n",
      "+ Fold09: parameter=none \n",
      "- Fold09: parameter=none \n",
      "+ Fold10: parameter=none \n",
      "- Fold10: parameter=none \n",
      "Aggregating results\n",
      "Fitting final model on full training set\n"
     ]
    }
   ],
   "source": [
    "# Median imputation \n",
    "median_model <- train(\n",
    "  x = X, \n",
    "  y = Y,\n",
    "  method = \"glm\",\n",
    "  trControl = myControl,\n",
    "  preProcess = \"medianImpute\"\n",
    ")"
   ]
  },
  {
   "cell_type": "code",
   "execution_count": 43,
   "metadata": {},
   "outputs": [
    {
     "data": {
      "text/plain": [
       "Generalized Linear Model \n",
       "\n",
       "200 samples\n",
       "  3 predictor\n",
       "  2 classes: 'level1', 'level2' \n",
       "\n",
       "Pre-processing: median imputation (3) \n",
       "Resampling: Cross-Validated (10 fold) \n",
       "Summary of sample sizes: 180, 180, 180, 180, 180, 180, ... \n",
       "Resampling results:\n",
       "\n",
       "  ROC    Sens  Spec\n",
       "  0.521  0.53  0.5 \n"
      ]
     },
     "metadata": {},
     "output_type": "display_data"
    }
   ],
   "source": [
    "# Print median_model to console\n",
    "median_model\n"
   ]
  },
  {
   "cell_type": "code",
   "execution_count": 44,
   "metadata": {},
   "outputs": [
    {
     "name": "stderr",
     "output_type": "stream",
     "text": [
      "Installing package into 'C:/Users/blake/Documents/R/win-library/3.6'\n",
      "(as 'lib' is unspecified)\n",
      "Warning message:\n",
      "\"package 'RANN' is in use and will not be installed\"Warning message in train.default(x = X, y = Y, method = \"glm\", trControl = myControl, :\n",
      "\"The metric \"Accuracy\" was not in the result set. ROC will be used instead.\""
     ]
    },
    {
     "name": "stdout",
     "output_type": "stream",
     "text": [
      "+ Fold01: parameter=none \n",
      "- Fold01: parameter=none \n",
      "+ Fold02: parameter=none \n",
      "- Fold02: parameter=none \n",
      "+ Fold03: parameter=none \n",
      "- Fold03: parameter=none \n",
      "+ Fold04: parameter=none \n",
      "- Fold04: parameter=none \n",
      "+ Fold05: parameter=none \n",
      "- Fold05: parameter=none \n",
      "+ Fold06: parameter=none \n",
      "- Fold06: parameter=none \n",
      "+ Fold07: parameter=none \n",
      "- Fold07: parameter=none \n",
      "+ Fold08: parameter=none \n",
      "- Fold08: parameter=none \n",
      "+ Fold09: parameter=none \n",
      "- Fold09: parameter=none \n",
      "+ Fold10: parameter=none \n",
      "- Fold10: parameter=none \n",
      "Aggregating results\n",
      "Fitting final model on full training set\n"
     ]
    },
    {
     "data": {
      "text/plain": [
       "Generalized Linear Model \n",
       "\n",
       "200 samples\n",
       "  3 predictor\n",
       "  2 classes: 'level1', 'level2' \n",
       "\n",
       "Pre-processing: nearest neighbor imputation (3), centered (3), scaled (3) \n",
       "Resampling: Cross-Validated (10 fold) \n",
       "Summary of sample sizes: 180, 180, 180, 180, 180, 180, ... \n",
       "Resampling results:\n",
       "\n",
       "  ROC    Sens  Spec\n",
       "  0.523  0.52  0.54\n"
      ]
     },
     "metadata": {},
     "output_type": "display_data"
    }
   ],
   "source": [
    "#KNN Imputation\n",
    "# it is better for missing not at random\n",
    "# example of missing not at random \n",
    "#df[df$Newspaper > 15, \"Radio\"] <- NA\n",
    "# We will use missing at random though not mnar\n",
    "install.packages(\"RANN\")\n",
    "library(RANN)\n",
    "\n",
    "Y <- df$Sales2\n",
    "\n",
    "# Apply KNN imputation: knn_model\n",
    "knn_model <- train(\n",
    "  x = X, \n",
    "  y = Y,\n",
    "  method = \"glm\",\n",
    "  trControl = myControl,\n",
    "  preProcess = \"knnImpute\"\n",
    ")\n",
    "\n",
    "# Print knn_model to console\n",
    "knn_model\n"
   ]
  },
  {
   "cell_type": "markdown",
   "metadata": {},
   "source": [
    "# Multiple preprocessing methods"
   ]
  },
  {
   "cell_type": "code",
   "execution_count": 45,
   "metadata": {},
   "outputs": [
    {
     "name": "stderr",
     "output_type": "stream",
     "text": [
      "Warning message in train.default(x = X, y = Y, method = \"glm\", trControl = myControl, :\n",
      "\"The metric \"Accuracy\" was not in the result set. ROC will be used instead.\""
     ]
    },
    {
     "name": "stdout",
     "output_type": "stream",
     "text": [
      "+ Fold01: parameter=none \n",
      "- Fold01: parameter=none \n",
      "+ Fold02: parameter=none \n",
      "- Fold02: parameter=none \n",
      "+ Fold03: parameter=none \n",
      "- Fold03: parameter=none \n",
      "+ Fold04: parameter=none \n",
      "- Fold04: parameter=none \n",
      "+ Fold05: parameter=none \n",
      "- Fold05: parameter=none \n",
      "+ Fold06: parameter=none \n",
      "- Fold06: parameter=none \n",
      "+ Fold07: parameter=none \n",
      "- Fold07: parameter=none \n",
      "+ Fold08: parameter=none \n",
      "- Fold08: parameter=none \n",
      "+ Fold09: parameter=none \n",
      "- Fold09: parameter=none \n",
      "+ Fold10: parameter=none \n",
      "- Fold10: parameter=none \n",
      "Aggregating results\n",
      "Fitting final model on full training set\n"
     ]
    },
    {
     "data": {
      "text/plain": [
       "Generalized Linear Model \n",
       "\n",
       "200 samples\n",
       "  3 predictor\n",
       "  2 classes: 'level1', 'level2' \n",
       "\n",
       "Pre-processing: median imputation (3), centered (3), scaled (3) \n",
       "Resampling: Cross-Validated (10 fold) \n",
       "Summary of sample sizes: 180, 180, 180, 180, 180, 180, ... \n",
       "Resampling results:\n",
       "\n",
       "  ROC    Sens  Spec\n",
       "  0.534  0.54  0.49\n"
      ]
     },
     "metadata": {},
     "output_type": "display_data"
    }
   ],
   "source": [
    "# MULTI PRE PROCESSING METHODS\n",
    "# Order of operations(impute, center and then scale) then model fit\n",
    "\n",
    "# Update model with standardization\n",
    "model <- train(\n",
    "  x = X, \n",
    "  y = Y,\n",
    "  method = \"glm\",\n",
    "  trControl = myControl,\n",
    "  preProcess = c(\"medianImpute\", \"center\", \"scale\") #first impute then center then scale your data then pca\n",
    ")\n",
    "\n",
    "# Print updated model\n",
    "model\n"
   ]
  },
  {
   "cell_type": "code",
   "execution_count": 46,
   "metadata": {},
   "outputs": [],
   "source": [
    "# Handing low information predictors!!!!!!!\n",
    "# such as constant or close to constant variables\n",
    "# we will add a constant column to the dataframe\n",
    "# we will impute center scale then use pca\n",
    "# zv removes constant columns\n",
    "# nzv removes nearly constant columns \n",
    "# Identify near zero variance predictors: remove_cols\n",
    "\n",
    "df$constant <- 1;\n",
    "\n",
    "# identify near zero variance predictors aka df constant column \n",
    "remove_cols <- nearZeroVar(df, names = TRUE, \n",
    "                           freqCut = 2, uniqueCut = 20)\n",
    "\n",
    "# Get all column names from df: all_calls\n",
    "all_cols <- names(df)\n",
    "\n",
    "# new dataframe without the df consstant\n",
    "df_smaller <- df[ , setdiff(all_cols, remove_cols)]"
   ]
  },
  {
   "cell_type": "code",
   "execution_count": 48,
   "metadata": {},
   "outputs": [
    {
     "name": "stderr",
     "output_type": "stream",
     "text": [
      "Warning message in train.default(x = X, y = Y, method = \"glm\", trControl = myControl, :\n",
      "\"The metric \"Accuracy\" was not in the result set. ROC will be used instead.\""
     ]
    },
    {
     "name": "stdout",
     "output_type": "stream",
     "text": [
      "+ Fold01: parameter=none \n",
      "- Fold01: parameter=none \n",
      "+ Fold02: parameter=none \n",
      "- Fold02: parameter=none \n",
      "+ Fold03: parameter=none \n",
      "- Fold03: parameter=none \n",
      "+ Fold04: parameter=none \n",
      "- Fold04: parameter=none \n",
      "+ Fold05: parameter=none \n",
      "- Fold05: parameter=none \n",
      "+ Fold06: parameter=none \n",
      "- Fold06: parameter=none \n",
      "+ Fold07: parameter=none \n",
      "- Fold07: parameter=none \n",
      "+ Fold08: parameter=none \n",
      "- Fold08: parameter=none \n",
      "+ Fold09: parameter=none \n",
      "- Fold09: parameter=none \n",
      "+ Fold10: parameter=none \n",
      "- Fold10: parameter=none \n",
      "Aggregating results\n",
      "Fitting final model on full training set\n",
      "Generalized Linear Model \n",
      "\n",
      "200 samples\n",
      "  4 predictor\n",
      "  2 classes: 'level1', 'level2' \n",
      "\n",
      "Pre-processing: median imputation (3), centered (3), scaled (3),\n",
      " principal component signal extraction (3), remove (1) \n",
      "Resampling: Cross-Validated (10 fold) \n",
      "Summary of sample sizes: 180, 180, 180, 180, 180, 180, ... \n",
      "Resampling results:\n",
      "\n",
      "  ROC   Sens  Spec\n",
      "  0.51  0.52  0.51\n",
      "\n"
     ]
    }
   ],
   "source": [
    "Y <- df$Sales2\n",
    "X <- df[,c(1,2,3,6)]# adding in the constant and using zv to remove constant then impute center scale and pca\n",
    "# now this removes \n",
    "model <- train(\n",
    "  x = X, \n",
    "  y = Y,\n",
    "  method = \"glm\",\n",
    "  trControl = myControl,\n",
    "  preProcess = c(\"zv\",\"medianImpute\", \"center\", \"scale\",\"pca\") #first impute then center then scale your data then pca\n",
    ")\n",
    "print(model)\n"
   ]
  },
  {
   "cell_type": "markdown",
   "metadata": {},
   "source": [
    "# Principle Component Analysis"
   ]
  },
  {
   "cell_type": "code",
   "execution_count": 50,
   "metadata": {},
   "outputs": [
    {
     "ename": "ERROR",
     "evalue": "Error in head(BloodBrain): object 'BloodBrain' not found\n",
     "output_type": "error",
     "traceback": [
      "Error in head(BloodBrain): object 'BloodBrain' not found\nTraceback:\n",
      "1. head(BloodBrain)"
     ]
    }
   ],
   "source": [
    "#Principle Component Analysis \n",
    "# pca searches for high variance linear combinations that are perpendicular to eachother\n",
    "#load blood brain dataset from caret\n",
    "#The vector logBBB contains the log concentration ratio and the data fame bbbDescr contains the descriptor values.\n",
    "data(BloodBrain)\n",
    "head(BloodBrain)\n",
    "\n",
    "#identify near zero variance variables in dataset\n",
    "names(bbbDescr)[nearZeroVar(bbbDescr)]\n",
    "\n",
    "# Add PCA\n",
    "set.seed(46)\n",
    "\n",
    "model <- train(\n",
    "  bbbDescr, # X predictors\n",
    "  logBBB, # Y dependent\n",
    "  method = \"glm\",\n",
    "  trControl = trainControl(\n",
    "    method = \"cv\", number = 10, verbose = TRUE\n",
    "  ),\n",
    "  preProcess = c(\"zv\",\"center\",\"scale\",\"pca\")\n",
    ")\n",
    "min(model$results$RMSE)\n"
   ]
  },
  {
   "cell_type": "markdown",
   "metadata": {},
   "source": [
    "# CHURN PREDICTION"
   ]
  },
  {
   "cell_type": "code",
   "execution_count": 51,
   "metadata": {},
   "outputs": [
    {
     "data": {
      "text/plain": [
       "     state      account.length    area.code       phone.number \n",
       " WV     : 106   Min.   :  1.0   Min.   :408.0   327-1058:   1  \n",
       " MN     :  84   1st Qu.: 74.0   1st Qu.:408.0   327-1319:   1  \n",
       " NY     :  83   Median :101.0   Median :415.0   327-3053:   1  \n",
       " AL     :  80   Mean   :101.1   Mean   :437.2   327-3587:   1  \n",
       " OH     :  78   3rd Qu.:127.0   3rd Qu.:510.0   327-3850:   1  \n",
       " OR     :  78   Max.   :243.0   Max.   :510.0   327-3954:   1  \n",
       " (Other):2824                                   (Other) :3327  \n",
       " international.plan voice.mail.plan number.vmail.messages total.day.minutes\n",
       " no :3010           no :2411        Min.   : 0.000        Min.   :  0.0    \n",
       " yes: 323           yes: 922        1st Qu.: 0.000        1st Qu.:143.7    \n",
       "                                    Median : 0.000        Median :179.4    \n",
       "                                    Mean   : 8.099        Mean   :179.8    \n",
       "                                    3rd Qu.:20.000        3rd Qu.:216.4    \n",
       "                                    Max.   :51.000        Max.   :350.8    \n",
       "                                                                           \n",
       " total.day.calls total.day.charge total.eve.minutes total.eve.calls\n",
       " Min.   :  0.0   Min.   : 0.00    Min.   :  0.0     Min.   :  0.0  \n",
       " 1st Qu.: 87.0   1st Qu.:24.43    1st Qu.:166.6     1st Qu.: 87.0  \n",
       " Median :101.0   Median :30.50    Median :201.4     Median :100.0  \n",
       " Mean   :100.4   Mean   :30.56    Mean   :201.0     Mean   :100.1  \n",
       " 3rd Qu.:114.0   3rd Qu.:36.79    3rd Qu.:235.3     3rd Qu.:114.0  \n",
       " Max.   :165.0   Max.   :59.64    Max.   :363.7     Max.   :170.0  \n",
       "                                                                   \n",
       " total.eve.charge total.night.minutes total.night.calls total.night.charge\n",
       " Min.   : 0.00    Min.   : 23.2       Min.   : 33.0     Min.   : 1.040    \n",
       " 1st Qu.:14.16    1st Qu.:167.0       1st Qu.: 87.0     1st Qu.: 7.520    \n",
       " Median :17.12    Median :201.2       Median :100.0     Median : 9.050    \n",
       " Mean   :17.08    Mean   :200.9       Mean   :100.1     Mean   : 9.039    \n",
       " 3rd Qu.:20.00    3rd Qu.:235.3       3rd Qu.:113.0     3rd Qu.:10.590    \n",
       " Max.   :30.91    Max.   :395.0       Max.   :175.0     Max.   :17.770    \n",
       "                                                                          \n",
       " total.intl.minutes total.intl.calls total.intl.charge customer.service.calls\n",
       " Min.   : 0.00      Min.   : 0.000   Min.   :0.000     Min.   :0.000         \n",
       " 1st Qu.: 8.50      1st Qu.: 3.000   1st Qu.:2.300     1st Qu.:1.000         \n",
       " Median :10.30      Median : 4.000   Median :2.780     Median :1.000         \n",
       " Mean   :10.24      Mean   : 4.479   Mean   :2.765     Mean   :1.563         \n",
       " 3rd Qu.:12.10      3rd Qu.: 6.000   3rd Qu.:3.270     3rd Qu.:2.000         \n",
       " Max.   :20.00      Max.   :20.000   Max.   :5.400     Max.   :9.000         \n",
       "                                                                             \n",
       "   churn     \n",
       " False:2850  \n",
       " True : 483  \n",
       "             \n",
       "             \n",
       "             \n",
       "             \n",
       "             "
      ]
     },
     "metadata": {},
     "output_type": "display_data"
    }
   ],
   "source": [
    "# CUSTOMER CHURN\n",
    "library(caret)\n",
    "\n",
    "churn <- read.csv(\"churn.csv\")\n",
    "\n",
    "summary(churn)\n"
   ]
  },
  {
   "cell_type": "code",
   "execution_count": 53,
   "metadata": {},
   "outputs": [
    {
     "data": {
      "text/plain": [
       "\n",
       "    False      True \n",
       "0.8597149 0.1402851 "
      ]
     },
     "metadata": {},
     "output_type": "display_data"
    }
   ],
   "source": [
    "#Out of sample error \n",
    "#First lets split our data\n",
    "set.seed(39)\n",
    "\n",
    "# Shuffle row indices:rows\n",
    "rowsc <- sample(nrow(churn))\n",
    "\n",
    "#Randomly order data\n",
    "shuffled_dfc <- churn[rowsc, ]\n",
    "\n",
    "# Determine row to split on: split\n",
    "splitc <- round(nrow(churn) * 0.80) # use 80% of data for training\n",
    "\n",
    "# Create train\n",
    "trainc <- churn[1:splitc, ] # 1:80% of dataset or row 160 \n",
    "\n",
    "# Create test\n",
    "testc <- churn[(splitc + 1):nrow(churn), ] # take the rest of the rows in the df that is not test\n",
    "\n",
    "# about 14% of customers churn\n",
    "table(trainc$churn) / nrow(trainc)"
   ]
  },
  {
   "cell_type": "code",
   "execution_count": 54,
   "metadata": {},
   "outputs": [
    {
     "data": {
      "text/plain": [
       "\n",
       "    False      True \n",
       "0.8595506 0.1404494 "
      ]
     },
     "metadata": {},
     "output_type": "display_data"
    }
   ],
   "source": [
    "# train and test set cross validation indecies\n",
    "set.seed(44)\n",
    "\n",
    "myFolds <-createFolds(trainc$churn, k = 5)\n",
    "\n",
    "# compare class distribution\n",
    "# holds class distribution 14% churn\n",
    "i <- myFolds$Fold1\n",
    "table(trainc$churn[i]) / length(i)"
   ]
  },
  {
   "cell_type": "code",
   "execution_count": 55,
   "metadata": {},
   "outputs": [],
   "source": [
    "# make train control object\n",
    "#allows exact same cross validation for each model for fair comparison\n",
    "myControl <- trainControl(\n",
    "  summaryFunction = twoClassSummary,\n",
    "  classProbs = TRUE,\n",
    "  verboseIter = TRUE,\n",
    "  savePredictions = TRUE,\n",
    "  index = myFolds # allows exact same cross validationo for each model \n",
    "  )\n"
   ]
  },
  {
   "cell_type": "code",
   "execution_count": 56,
   "metadata": {},
   "outputs": [
    {
     "name": "stdout",
     "output_type": "stream",
     "text": [
      "+ Fold1: alpha=0, lambda=1 \n",
      "- Fold1: alpha=0, lambda=1 \n",
      "+ Fold1: alpha=1, lambda=1 \n",
      "- Fold1: alpha=1, lambda=1 \n",
      "+ Fold2: alpha=0, lambda=1 \n",
      "- Fold2: alpha=0, lambda=1 \n",
      "+ Fold2: alpha=1, lambda=1 \n",
      "- Fold2: alpha=1, lambda=1 \n",
      "+ Fold3: alpha=0, lambda=1 \n",
      "- Fold3: alpha=0, lambda=1 \n",
      "+ Fold3: alpha=1, lambda=1 \n",
      "- Fold3: alpha=1, lambda=1 \n",
      "+ Fold4: alpha=0, lambda=1 \n",
      "- Fold4: alpha=0, lambda=1 \n",
      "+ Fold4: alpha=1, lambda=1 \n",
      "- Fold4: alpha=1, lambda=1 \n",
      "+ Fold5: alpha=0, lambda=1 \n",
      "- Fold5: alpha=0, lambda=1 \n",
      "+ Fold5: alpha=1, lambda=1 \n",
      "- Fold5: alpha=1, lambda=1 \n",
      "Aggregating results\n",
      "Selecting tuning parameters\n",
      "Fitting alpha = 0, lambda = 0.9 on full training set\n"
     ]
    },
    {
     "data": {
      "image/png": "[encoded data removed]",
      "text/plain": [
       "plot without title"
      ]
     },
     "metadata": {},
     "output_type": "display_data"
    }
   ],
   "source": [
    "# start with glmnet \n",
    "# built in linear model with built in variable selection\n",
    "# interpretable coefficients\n",
    "\n",
    "set.seed(50)\n",
    "model_glmnet <- train(\n",
    "  churn ~.,\n",
    "  trainc,\n",
    "  metric = \"ROC\",\n",
    "  method = \"glmnet\",\n",
    "  tuneGrid = expand.grid(\n",
    "    alpha = 0:1,\n",
    "    lambda = 0:10 / 10\n",
    "  ),\n",
    "  trControl = myControl \n",
    ")\n",
    "\n",
    "# looks like alpha of 1 yields best model \n",
    "plot(model_glmnet)"
   ]
  },
  {
   "cell_type": "code",
   "execution_count": 58,
   "metadata": {},
   "outputs": [
    {
     "data": {
      "image/png": "[encoded data removed]",
      "text/plain": [
       "plot without title"
      ]
     },
     "metadata": {},
     "output_type": "display_data"
    }
   ],
   "source": [
    "# plotting coefficients\n",
    "plot(model_glmnet$finalModel)\n"
   ]
  },
  {
   "cell_type": "code",
   "execution_count": 67,
   "metadata": {},
   "outputs": [
    {
     "name": "stderr",
     "output_type": "stream",
     "text": [
      "Warning message in lognet(x, is.sparse, ix, jx, y, weights, offset, alpha, nobs, :\n",
      "\"NAs introduced by coercion\""
     ]
    },
    {
     "ename": "ERROR",
     "evalue": "Error in lognet(x, is.sparse, ix, jx, y, weights, offset, alpha, nobs, : NA/NaN/Inf in foreign function call (arg 5)\n",
     "output_type": "error",
     "traceback": [
      "Error in lognet(x, is.sparse, ix, jx, y, weights, offset, alpha, nobs, : NA/NaN/Inf in foreign function call (arg 5)\nTraceback:\n",
      "1. train(x = X, y = Y, metric = \"ROC\", method = \"glmnet\", trControl = myControl)",
      "2. train.default(x = X, y = Y, metric = \"ROC\", method = \"glmnet\", \n .     trControl = myControl)",
      "3. models$grid(x = x, y = y, len = tuneLength, search = trControl$search)",
      "4. glmnet::glmnet(Matrix::as.matrix(x), y, family = fam, nlambda = len + \n .     2, alpha = 0.5)   # at line 13-16 of file glmnet.R",
      "5. lognet(x, is.sparse, ix, jx, y, weights, offset, alpha, nobs, \n .     nvars, jd, vp, cl, ne, nx, nlam, flmin, ulam, thresh, isd, \n .     intr, vnames, maxit, kopt, family)"
     ]
    }
   ],
   "source": [
    "# try random forest next !!!!\n",
    "set.seed(99)\n",
    "trainc$churn <- factor(c(\"level1\",\"level2\"))\n",
    "X <- trainc[,c(1:20)]\n",
    "Y <- trainc[,c(21)]\n",
    "\n",
    "# Fit glmnet model: model_glmnet\n",
    "model_glmnet <- train(\n",
    "  x = X, \n",
    "  y = Y,\n",
    "  metric = \"ROC\",\n",
    "  method = \"glmnet\",\n",
    "  trControl = myControl\n",
    ")\n",
    "\n"
   ]
  },
  {
   "cell_type": "code",
   "execution_count": 68,
   "metadata": {},
   "outputs": [
    {
     "name": "stdout",
     "output_type": "stream",
     "text": [
      "+ Fold1: mtry= 2, min.node.size=1, splitrule=gini \n",
      "- Fold1: mtry= 2, min.node.size=1, splitrule=gini \n",
      "+ Fold1: mtry=11, min.node.size=1, splitrule=gini \n",
      "- Fold1: mtry=11, min.node.size=1, splitrule=gini \n",
      "+ Fold1: mtry=20, min.node.size=1, splitrule=gini \n",
      "- Fold1: mtry=20, min.node.size=1, splitrule=gini \n",
      "+ Fold1: mtry= 2, min.node.size=1, splitrule=extratrees \n",
      "model fit failed for Fold1: mtry= 2, min.node.size=1, splitrule=extratrees Error in ranger::ranger(dependent.variable.name = \".outcome\", data = x,  : \n",
      "  Too many levels in unordered categorical variable phone.number. Only 53 levels allowed on this system. Consider using the 'order' option.\n",
      " \n"
     ]
    },
    {
     "name": "stderr",
     "output_type": "stream",
     "text": [
      "Warning message:\n",
      "\"model fit failed for Fold1: mtry= 2, min.node.size=1, splitrule=extratrees Error in ranger::ranger(dependent.variable.name = \".outcome\", data = x,  : \n",
      "  Too many levels in unordered categorical variable phone.number. Only 53 levels allowed on this system. Consider using the 'order' option.\n",
      "\""
     ]
    },
    {
     "name": "stdout",
     "output_type": "stream",
     "text": [
      "- Fold1: mtry= 2, min.node.size=1, splitrule=extratrees \n",
      "+ Fold1: mtry=11, min.node.size=1, splitrule=extratrees \n",
      "model fit failed for Fold1: mtry=11, min.node.size=1, splitrule=extratrees Error in ranger::ranger(dependent.variable.name = \".outcome\", data = x,  : \n",
      "  Too many levels in unordered categorical variable phone.number. Only 53 levels allowed on this system. Consider using the 'order' option.\n",
      " \n"
     ]
    },
    {
     "name": "stderr",
     "output_type": "stream",
     "text": [
      "Warning message:\n",
      "\"model fit failed for Fold1: mtry=11, min.node.size=1, splitrule=extratrees Error in ranger::ranger(dependent.variable.name = \".outcome\", data = x,  : \n",
      "  Too many levels in unordered categorical variable phone.number. Only 53 levels allowed on this system. Consider using the 'order' option.\n",
      "\""
     ]
    },
    {
     "name": "stdout",
     "output_type": "stream",
     "text": [
      "- Fold1: mtry=11, min.node.size=1, splitrule=extratrees \n",
      "+ Fold1: mtry=20, min.node.size=1, splitrule=extratrees \n",
      "model fit failed for Fold1: mtry=20, min.node.size=1, splitrule=extratrees Error in ranger::ranger(dependent.variable.name = \".outcome\", data = x,  : \n",
      "  Too many levels in unordered categorical variable phone.number. Only 53 levels allowed on this system. Consider using the 'order' option.\n",
      " \n"
     ]
    },
    {
     "name": "stderr",
     "output_type": "stream",
     "text": [
      "Warning message:\n",
      "\"model fit failed for Fold1: mtry=20, min.node.size=1, splitrule=extratrees Error in ranger::ranger(dependent.variable.name = \".outcome\", data = x,  : \n",
      "  Too many levels in unordered categorical variable phone.number. Only 53 levels allowed on this system. Consider using the 'order' option.\n",
      "\""
     ]
    },
    {
     "name": "stdout",
     "output_type": "stream",
     "text": [
      "- Fold1: mtry=20, min.node.size=1, splitrule=extratrees \n",
      "+ Fold2: mtry= 2, min.node.size=1, splitrule=gini \n",
      "- Fold2: mtry= 2, min.node.size=1, splitrule=gini \n",
      "+ Fold2: mtry=11, min.node.size=1, splitrule=gini \n",
      "- Fold2: mtry=11, min.node.size=1, splitrule=gini \n",
      "+ Fold2: mtry=20, min.node.size=1, splitrule=gini \n",
      "- Fold2: mtry=20, min.node.size=1, splitrule=gini \n",
      "+ Fold2: mtry= 2, min.node.size=1, splitrule=extratrees \n",
      "model fit failed for Fold2: mtry= 2, min.node.size=1, splitrule=extratrees Error in ranger::ranger(dependent.variable.name = \".outcome\", data = x,  : \n",
      "  Too many levels in unordered categorical variable phone.number. Only 53 levels allowed on this system. Consider using the 'order' option.\n",
      " \n"
     ]
    },
    {
     "name": "stderr",
     "output_type": "stream",
     "text": [
      "Warning message:\n",
      "\"model fit failed for Fold2: mtry= 2, min.node.size=1, splitrule=extratrees Error in ranger::ranger(dependent.variable.name = \".outcome\", data = x,  : \n",
      "  Too many levels in unordered categorical variable phone.number. Only 53 levels allowed on this system. Consider using the 'order' option.\n",
      "\""
     ]
    },
    {
     "name": "stdout",
     "output_type": "stream",
     "text": [
      "- Fold2: mtry= 2, min.node.size=1, splitrule=extratrees \n",
      "+ Fold2: mtry=11, min.node.size=1, splitrule=extratrees \n",
      "model fit failed for Fold2: mtry=11, min.node.size=1, splitrule=extratrees Error in ranger::ranger(dependent.variable.name = \".outcome\", data = x,  : \n",
      "  Too many levels in unordered categorical variable phone.number. Only 53 levels allowed on this system. Consider using the 'order' option.\n",
      " \n"
     ]
    },
    {
     "name": "stderr",
     "output_type": "stream",
     "text": [
      "Warning message:\n",
      "\"model fit failed for Fold2: mtry=11, min.node.size=1, splitrule=extratrees Error in ranger::ranger(dependent.variable.name = \".outcome\", data = x,  : \n",
      "  Too many levels in unordered categorical variable phone.number. Only 53 levels allowed on this system. Consider using the 'order' option.\n",
      "\""
     ]
    },
    {
     "name": "stdout",
     "output_type": "stream",
     "text": [
      "- Fold2: mtry=11, min.node.size=1, splitrule=extratrees \n",
      "+ Fold2: mtry=20, min.node.size=1, splitrule=extratrees \n",
      "model fit failed for Fold2: mtry=20, min.node.size=1, splitrule=extratrees Error in ranger::ranger(dependent.variable.name = \".outcome\", data = x,  : \n",
      "  Too many levels in unordered categorical variable phone.number. Only 53 levels allowed on this system. Consider using the 'order' option.\n",
      " \n"
     ]
    },
    {
     "name": "stderr",
     "output_type": "stream",
     "text": [
      "Warning message:\n",
      "\"model fit failed for Fold2: mtry=20, min.node.size=1, splitrule=extratrees Error in ranger::ranger(dependent.variable.name = \".outcome\", data = x,  : \n",
      "  Too many levels in unordered categorical variable phone.number. Only 53 levels allowed on this system. Consider using the 'order' option.\n",
      "\""
     ]
    },
    {
     "name": "stdout",
     "output_type": "stream",
     "text": [
      "- Fold2: mtry=20, min.node.size=1, splitrule=extratrees \n",
      "+ Fold3: mtry= 2, min.node.size=1, splitrule=gini \n",
      "- Fold3: mtry= 2, min.node.size=1, splitrule=gini \n",
      "+ Fold3: mtry=11, min.node.size=1, splitrule=gini \n",
      "- Fold3: mtry=11, min.node.size=1, splitrule=gini \n",
      "+ Fold3: mtry=20, min.node.size=1, splitrule=gini \n",
      "- Fold3: mtry=20, min.node.size=1, splitrule=gini \n",
      "+ Fold3: mtry= 2, min.node.size=1, splitrule=extratrees \n",
      "model fit failed for Fold3: mtry= 2, min.node.size=1, splitrule=extratrees Error in ranger::ranger(dependent.variable.name = \".outcome\", data = x,  : \n",
      "  Too many levels in unordered categorical variable phone.number. Only 53 levels allowed on this system. Consider using the 'order' option.\n",
      " \n"
     ]
    },
    {
     "name": "stderr",
     "output_type": "stream",
     "text": [
      "Warning message:\n",
      "\"model fit failed for Fold3: mtry= 2, min.node.size=1, splitrule=extratrees Error in ranger::ranger(dependent.variable.name = \".outcome\", data = x,  : \n",
      "  Too many levels in unordered categorical variable phone.number. Only 53 levels allowed on this system. Consider using the 'order' option.\n",
      "\""
     ]
    },
    {
     "name": "stdout",
     "output_type": "stream",
     "text": [
      "- Fold3: mtry= 2, min.node.size=1, splitrule=extratrees \n",
      "+ Fold3: mtry=11, min.node.size=1, splitrule=extratrees \n",
      "model fit failed for Fold3: mtry=11, min.node.size=1, splitrule=extratrees Error in ranger::ranger(dependent.variable.name = \".outcome\", data = x,  : \n",
      "  Too many levels in unordered categorical variable phone.number. Only 53 levels allowed on this system. Consider using the 'order' option.\n",
      " \n"
     ]
    },
    {
     "name": "stderr",
     "output_type": "stream",
     "text": [
      "Warning message:\n",
      "\"model fit failed for Fold3: mtry=11, min.node.size=1, splitrule=extratrees Error in ranger::ranger(dependent.variable.name = \".outcome\", data = x,  : \n",
      "  Too many levels in unordered categorical variable phone.number. Only 53 levels allowed on this system. Consider using the 'order' option.\n",
      "\""
     ]
    },
    {
     "name": "stdout",
     "output_type": "stream",
     "text": [
      "- Fold3: mtry=11, min.node.size=1, splitrule=extratrees \n",
      "+ Fold3: mtry=20, min.node.size=1, splitrule=extratrees \n",
      "model fit failed for Fold3: mtry=20, min.node.size=1, splitrule=extratrees Error in ranger::ranger(dependent.variable.name = \".outcome\", data = x,  : \n",
      "  Too many levels in unordered categorical variable phone.number. Only 53 levels allowed on this system. Consider using the 'order' option.\n",
      " \n"
     ]
    },
    {
     "name": "stderr",
     "output_type": "stream",
     "text": [
      "Warning message:\n",
      "\"model fit failed for Fold3: mtry=20, min.node.size=1, splitrule=extratrees Error in ranger::ranger(dependent.variable.name = \".outcome\", data = x,  : \n",
      "  Too many levels in unordered categorical variable phone.number. Only 53 levels allowed on this system. Consider using the 'order' option.\n",
      "\""
     ]
    },
    {
     "name": "stdout",
     "output_type": "stream",
     "text": [
      "- Fold3: mtry=20, min.node.size=1, splitrule=extratrees \n",
      "+ Fold4: mtry= 2, min.node.size=1, splitrule=gini \n",
      "- Fold4: mtry= 2, min.node.size=1, splitrule=gini \n",
      "+ Fold4: mtry=11, min.node.size=1, splitrule=gini \n",
      "- Fold4: mtry=11, min.node.size=1, splitrule=gini \n",
      "+ Fold4: mtry=20, min.node.size=1, splitrule=gini \n",
      "- Fold4: mtry=20, min.node.size=1, splitrule=gini \n",
      "+ Fold4: mtry= 2, min.node.size=1, splitrule=extratrees \n",
      "model fit failed for Fold4: mtry= 2, min.node.size=1, splitrule=extratrees Error in ranger::ranger(dependent.variable.name = \".outcome\", data = x,  : \n",
      "  Too many levels in unordered categorical variable phone.number. Only 53 levels allowed on this system. Consider using the 'order' option.\n",
      " \n"
     ]
    },
    {
     "name": "stderr",
     "output_type": "stream",
     "text": [
      "Warning message:\n",
      "\"model fit failed for Fold4: mtry= 2, min.node.size=1, splitrule=extratrees Error in ranger::ranger(dependent.variable.name = \".outcome\", data = x,  : \n",
      "  Too many levels in unordered categorical variable phone.number. Only 53 levels allowed on this system. Consider using the 'order' option.\n",
      "\""
     ]
    },
    {
     "name": "stdout",
     "output_type": "stream",
     "text": [
      "- Fold4: mtry= 2, min.node.size=1, splitrule=extratrees \n",
      "+ Fold4: mtry=11, min.node.size=1, splitrule=extratrees \n",
      "model fit failed for Fold4: mtry=11, min.node.size=1, splitrule=extratrees Error in ranger::ranger(dependent.variable.name = \".outcome\", data = x,  : \n",
      "  Too many levels in unordered categorical variable phone.number. Only 53 levels allowed on this system. Consider using the 'order' option.\n",
      " \n"
     ]
    },
    {
     "name": "stderr",
     "output_type": "stream",
     "text": [
      "Warning message:\n",
      "\"model fit failed for Fold4: mtry=11, min.node.size=1, splitrule=extratrees Error in ranger::ranger(dependent.variable.name = \".outcome\", data = x,  : \n",
      "  Too many levels in unordered categorical variable phone.number. Only 53 levels allowed on this system. Consider using the 'order' option.\n",
      "\""
     ]
    },
    {
     "name": "stdout",
     "output_type": "stream",
     "text": [
      "- Fold4: mtry=11, min.node.size=1, splitrule=extratrees \n",
      "+ Fold4: mtry=20, min.node.size=1, splitrule=extratrees \n",
      "model fit failed for Fold4: mtry=20, min.node.size=1, splitrule=extratrees Error in ranger::ranger(dependent.variable.name = \".outcome\", data = x,  : \n",
      "  Too many levels in unordered categorical variable phone.number. Only 53 levels allowed on this system. Consider using the 'order' option.\n",
      " \n"
     ]
    },
    {
     "name": "stderr",
     "output_type": "stream",
     "text": [
      "Warning message:\n",
      "\"model fit failed for Fold4: mtry=20, min.node.size=1, splitrule=extratrees Error in ranger::ranger(dependent.variable.name = \".outcome\", data = x,  : \n",
      "  Too many levels in unordered categorical variable phone.number. Only 53 levels allowed on this system. Consider using the 'order' option.\n",
      "\""
     ]
    },
    {
     "name": "stdout",
     "output_type": "stream",
     "text": [
      "- Fold4: mtry=20, min.node.size=1, splitrule=extratrees \n",
      "+ Fold5: mtry= 2, min.node.size=1, splitrule=gini \n",
      "- Fold5: mtry= 2, min.node.size=1, splitrule=gini \n",
      "+ Fold5: mtry=11, min.node.size=1, splitrule=gini \n",
      "- Fold5: mtry=11, min.node.size=1, splitrule=gini \n",
      "+ Fold5: mtry=20, min.node.size=1, splitrule=gini \n",
      "- Fold5: mtry=20, min.node.size=1, splitrule=gini \n",
      "+ Fold5: mtry= 2, min.node.size=1, splitrule=extratrees \n",
      "model fit failed for Fold5: mtry= 2, min.node.size=1, splitrule=extratrees Error in ranger::ranger(dependent.variable.name = \".outcome\", data = x,  : \n",
      "  Too many levels in unordered categorical variable phone.number. Only 53 levels allowed on this system. Consider using the 'order' option.\n",
      " \n"
     ]
    },
    {
     "name": "stderr",
     "output_type": "stream",
     "text": [
      "Warning message:\n",
      "\"model fit failed for Fold5: mtry= 2, min.node.size=1, splitrule=extratrees Error in ranger::ranger(dependent.variable.name = \".outcome\", data = x,  : \n",
      "  Too many levels in unordered categorical variable phone.number. Only 53 levels allowed on this system. Consider using the 'order' option.\n",
      "\""
     ]
    },
    {
     "name": "stdout",
     "output_type": "stream",
     "text": [
      "- Fold5: mtry= 2, min.node.size=1, splitrule=extratrees \n",
      "+ Fold5: mtry=11, min.node.size=1, splitrule=extratrees \n",
      "model fit failed for Fold5: mtry=11, min.node.size=1, splitrule=extratrees Error in ranger::ranger(dependent.variable.name = \".outcome\", data = x,  : \n",
      "  Too many levels in unordered categorical variable phone.number. Only 53 levels allowed on this system. Consider using the 'order' option.\n",
      " \n"
     ]
    },
    {
     "name": "stderr",
     "output_type": "stream",
     "text": [
      "Warning message:\n",
      "\"model fit failed for Fold5: mtry=11, min.node.size=1, splitrule=extratrees Error in ranger::ranger(dependent.variable.name = \".outcome\", data = x,  : \n",
      "  Too many levels in unordered categorical variable phone.number. Only 53 levels allowed on this system. Consider using the 'order' option.\n",
      "\""
     ]
    },
    {
     "name": "stdout",
     "output_type": "stream",
     "text": [
      "- Fold5: mtry=11, min.node.size=1, splitrule=extratrees \n",
      "+ Fold5: mtry=20, min.node.size=1, splitrule=extratrees \n",
      "model fit failed for Fold5: mtry=20, min.node.size=1, splitrule=extratrees Error in ranger::ranger(dependent.variable.name = \".outcome\", data = x,  : \n",
      "  Too many levels in unordered categorical variable phone.number. Only 53 levels allowed on this system. Consider using the 'order' option.\n",
      " \n"
     ]
    },
    {
     "name": "stderr",
     "output_type": "stream",
     "text": [
      "Warning message:\n",
      "\"model fit failed for Fold5: mtry=20, min.node.size=1, splitrule=extratrees Error in ranger::ranger(dependent.variable.name = \".outcome\", data = x,  : \n",
      "  Too many levels in unordered categorical variable phone.number. Only 53 levels allowed on this system. Consider using the 'order' option.\n",
      "\""
     ]
    },
    {
     "name": "stdout",
     "output_type": "stream",
     "text": [
      "- Fold5: mtry=20, min.node.size=1, splitrule=extratrees \n"
     ]
    },
    {
     "name": "stderr",
     "output_type": "stream",
     "text": [
      "Warning message in nominalTrainWorkflow(x = x, y = y, wts = weights, info = trainInfo, :\n",
      "\"There were missing values in resampled performance measures.\""
     ]
    },
    {
     "name": "stdout",
     "output_type": "stream",
     "text": [
      "Aggregating results\n"
     ]
    },
    {
     "name": "stderr",
     "output_type": "stream",
     "text": [
      "Warning message in train.default(x = X, y = Y, metric = \"ROC\", method = \"ranger\", :\n",
      "\"missing values found in aggregated results\""
     ]
    },
    {
     "name": "stdout",
     "output_type": "stream",
     "text": [
      "Selecting tuning parameters\n",
      "Fitting mtry = 2, splitrule = gini, min.node.size = 1 on full training set\n"
     ]
    },
    {
     "data": {
      "image/png": "[encoded data removed]",
      "text/plain": [
       "plot without title"
      ]
     },
     "metadata": {},
     "output_type": "display_data"
    }
   ],
   "source": [
    "# Fit random forest: model_rf\n",
    "model_rf <- train(\n",
    "  x = X, \n",
    "  y = Y,\n",
    "  metric = \"ROC\",\n",
    "  method = \"ranger\",\n",
    "  trControl = myControl\n",
    ")\n",
    "\n",
    "plot(model_rf)"
   ]
  },
  {
   "cell_type": "code",
   "execution_count": 70,
   "metadata": {},
   "outputs": [
    {
     "data": {
      "text/plain": [
       "\n",
       "Call:\n",
       "summary.resamples(object = resamples)\n",
       "\n",
       "Models: item1, item2 \n",
       "Number of resamples: 5 \n",
       "\n",
       "ROC \n",
       "           Min.   1st Qu.    Median      Mean   3rd Qu.      Max. NA's\n",
       "item1 0.7330801 0.7361981 0.7393711 0.7446980 0.7464763 0.7683642    0\n",
       "item2 0.4827930 0.4859648 0.4891720 0.4923312 0.4968934 0.5068329    0\n",
       "\n",
       "Sens \n",
       "           Min.   1st Qu.    Median     Mean   3rd Qu.      Max. NA's\n",
       "item1 1.0000000 1.0000000 1.0000000 1.000000 1.0000000 1.0000000    0\n",
       "item2 0.4757009 0.4831461 0.5183099 0.506615 0.5196998 0.5362183    0\n",
       "\n",
       "Spec \n",
       "           Min.   1st Qu.    Median      Mean   3rd Qu.      Max. NA's\n",
       "item1 0.0000000 0.0000000 0.0000000 0.0000000 0.0000000 0.0000000    0\n",
       "item2 0.4676664 0.4737828 0.4911132 0.4934663 0.5145814 0.5201878    0\n"
      ]
     },
     "metadata": {},
     "output_type": "display_data"
    },
    {
     "data": {
      "image/png": "[encoded data removed]",
      "text/plain": [
       "plot without title"
      ]
     },
     "metadata": {},
     "output_type": "display_data"
    }
   ],
   "source": [
    "# Comparing models \n",
    "# Create model_list\n",
    "model_list <- list(item1 = model_glmnet, item2 = model_rf)\n",
    "\n",
    "# Pass model_list to resamples(): resamples\n",
    "resamples <- resamples(model_list)\n",
    "\n",
    "# Summarize the results\n",
    "summary(resamples)\n",
    "\n",
    "# BOX AND WISKER PLOT OF ROC\n",
    "bwplot(resamples, metric = \"ROC\")\n",
    "\n"
   ]
  },
  {
   "cell_type": "code",
   "execution_count": 71,
   "metadata": {},
   "outputs": [
    {
     "data": {
      "image/png": "[encoded data removed]",
      "text/plain": [
       "plot without title"
      ]
     },
     "metadata": {},
     "output_type": "display_data"
    }
   ],
   "source": [
    "dotplot(resamples, metric = \"ROC\")\n"
   ]
  },
  {
   "cell_type": "code",
   "execution_count": 72,
   "metadata": {},
   "outputs": [
    {
     "data": {
      "image/png": "[encoded data removed]",
      "text/plain": [
       "plot without title"
      ]
     },
     "metadata": {},
     "output_type": "display_data"
    }
   ],
   "source": [
    "\n",
    "densityplot(resamples, metric = \"ROC\")\n"
   ]
  },
  {
   "cell_type": "code",
   "execution_count": 73,
   "metadata": {},
   "outputs": [
    {
     "data": {
      "image/png": "[encoded data removed]",
      "text/plain": [
       "plot without title"
      ]
     },
     "metadata": {},
     "output_type": "display_data"
    }
   ],
   "source": [
    "xyplot(resamples, metric = \"ROC\")"
   ]
  },
  {
   "cell_type": "code",
   "execution_count": null,
   "metadata": {},
   "outputs": [],
   "source": [
    "# if you want to add another model \n",
    "install.packages(\"kernlab\")\n",
    "library(kernlab)\n",
    "\n",
    "# ADD SVM\n",
    "model_svm <- train(\n",
    "  x = X, \n",
    "  y = Y,\n",
    "  metric = \"ROC\",\n",
    "  method = \"svmLinear\",\n",
    "  trControl = myControl\n",
    ")\n",
    "\n",
    "model_list <- list(item1 = model_glmnet, item2 = model_rf, item3 = model_svm)\n",
    "\n",
    "# Pass model_list to resamples(): resamples\n",
    "resamples <- resamples(model_list)\n",
    "\n",
    "# Summarize the results\n",
    "summary(resamples)\n",
    "\n",
    "# Create ensemble model: stack\n",
    "# If you wanted to add extra models like svm \n",
    "stack <- caretStack(model_list, method = \"glm\")\n",
    "\n",
    "# Look at summary\n",
    "summary(stack)"
   ]
  }
 ],
 "metadata": {
  "kernelspec": {
   "display_name": "R",
   "language": "R",
   "name": "ir"
  },
  "language_info": {
   "codemirror_mode": "r",
   "file_extension": ".r",
   "mimetype": "text/x-r-source",
   "name": "R",
   "pygments_lexer": "r",
   "version": "3.6.1"
  }
 },
 "nbformat": 4,
 "nbformat_minor": 4
}
