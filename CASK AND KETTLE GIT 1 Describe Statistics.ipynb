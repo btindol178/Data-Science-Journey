{
 "cells": [
  {
   "cell_type": "code",
   "execution_count": 1,
   "metadata": {},
   "outputs": [],
   "source": [
    "import pandas as pd\n",
    "import numpy as np\n",
    "\n",
    "import matplotlib\n",
    "import matplotlib.pyplot as pp\n",
    "\n",
    "%matplotlib inline"
   ]
  },
  {
   "cell_type": "code",
   "execution_count": 2,
   "metadata": {},
   "outputs": [
    {
     "data": {
      "text/plain": [
       "'C:\\\\Users\\\\blake\\\\Python Learning Data Science\\\\Exercise file'"
      ]
     },
     "execution_count": 2,
     "metadata": {},
     "output_type": "execute_result"
    }
   ],
   "source": [
    "pwd"
   ]
  },
  {
   "cell_type": "code",
   "execution_count": 3,
   "metadata": {},
   "outputs": [
    {
     "name": "stdout",
     "output_type": "stream",
     "text": [
      "C:\\Users\\blake\\Python Learning Data Science\\Exercise file\n"
     ]
    }
   ],
   "source": [
    "cd C:\\Users\\blake\\Python Learning Data Science\\Exercise file"
   ]
  },
  {
   "cell_type": "code",
   "execution_count": 5,
   "metadata": {},
   "outputs": [],
   "source": [
    "cask = pd.read_csv('cask1.csv')"
   ]
  },
  {
   "cell_type": "code",
   "execution_count": 6,
   "metadata": {},
   "outputs": [
    {
     "data": {
      "text/html": [
       "<div>\n",
       "<style scoped>\n",
       "    .dataframe tbody tr th:only-of-type {\n",
       "        vertical-align: middle;\n",
       "    }\n",
       "\n",
       "    .dataframe tbody tr th {\n",
       "        vertical-align: top;\n",
       "    }\n",
       "\n",
       "    .dataframe thead th {\n",
       "        text-align: right;\n",
       "    }\n",
       "</style>\n",
       "<table border=\"1\" class=\"dataframe\">\n",
       "  <thead>\n",
       "    <tr style=\"text-align: right;\">\n",
       "      <th></th>\n",
       "      <th>Product</th>\n",
       "      <th>Mass</th>\n",
       "      <th>Diameter</th>\n",
       "      <th>Length</th>\n",
       "      <th>Time</th>\n",
       "      <th>Cost</th>\n",
       "      <th>Temperature</th>\n",
       "      <th>Quantity</th>\n",
       "      <th>Quality</th>\n",
       "    </tr>\n",
       "  </thead>\n",
       "  <tbody>\n",
       "    <tr>\n",
       "      <th>0</th>\n",
       "      <td>Product 1</td>\n",
       "      <td>0.5400</td>\n",
       "      <td>2.56</td>\n",
       "      <td>2.1</td>\n",
       "      <td>10.0</td>\n",
       "      <td>2000</td>\n",
       "      <td>110</td>\n",
       "      <td>1000</td>\n",
       "      <td>5</td>\n",
       "    </tr>\n",
       "    <tr>\n",
       "      <th>1</th>\n",
       "      <td>Product 2</td>\n",
       "      <td>0.5300</td>\n",
       "      <td>2.56</td>\n",
       "      <td>2.1</td>\n",
       "      <td>9.0</td>\n",
       "      <td>1900</td>\n",
       "      <td>110</td>\n",
       "      <td>1000</td>\n",
       "      <td>4</td>\n",
       "    </tr>\n",
       "    <tr>\n",
       "      <th>2</th>\n",
       "      <td>Product 3</td>\n",
       "      <td>0.5400</td>\n",
       "      <td>2.56</td>\n",
       "      <td>2.1</td>\n",
       "      <td>4.0</td>\n",
       "      <td>1000</td>\n",
       "      <td>110</td>\n",
       "      <td>1000</td>\n",
       "      <td>5</td>\n",
       "    </tr>\n",
       "    <tr>\n",
       "      <th>3</th>\n",
       "      <td>Product 4</td>\n",
       "      <td>0.5400</td>\n",
       "      <td>2.56</td>\n",
       "      <td>2.1</td>\n",
       "      <td>8.0</td>\n",
       "      <td>1800</td>\n",
       "      <td>110</td>\n",
       "      <td>1000</td>\n",
       "      <td>3</td>\n",
       "    </tr>\n",
       "    <tr>\n",
       "      <th>4</th>\n",
       "      <td>Product 5</td>\n",
       "      <td>0.5400</td>\n",
       "      <td>2.56</td>\n",
       "      <td>2.1</td>\n",
       "      <td>7.0</td>\n",
       "      <td>1700</td>\n",
       "      <td>110</td>\n",
       "      <td>1000</td>\n",
       "      <td>4</td>\n",
       "    </tr>\n",
       "    <tr>\n",
       "      <th>5</th>\n",
       "      <td>Product 6</td>\n",
       "      <td>0.5254</td>\n",
       "      <td>2.56</td>\n",
       "      <td>2.1</td>\n",
       "      <td>3.5</td>\n",
       "      <td>700</td>\n",
       "      <td>110</td>\n",
       "      <td>1000</td>\n",
       "      <td>5</td>\n",
       "    </tr>\n",
       "    <tr>\n",
       "      <th>6</th>\n",
       "      <td>Product 7</td>\n",
       "      <td>0.5400</td>\n",
       "      <td>2.56</td>\n",
       "      <td>2.1</td>\n",
       "      <td>5.5</td>\n",
       "      <td>1100</td>\n",
       "      <td>110</td>\n",
       "      <td>1000</td>\n",
       "      <td>4</td>\n",
       "    </tr>\n",
       "    <tr>\n",
       "      <th>7</th>\n",
       "      <td>Product 8</td>\n",
       "      <td>0.5100</td>\n",
       "      <td>2.56</td>\n",
       "      <td>2.1</td>\n",
       "      <td>7.5</td>\n",
       "      <td>1750</td>\n",
       "      <td>110</td>\n",
       "      <td>1000</td>\n",
       "      <td>5</td>\n",
       "    </tr>\n",
       "    <tr>\n",
       "      <th>8</th>\n",
       "      <td>Product 9</td>\n",
       "      <td>0.5000</td>\n",
       "      <td>2.56</td>\n",
       "      <td>2.1</td>\n",
       "      <td>8.0</td>\n",
       "      <td>1800</td>\n",
       "      <td>110</td>\n",
       "      <td>1000</td>\n",
       "      <td>5</td>\n",
       "    </tr>\n",
       "    <tr>\n",
       "      <th>9</th>\n",
       "      <td>Product 10</td>\n",
       "      <td>0.5400</td>\n",
       "      <td>2.56</td>\n",
       "      <td>2.1</td>\n",
       "      <td>10.0</td>\n",
       "      <td>2000</td>\n",
       "      <td>110</td>\n",
       "      <td>1000</td>\n",
       "      <td>5</td>\n",
       "    </tr>\n",
       "  </tbody>\n",
       "</table>\n",
       "</div>"
      ],
      "text/plain": [
       "    Product      Mass  Diameter  Length  Time   Cost  Temperature  Quantity  \\\n",
       "0   Product 1  0.5400      2.56     2.1   10.0  2000          110      1000   \n",
       "1   Product 2  0.5300      2.56     2.1    9.0  1900          110      1000   \n",
       "2   Product 3  0.5400      2.56     2.1    4.0  1000          110      1000   \n",
       "3   Product 4  0.5400      2.56     2.1    8.0  1800          110      1000   \n",
       "4   Product 5  0.5400      2.56     2.1    7.0  1700          110      1000   \n",
       "5   Product 6  0.5254      2.56     2.1    3.5   700          110      1000   \n",
       "6   Product 7  0.5400      2.56     2.1    5.5  1100          110      1000   \n",
       "7   Product 8  0.5100      2.56     2.1    7.5  1750          110      1000   \n",
       "8   Product 9  0.5000      2.56     2.1    8.0  1800          110      1000   \n",
       "9  Product 10  0.5400      2.56     2.1   10.0  2000          110      1000   \n",
       "\n",
       "   Quality  \n",
       "0        5  \n",
       "1        4  \n",
       "2        5  \n",
       "3        3  \n",
       "4        4  \n",
       "5        5  \n",
       "6        4  \n",
       "7        5  \n",
       "8        5  \n",
       "9        5  "
      ]
     },
     "execution_count": 6,
     "metadata": {},
     "output_type": "execute_result"
    }
   ],
   "source": [
    "cask"
   ]
  },
  {
   "cell_type": "code",
   "execution_count": 8,
   "metadata": {},
   "outputs": [],
   "source": [
    "\n",
    "cask = pd.read_csv('cask1.csv', usecols=[0,1,2,3])"
   ]
  },
  {
   "cell_type": "code",
   "execution_count": 9,
   "metadata": {},
   "outputs": [
    {
     "data": {
      "text/html": [
       "<div>\n",
       "<style scoped>\n",
       "    .dataframe tbody tr th:only-of-type {\n",
       "        vertical-align: middle;\n",
       "    }\n",
       "\n",
       "    .dataframe tbody tr th {\n",
       "        vertical-align: top;\n",
       "    }\n",
       "\n",
       "    .dataframe thead th {\n",
       "        text-align: right;\n",
       "    }\n",
       "</style>\n",
       "<table border=\"1\" class=\"dataframe\">\n",
       "  <thead>\n",
       "    <tr style=\"text-align: right;\">\n",
       "      <th></th>\n",
       "      <th>Product</th>\n",
       "      <th>Mass</th>\n",
       "      <th>Diameter</th>\n",
       "      <th>Length</th>\n",
       "    </tr>\n",
       "  </thead>\n",
       "  <tbody>\n",
       "    <tr>\n",
       "      <th>0</th>\n",
       "      <td>Product 1</td>\n",
       "      <td>0.5400</td>\n",
       "      <td>2.56</td>\n",
       "      <td>2.1</td>\n",
       "    </tr>\n",
       "    <tr>\n",
       "      <th>1</th>\n",
       "      <td>Product 2</td>\n",
       "      <td>0.5300</td>\n",
       "      <td>2.56</td>\n",
       "      <td>2.1</td>\n",
       "    </tr>\n",
       "    <tr>\n",
       "      <th>2</th>\n",
       "      <td>Product 3</td>\n",
       "      <td>0.5400</td>\n",
       "      <td>2.56</td>\n",
       "      <td>2.1</td>\n",
       "    </tr>\n",
       "    <tr>\n",
       "      <th>3</th>\n",
       "      <td>Product 4</td>\n",
       "      <td>0.5400</td>\n",
       "      <td>2.56</td>\n",
       "      <td>2.1</td>\n",
       "    </tr>\n",
       "    <tr>\n",
       "      <th>4</th>\n",
       "      <td>Product 5</td>\n",
       "      <td>0.5400</td>\n",
       "      <td>2.56</td>\n",
       "      <td>2.1</td>\n",
       "    </tr>\n",
       "    <tr>\n",
       "      <th>5</th>\n",
       "      <td>Product 6</td>\n",
       "      <td>0.5254</td>\n",
       "      <td>2.56</td>\n",
       "      <td>2.1</td>\n",
       "    </tr>\n",
       "    <tr>\n",
       "      <th>6</th>\n",
       "      <td>Product 7</td>\n",
       "      <td>0.5400</td>\n",
       "      <td>2.56</td>\n",
       "      <td>2.1</td>\n",
       "    </tr>\n",
       "    <tr>\n",
       "      <th>7</th>\n",
       "      <td>Product 8</td>\n",
       "      <td>0.5100</td>\n",
       "      <td>2.56</td>\n",
       "      <td>2.1</td>\n",
       "    </tr>\n",
       "    <tr>\n",
       "      <th>8</th>\n",
       "      <td>Product 9</td>\n",
       "      <td>0.5000</td>\n",
       "      <td>2.56</td>\n",
       "      <td>2.1</td>\n",
       "    </tr>\n",
       "    <tr>\n",
       "      <th>9</th>\n",
       "      <td>Product 10</td>\n",
       "      <td>0.5400</td>\n",
       "      <td>2.56</td>\n",
       "      <td>2.1</td>\n",
       "    </tr>\n",
       "  </tbody>\n",
       "</table>\n",
       "</div>"
      ],
      "text/plain": [
       "    Product      Mass  Diameter  Length\n",
       "0   Product 1  0.5400      2.56     2.1\n",
       "1   Product 2  0.5300      2.56     2.1\n",
       "2   Product 3  0.5400      2.56     2.1\n",
       "3   Product 4  0.5400      2.56     2.1\n",
       "4   Product 5  0.5400      2.56     2.1\n",
       "5   Product 6  0.5254      2.56     2.1\n",
       "6   Product 7  0.5400      2.56     2.1\n",
       "7   Product 8  0.5100      2.56     2.1\n",
       "8   Product 9  0.5000      2.56     2.1\n",
       "9  Product 10  0.5400      2.56     2.1"
      ]
     },
     "execution_count": 9,
     "metadata": {},
     "output_type": "execute_result"
    }
   ],
   "source": [
    "cask"
   ]
  },
  {
   "cell_type": "code",
   "execution_count": 10,
   "metadata": {},
   "outputs": [
    {
     "data": {
      "text/plain": [
       "0    0.5400\n",
       "1    0.5300\n",
       "2    0.5400\n",
       "3    0.5400\n",
       "4    0.5400\n",
       "5    0.5254\n",
       "6    0.5400\n",
       "7    0.5100\n",
       "8    0.5000\n",
       "9    0.5400\n",
       "Name: Mass, dtype: float64"
      ]
     },
     "execution_count": 10,
     "metadata": {},
     "output_type": "execute_result"
    }
   ],
   "source": [
    "cask['Mass'] # selecting just the Mass column"
   ]
  },
  {
   "cell_type": "code",
   "execution_count": 11,
   "metadata": {},
   "outputs": [
    {
     "data": {
      "text/plain": [
       "0    0.5400\n",
       "1    0.5300\n",
       "2    0.5400\n",
       "3    0.5400\n",
       "4    0.5400\n",
       "5    0.5254\n",
       "6    0.5400\n",
       "7    0.5100\n",
       "8    0.5000\n",
       "9    0.5400\n",
       "Name: Mass, dtype: float64"
      ]
     },
     "execution_count": 11,
     "metadata": {},
     "output_type": "execute_result"
    }
   ],
   "source": [
    "cask.Mass # same thing different method"
   ]
  },
  {
   "cell_type": "code",
   "execution_count": 12,
   "metadata": {},
   "outputs": [
    {
     "data": {
      "text/plain": [
       "RangeIndex(start=0, stop=10, step=1)"
      ]
     },
     "execution_count": 12,
     "metadata": {},
     "output_type": "execute_result"
    }
   ],
   "source": [
    "cask.index"
   ]
  },
  {
   "cell_type": "code",
   "execution_count": 20,
   "metadata": {},
   "outputs": [
    {
     "data": {
      "text/plain": [
       "Index(['Product  ', 'Mass', 'Diameter', 'Length'], dtype='object')"
      ]
     },
     "execution_count": 20,
     "metadata": {},
     "output_type": "execute_result"
    }
   ],
   "source": [
    "cask.columns"
   ]
  },
  {
   "cell_type": "code",
   "execution_count": 21,
   "metadata": {
    "scrolled": true
   },
   "outputs": [
    {
     "data": {
      "text/plain": [
       "<bound method DataFrame.info of     Product      Mass  Diameter  Length\n",
       "0   Product 1  0.5400      2.56     2.1\n",
       "1   Product 2  0.5300      2.56     2.1\n",
       "2   Product 3  0.5400      2.56     2.1\n",
       "3   Product 4  0.5400      2.56     2.1\n",
       "4   Product 5  0.5400      2.56     2.1\n",
       "5   Product 6  0.5254      2.56     2.1\n",
       "6   Product 7  0.5400      2.56     2.1\n",
       "7   Product 8  0.5100      2.56     2.1\n",
       "8   Product 9  0.5000      2.56     2.1\n",
       "9  Product 10  0.5400      2.56     2.1>"
      ]
     },
     "execution_count": 21,
     "metadata": {},
     "output_type": "execute_result"
    }
   ],
   "source": [
    "cask.info"
   ]
  },
  {
   "cell_type": "code",
   "execution_count": 23,
   "metadata": {},
   "outputs": [
    {
     "data": {
      "text/plain": [
       "<bound method DataFrame.min of     Product      Mass  Diameter  Length\n",
       "0   Product 1  0.5400      2.56     2.1\n",
       "1   Product 2  0.5300      2.56     2.1\n",
       "2   Product 3  0.5400      2.56     2.1\n",
       "3   Product 4  0.5400      2.56     2.1\n",
       "4   Product 5  0.5400      2.56     2.1\n",
       "5   Product 6  0.5254      2.56     2.1\n",
       "6   Product 7  0.5400      2.56     2.1\n",
       "7   Product 8  0.5100      2.56     2.1\n",
       "8   Product 9  0.5000      2.56     2.1\n",
       "9  Product 10  0.5400      2.56     2.1>"
      ]
     },
     "execution_count": 23,
     "metadata": {},
     "output_type": "execute_result"
    }
   ],
   "source": [
    "cask.min"
   ]
  },
  {
   "cell_type": "code",
   "execution_count": 24,
   "metadata": {},
   "outputs": [
    {
     "data": {
      "text/plain": [
       "<bound method DataFrame.max of     Product      Mass  Diameter  Length\n",
       "0   Product 1  0.5400      2.56     2.1\n",
       "1   Product 2  0.5300      2.56     2.1\n",
       "2   Product 3  0.5400      2.56     2.1\n",
       "3   Product 4  0.5400      2.56     2.1\n",
       "4   Product 5  0.5400      2.56     2.1\n",
       "5   Product 6  0.5254      2.56     2.1\n",
       "6   Product 7  0.5400      2.56     2.1\n",
       "7   Product 8  0.5100      2.56     2.1\n",
       "8   Product 9  0.5000      2.56     2.1\n",
       "9  Product 10  0.5400      2.56     2.1>"
      ]
     },
     "execution_count": 24,
     "metadata": {},
     "output_type": "execute_result"
    }
   ],
   "source": [
    "cask.max"
   ]
  },
  {
   "cell_type": "code",
   "execution_count": 25,
   "metadata": {},
   "outputs": [
    {
     "data": {
      "text/plain": [
       "Mass        0.53054\n",
       "Diameter    2.56000\n",
       "Length      2.10000\n",
       "dtype: float64"
      ]
     },
     "execution_count": 25,
     "metadata": {},
     "output_type": "execute_result"
    }
   ],
   "source": [
    "cask.mean() # gives the mean of each column"
   ]
  },
  {
   "cell_type": "code",
   "execution_count": 26,
   "metadata": {},
   "outputs": [
    {
     "data": {
      "text/plain": [
       "Mass        1.918244e-04\n",
       "Diameter    1.972152e-31\n",
       "Length      1.972152e-31\n",
       "dtype: float64"
      ]
     },
     "execution_count": 26,
     "metadata": {},
     "output_type": "execute_result"
    }
   ],
   "source": [
    "cask.var(ddof=0) # givies the variance of a column "
   ]
  },
  {
   "cell_type": "code",
   "execution_count": 29,
   "metadata": {},
   "outputs": [
    {
     "data": {
      "text/html": [
       "<div>\n",
       "<style scoped>\n",
       "    .dataframe tbody tr th:only-of-type {\n",
       "        vertical-align: middle;\n",
       "    }\n",
       "\n",
       "    .dataframe tbody tr th {\n",
       "        vertical-align: top;\n",
       "    }\n",
       "\n",
       "    .dataframe thead th {\n",
       "        text-align: right;\n",
       "    }\n",
       "</style>\n",
       "<table border=\"1\" class=\"dataframe\">\n",
       "  <thead>\n",
       "    <tr style=\"text-align: right;\">\n",
       "      <th></th>\n",
       "      <th>Mass</th>\n",
       "      <th>Diameter</th>\n",
       "      <th>Length</th>\n",
       "    </tr>\n",
       "  </thead>\n",
       "  <tbody>\n",
       "    <tr>\n",
       "      <th>0.25</th>\n",
       "      <td>0.52655</td>\n",
       "      <td>2.56</td>\n",
       "      <td>2.1</td>\n",
       "    </tr>\n",
       "    <tr>\n",
       "      <th>0.75</th>\n",
       "      <td>0.54000</td>\n",
       "      <td>2.56</td>\n",
       "      <td>2.1</td>\n",
       "    </tr>\n",
       "  </tbody>\n",
       "</table>\n",
       "</div>"
      ],
      "text/plain": [
       "         Mass  Diameter  Length\n",
       "0.25  0.52655      2.56     2.1\n",
       "0.75  0.54000      2.56     2.1"
      ]
     },
     "execution_count": 29,
     "metadata": {},
     "output_type": "execute_result"
    }
   ],
   "source": [
    "cask.quantile([0.25,0.75]) # gives 25th quantile and 75th quantile"
   ]
  },
  {
   "cell_type": "code",
   "execution_count": 30,
   "metadata": {},
   "outputs": [
    {
     "data": {
      "text/html": [
       "<div>\n",
       "<style scoped>\n",
       "    .dataframe tbody tr th:only-of-type {\n",
       "        vertical-align: middle;\n",
       "    }\n",
       "\n",
       "    .dataframe tbody tr th {\n",
       "        vertical-align: top;\n",
       "    }\n",
       "\n",
       "    .dataframe thead th {\n",
       "        text-align: right;\n",
       "    }\n",
       "</style>\n",
       "<table border=\"1\" class=\"dataframe\">\n",
       "  <thead>\n",
       "    <tr style=\"text-align: right;\">\n",
       "      <th></th>\n",
       "      <th>Mass</th>\n",
       "      <th>Diameter</th>\n",
       "      <th>Length</th>\n",
       "    </tr>\n",
       "  </thead>\n",
       "  <tbody>\n",
       "    <tr>\n",
       "      <th>0.5</th>\n",
       "      <td>0.54</td>\n",
       "      <td>2.56</td>\n",
       "      <td>2.1</td>\n",
       "    </tr>\n",
       "  </tbody>\n",
       "</table>\n",
       "</div>"
      ],
      "text/plain": [
       "     Mass  Diameter  Length\n",
       "0.5  0.54      2.56     2.1"
      ]
     },
     "execution_count": 30,
     "metadata": {},
     "output_type": "execute_result"
    }
   ],
   "source": [
    "cask.quantile([.5]) # this is the median"
   ]
  },
  {
   "cell_type": "code",
   "execution_count": 32,
   "metadata": {},
   "outputs": [
    {
     "ename": "NameError",
     "evalue": "name 'scipy' is not defined",
     "output_type": "error",
     "traceback": [
      "\u001b[1;31m---------------------------------------------------------------------------\u001b[0m",
      "\u001b[1;31mNameError\u001b[0m                                 Traceback (most recent call last)",
      "\u001b[1;32m<ipython-input-32-c897d0eed6e7>\u001b[0m in \u001b[0;36m<module>\u001b[1;34m\u001b[0m\n\u001b[1;32m----> 1\u001b[1;33m \u001b[0mscipy\u001b[0m\u001b[1;33m.\u001b[0m\u001b[0mstats\u001b[0m\u001b[1;33m.\u001b[0m\u001b[0mpercentileofscore\u001b[0m\u001b[1;33m(\u001b[0m\u001b[0mcask\u001b[0m\u001b[1;33m.\u001b[0m\u001b[0mMass\u001b[0m\u001b[1;33m,\u001b[0m\u001b[1;36m25\u001b[0m\u001b[1;33m)\u001b[0m\u001b[1;33m\u001b[0m\u001b[1;33m\u001b[0m\u001b[0m\n\u001b[0m",
      "\u001b[1;31mNameError\u001b[0m: name 'scipy' is not defined"
     ]
    }
   ],
   "source": [
    "scipy.stats.percentileofscore(cask.Mass,25) # gives percentile of score but not for this small of number"
   ]
  },
  {
   "cell_type": "code",
   "execution_count": 33,
   "metadata": {},
   "outputs": [
    {
     "data": {
      "text/html": [
       "<div>\n",
       "<style scoped>\n",
       "    .dataframe tbody tr th:only-of-type {\n",
       "        vertical-align: middle;\n",
       "    }\n",
       "\n",
       "    .dataframe tbody tr th {\n",
       "        vertical-align: top;\n",
       "    }\n",
       "\n",
       "    .dataframe thead th {\n",
       "        text-align: right;\n",
       "    }\n",
       "</style>\n",
       "<table border=\"1\" class=\"dataframe\">\n",
       "  <thead>\n",
       "    <tr style=\"text-align: right;\">\n",
       "      <th></th>\n",
       "      <th>Mass</th>\n",
       "      <th>Diameter</th>\n",
       "      <th>Length</th>\n",
       "    </tr>\n",
       "  </thead>\n",
       "  <tbody>\n",
       "    <tr>\n",
       "      <th>count</th>\n",
       "      <td>10.000000</td>\n",
       "      <td>1.000000e+01</td>\n",
       "      <td>1.000000e+01</td>\n",
       "    </tr>\n",
       "    <tr>\n",
       "      <th>mean</th>\n",
       "      <td>0.530540</td>\n",
       "      <td>2.560000e+00</td>\n",
       "      <td>2.100000e+00</td>\n",
       "    </tr>\n",
       "    <tr>\n",
       "      <th>std</th>\n",
       "      <td>0.014599</td>\n",
       "      <td>4.681111e-16</td>\n",
       "      <td>4.681111e-16</td>\n",
       "    </tr>\n",
       "    <tr>\n",
       "      <th>min</th>\n",
       "      <td>0.500000</td>\n",
       "      <td>2.560000e+00</td>\n",
       "      <td>2.100000e+00</td>\n",
       "    </tr>\n",
       "    <tr>\n",
       "      <th>25%</th>\n",
       "      <td>0.526550</td>\n",
       "      <td>2.560000e+00</td>\n",
       "      <td>2.100000e+00</td>\n",
       "    </tr>\n",
       "    <tr>\n",
       "      <th>50%</th>\n",
       "      <td>0.540000</td>\n",
       "      <td>2.560000e+00</td>\n",
       "      <td>2.100000e+00</td>\n",
       "    </tr>\n",
       "    <tr>\n",
       "      <th>75%</th>\n",
       "      <td>0.540000</td>\n",
       "      <td>2.560000e+00</td>\n",
       "      <td>2.100000e+00</td>\n",
       "    </tr>\n",
       "    <tr>\n",
       "      <th>max</th>\n",
       "      <td>0.540000</td>\n",
       "      <td>2.560000e+00</td>\n",
       "      <td>2.100000e+00</td>\n",
       "    </tr>\n",
       "  </tbody>\n",
       "</table>\n",
       "</div>"
      ],
      "text/plain": [
       "            Mass      Diameter        Length\n",
       "count  10.000000  1.000000e+01  1.000000e+01\n",
       "mean    0.530540  2.560000e+00  2.100000e+00\n",
       "std     0.014599  4.681111e-16  4.681111e-16\n",
       "min     0.500000  2.560000e+00  2.100000e+00\n",
       "25%     0.526550  2.560000e+00  2.100000e+00\n",
       "50%     0.540000  2.560000e+00  2.100000e+00\n",
       "75%     0.540000  2.560000e+00  2.100000e+00\n",
       "max     0.540000  2.560000e+00  2.100000e+00"
      ]
     },
     "execution_count": 33,
     "metadata": {},
     "output_type": "execute_result"
    }
   ],
   "source": [
    "cask.describe() # this gives alot of different statistics about our data!"
   ]
  },
  {
   "cell_type": "code",
   "execution_count": null,
   "metadata": {},
   "outputs": [],
   "source": []
  }
 ],
 "metadata": {
  "kernelspec": {
   "display_name": "Python 3",
   "language": "python",
   "name": "python3"
  },
  "language_info": {
   "codemirror_mode": {
    "name": "ipython",
    "version": 3
   },
   "file_extension": ".py",
   "mimetype": "text/x-python",
   "name": "python",
   "nbconvert_exporter": "python",
   "pygments_lexer": "ipython3",
   "version": "3.7.1"
  }
 },
 "nbformat": 4,
 "nbformat_minor": 2
}
