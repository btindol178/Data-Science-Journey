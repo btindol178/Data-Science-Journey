{
 "cells": [
  {
   "cell_type": "markdown",
   "metadata": {},
   "source": [
    "# We have 2 machines, machine 2 is new. The objective is to compare the pressure yield between different samples (Using T Value Method) Higher pressure yield signifys a better sealed cup to protect agains damages when dropping.\n",
    "t - value = (sigmal/noise) = (Difference between the means/variability of group)\n",
    "formula = [X1-X2]/sqrt((s1^2/n1)/(s2^2/n2))\n",
    "\n",
    "# T test is applied when \n",
    " population standard deviation is not available \n",
    " n is less than 30"
   ]
  },
  {
   "cell_type": "code",
   "execution_count": 45,
   "metadata": {},
   "outputs": [],
   "source": [
    "import pandas as pd\n",
    "import numpy as np\n",
    "import math\n",
    "from scipy.stats import ttest_ind\n"
   ]
  },
  {
   "cell_type": "code",
   "execution_count": 46,
   "metadata": {},
   "outputs": [],
   "source": [
    "# im porting data set of two different machines presure per cup at sealing time\n",
    "\n",
    "df=pd.read_csv('machine2.csv')"
   ]
  },
  {
   "cell_type": "code",
   "execution_count": 47,
   "metadata": {},
   "outputs": [
    {
     "data": {
      "text/html": [
       "<div>\n",
       "<style scoped>\n",
       "    .dataframe tbody tr th:only-of-type {\n",
       "        vertical-align: middle;\n",
       "    }\n",
       "\n",
       "    .dataframe tbody tr th {\n",
       "        vertical-align: top;\n",
       "    }\n",
       "\n",
       "    .dataframe thead th {\n",
       "        text-align: right;\n",
       "    }\n",
       "</style>\n",
       "<table border=\"1\" class=\"dataframe\">\n",
       "  <thead>\n",
       "    <tr style=\"text-align: right;\">\n",
       "      <th></th>\n",
       "      <th>M1</th>\n",
       "      <th>M2</th>\n",
       "    </tr>\n",
       "  </thead>\n",
       "  <tbody>\n",
       "    <tr>\n",
       "      <th>0</th>\n",
       "      <td>4.889976</td>\n",
       "      <td>4.572928</td>\n",
       "    </tr>\n",
       "    <tr>\n",
       "      <th>1</th>\n",
       "      <td>4.799092</td>\n",
       "      <td>4.947915</td>\n",
       "    </tr>\n",
       "    <tr>\n",
       "      <th>2</th>\n",
       "      <td>4.816690</td>\n",
       "      <td>4.393495</td>\n",
       "    </tr>\n",
       "    <tr>\n",
       "      <th>3</th>\n",
       "      <td>4.975921</td>\n",
       "      <td>4.740863</td>\n",
       "    </tr>\n",
       "    <tr>\n",
       "      <th>4</th>\n",
       "      <td>4.935760</td>\n",
       "      <td>4.470380</td>\n",
       "    </tr>\n",
       "  </tbody>\n",
       "</table>\n",
       "</div>"
      ],
      "text/plain": [
       "         M1        M2\n",
       "0  4.889976  4.572928\n",
       "1  4.799092  4.947915\n",
       "2  4.816690  4.393495\n",
       "3  4.975921  4.740863\n",
       "4  4.935760  4.470380"
      ]
     },
     "execution_count": 47,
     "metadata": {},
     "output_type": "execute_result"
    }
   ],
   "source": [
    "df.head()\n"
   ]
  },
  {
   "cell_type": "code",
   "execution_count": 48,
   "metadata": {},
   "outputs": [
    {
     "name": "stdout",
     "output_type": "stream",
     "text": [
      " Mean value of Machine 1 is 4.688968957777778 \n",
      " Mean value of Machine 2 is 4.660185722055555 \n"
     ]
    }
   ],
   "source": [
    "M1_mean = np.mean(df.M1)\n",
    "M2_mean = np.mean(df.M2)\n",
    "\n",
    "print(\" Mean value of Machine 1 is {0} \\n Mean value of Machine 2 is {1} \".format(M1_mean,M2_mean))"
   ]
  },
  {
   "cell_type": "code",
   "execution_count": 49,
   "metadata": {},
   "outputs": [
    {
     "name": "stdout",
     "output_type": "stream",
     "text": [
      " Standard deviation of Machine 1 is 0.28054224252113125 \n",
      " Standard deviation of Machine 2 is 0.32158838062735556 \n"
     ]
    }
   ],
   "source": [
    "M1_std = np.std(df.M1)\n",
    "M2_std = np.std(df.M2)\n",
    "\n",
    "print(\" Standard deviation of Machine 1 is {0} \\n Standard deviation of Machine 2 is {1} \".format(M1_std,M2_std))"
   ]
  },
  {
   "cell_type": "code",
   "execution_count": 50,
   "metadata": {},
   "outputs": [
    {
     "name": "stdout",
     "output_type": "stream",
     "text": [
      " Variance of Machine 1 is 0.07870394983878522 \n",
      " Variance of Machine 2 is 0.10341908655452492 \n"
     ]
    }
   ],
   "source": [
    "M1_var = M1_std*M1_std\n",
    "M2_var = M2_std*M2_std\n",
    "print(\" Variance of Machine 1 is {0} \\n Variance of Machine 2 is {1} \".format(M1_var,M2_var))"
   ]
  },
  {
   "cell_type": "code",
   "execution_count": 51,
   "metadata": {},
   "outputs": [],
   "source": [
    "n1=len(df.M1)\n",
    "n2=len(df.M2)"
   ]
  },
  {
   "cell_type": "code",
   "execution_count": 52,
   "metadata": {},
   "outputs": [
    {
     "name": "stdout",
     "output_type": "stream",
     "text": [
      "T - value is  0.28614978620552217\n"
     ]
    }
   ],
   "source": [
    "t_value = abs(M1_mean-M2_mean)/math.sqrt((M1_var/n1)+(M2_var/n2))\n",
    "print(\"T - value is \", t_value)"
   ]
  },
  {
   "cell_type": "code",
   "execution_count": null,
   "metadata": {},
   "outputs": [],
   "source": []
  },
  {
   "cell_type": "markdown",
   "metadata": {},
   "source": [
    "H0 (Null hypothesis) - No statistical difference between the samples\n",
    "H1 (Alternative hypothesis) - Exists a statistical difference between the samples\n",
    "\n",
    "If our t-value is less than critical -- fail to reject the null hypothesis\n",
    "If our t-value is more than critical -- reject the null hypothesis.\n",
    "\n",
    "# Finding the critical value\n",
    "1) refer table for DF at rows and columns as significance (P value)\n",
    "\n",
    "In our case we have 19 data points, 2 variable. So df is 19-2-17.\n",
    "Mostly used/ tested significance is .05 our case is two tailed and critical value is 2.093\n",
    "Calculated T value is .2861497 which is less than so fail to rejet null hypothesis.\n",
    "\n",
    "Conclusion\n",
    "\"There is no significant difference between machines\"\n",
    "The new machine shows no significant increase in pressure yield which means no significant protection when cup is dropped.\n",
    "If we were to buy 10 more machines we would buy older model that is similar to machine 1 which is less expensive and has similar protective properites. "
   ]
  },
  {
   "cell_type": "code",
   "execution_count": null,
   "metadata": {},
   "outputs": [],
   "source": []
  }
 ],
 "metadata": {
  "kernelspec": {
   "display_name": "Python 3",
   "language": "python",
   "name": "python3"
  },
  "language_info": {
   "codemirror_mode": {
    "name": "ipython",
    "version": 3
   },
   "file_extension": ".py",
   "mimetype": "text/x-python",
   "name": "python",
   "nbconvert_exporter": "python",
   "pygments_lexer": "ipython3",
   "version": "3.7.1"
  }
 },
 "nbformat": 4,
 "nbformat_minor": 2
}
